{
  "nbformat": 4,
  "nbformat_minor": 0,
  "metadata": {
    "colab": {
      "provenance": [],
      "toc_visible": true
    },
    "kernelspec": {
      "name": "python3",
      "display_name": "Python 3"
    },
    "language_info": {
      "name": "python"
    }
  },
  "cells": [
    {
      "cell_type": "markdown",
      "metadata": {
        "id": "Q1fMwTxIi9dX"
      },
      "source": [
        "#Content\n",
        "\n",
        "### Linear Regression - 3\n",
        "\n",
        "- How feature scaling helps easier model training\n",
        "\n",
        "- Adjusted R-squared\n",
        " - [Calculate adjusted R-squared](https://www.scaler.com/hire/test/problem/24123/)\n",
        "\n",
        "\n",
        "- Intro to Statsmodel\n",
        "\n",
        "- Assumption of Linear Regression\n",
        "  - Assumption of Linearity\n",
        "\n",
        "***\n",
        "\n",
        "### Linear Regression - 4\n",
        "\n",
        "- Assumption of Linear Regression\n",
        "  - Features are not multi-Collinear\n",
        "   - Collinearity\n",
        "   - Multi-Collinearity\n",
        "   - [Performance with Multicollinearity](https://www.scaler.com/hire/test/problem/24134/)\n",
        "   - [VIF](https://www.scaler.com/hire/test/problem/24314/)\n",
        "   - [Multicollinearity and VIF](https://www.scaler.com/hire/test/problem/24316/)\n",
        "   - [Features of Linear Regression](https://www.scaler.com/hire/test/problem/16166/)\n",
        "  - Errors are normally Distributed\n",
        "    - [Interpreting Outliers](https://www.scaler.com/hire/test/problem/24135/)\n",
        "  - Heteroskedasticity should not exist\n",
        "    - [Residual Interpretation](https://www.scaler.com/hire/test/problem/16183/)\n",
        "    - [Heteroskedasticity](https://www.scaler.com/hire/test/problem/18068/)\n",
        "    - [Increasing residuals](https://www.scaler.com/hire/test/problem/33190/)\n",
        "  - No Autocorrelation\n"
      ]
    },
    {
      "cell_type": "markdown",
      "source": [
        "\n",
        "<img src='https://drive.google.com/uc?id=1U8ug6WcpNoF1-V2VDUzBk12EHpleDh6l' width=800>\n"
      ],
      "metadata": {
        "id": "_ZirmD52Vnjd"
      }
    },
    {
      "cell_type": "markdown",
      "source": [
        "## Model fitting from previous lecture"
      ],
      "metadata": {
        "id": "qXnqaWmkpDnH"
      }
    },
    {
      "cell_type": "code",
      "execution_count": null,
      "metadata": {
        "id": "49spn9EhihUg"
      },
      "outputs": [],
      "source": [
        "import numpy as np\n",
        "import pandas as pd\n",
        "import matplotlib.pyplot as plt"
      ]
    },
    {
      "cell_type": "markdown",
      "source": [
        "### Loading data"
      ],
      "metadata": {
        "id": "b1-pKfKvpAzN"
      }
    },
    {
      "cell_type": "code",
      "source": [
        "!gdown 1bwRmKkPwmLKiqOgQ_LnKH0Vsc3mJKmVR"
      ],
      "metadata": {
        "colab": {
          "base_uri": "https://localhost:8080/"
        },
        "id": "xhW-Bmxs7oV6",
        "outputId": "f02660c2-4926-4396-c077-3e554157be34"
      },
      "execution_count": null,
      "outputs": [
        {
          "output_type": "stream",
          "name": "stdout",
          "text": [
            "Downloading...\n",
            "From: https://drive.google.com/uc?id=1bwRmKkPwmLKiqOgQ_LnKH0Vsc3mJKmVR\n",
            "To: /content/cars24-car-price-cleaned.csv\n",
            "\r  0% 0.00/1.69M [00:00<?, ?B/s]\r100% 1.69M/1.69M [00:00<00:00, 119MB/s]\n"
          ]
        }
      ]
    },
    {
      "cell_type": "code",
      "source": [
        "df = pd.read_csv('cars24-car-price-cleaned.csv')\n",
        "\n",
        "df['make'] = df.groupby('make')['selling_price'].transform('mean')\n",
        "df['model'] = df.groupby('model')['selling_price'].transform('mean')\n",
        "df.head()"
      ],
      "metadata": {
        "colab": {
          "base_uri": "https://localhost:8080/",
          "height": 244
        },
        "id": "eGflUoqQ2pbm",
        "outputId": "18ba7526-e23f-4917-aae1-1632db74f85b"
      },
      "execution_count": null,
      "outputs": [
        {
          "output_type": "execute_result",
          "data": {
            "text/plain": [
              "   selling_price    year  km_driven  mileage  engine  max_power   age  \\\n",
              "0           1.20  2012.0     120000    19.70   796.0      46.30  11.0   \n",
              "1           5.50  2016.0      20000    18.90  1197.0      82.00   7.0   \n",
              "2           2.15  2010.0      60000    17.00  1197.0      80.00  13.0   \n",
              "3           2.26  2012.0      37000    20.92   998.0      67.10  11.0   \n",
              "4           5.70  2015.0      30000    22.77  1498.0      98.59   8.0   \n",
              "\n",
              "       make     model  Individual  Trustmark Dealer  Diesel  Electric  LPG  \\\n",
              "0  4.684721  1.180000           1                 0       0         0    0   \n",
              "1  5.458819  4.818750           1                 0       0         0    0   \n",
              "2  5.458819  3.394000           1                 0       0         0    0   \n",
              "3  4.684721  2.242676           1                 0       0         0    0   \n",
              "4  5.858258  6.777576           0                 0       1         0    0   \n",
              "\n",
              "   Petrol  Manual  5  >5  \n",
              "0       1       1  1   0  \n",
              "1       1       1  1   0  \n",
              "2       1       1  1   0  \n",
              "3       1       1  1   0  \n",
              "4       0       1  1   0  "
            ],
            "text/html": [
              "\n",
              "  <div id=\"df-991fbda9-2632-4d9c-b46f-7ccf6cbfd5f9\" class=\"colab-df-container\">\n",
              "    <div>\n",
              "<style scoped>\n",
              "    .dataframe tbody tr th:only-of-type {\n",
              "        vertical-align: middle;\n",
              "    }\n",
              "\n",
              "    .dataframe tbody tr th {\n",
              "        vertical-align: top;\n",
              "    }\n",
              "\n",
              "    .dataframe thead th {\n",
              "        text-align: right;\n",
              "    }\n",
              "</style>\n",
              "<table border=\"1\" class=\"dataframe\">\n",
              "  <thead>\n",
              "    <tr style=\"text-align: right;\">\n",
              "      <th></th>\n",
              "      <th>selling_price</th>\n",
              "      <th>year</th>\n",
              "      <th>km_driven</th>\n",
              "      <th>mileage</th>\n",
              "      <th>engine</th>\n",
              "      <th>max_power</th>\n",
              "      <th>age</th>\n",
              "      <th>make</th>\n",
              "      <th>model</th>\n",
              "      <th>Individual</th>\n",
              "      <th>Trustmark Dealer</th>\n",
              "      <th>Diesel</th>\n",
              "      <th>Electric</th>\n",
              "      <th>LPG</th>\n",
              "      <th>Petrol</th>\n",
              "      <th>Manual</th>\n",
              "      <th>5</th>\n",
              "      <th>&gt;5</th>\n",
              "    </tr>\n",
              "  </thead>\n",
              "  <tbody>\n",
              "    <tr>\n",
              "      <th>0</th>\n",
              "      <td>1.20</td>\n",
              "      <td>2012.0</td>\n",
              "      <td>120000</td>\n",
              "      <td>19.70</td>\n",
              "      <td>796.0</td>\n",
              "      <td>46.30</td>\n",
              "      <td>11.0</td>\n",
              "      <td>4.684721</td>\n",
              "      <td>1.180000</td>\n",
              "      <td>1</td>\n",
              "      <td>0</td>\n",
              "      <td>0</td>\n",
              "      <td>0</td>\n",
              "      <td>0</td>\n",
              "      <td>1</td>\n",
              "      <td>1</td>\n",
              "      <td>1</td>\n",
              "      <td>0</td>\n",
              "    </tr>\n",
              "    <tr>\n",
              "      <th>1</th>\n",
              "      <td>5.50</td>\n",
              "      <td>2016.0</td>\n",
              "      <td>20000</td>\n",
              "      <td>18.90</td>\n",
              "      <td>1197.0</td>\n",
              "      <td>82.00</td>\n",
              "      <td>7.0</td>\n",
              "      <td>5.458819</td>\n",
              "      <td>4.818750</td>\n",
              "      <td>1</td>\n",
              "      <td>0</td>\n",
              "      <td>0</td>\n",
              "      <td>0</td>\n",
              "      <td>0</td>\n",
              "      <td>1</td>\n",
              "      <td>1</td>\n",
              "      <td>1</td>\n",
              "      <td>0</td>\n",
              "    </tr>\n",
              "    <tr>\n",
              "      <th>2</th>\n",
              "      <td>2.15</td>\n",
              "      <td>2010.0</td>\n",
              "      <td>60000</td>\n",
              "      <td>17.00</td>\n",
              "      <td>1197.0</td>\n",
              "      <td>80.00</td>\n",
              "      <td>13.0</td>\n",
              "      <td>5.458819</td>\n",
              "      <td>3.394000</td>\n",
              "      <td>1</td>\n",
              "      <td>0</td>\n",
              "      <td>0</td>\n",
              "      <td>0</td>\n",
              "      <td>0</td>\n",
              "      <td>1</td>\n",
              "      <td>1</td>\n",
              "      <td>1</td>\n",
              "      <td>0</td>\n",
              "    </tr>\n",
              "    <tr>\n",
              "      <th>3</th>\n",
              "      <td>2.26</td>\n",
              "      <td>2012.0</td>\n",
              "      <td>37000</td>\n",
              "      <td>20.92</td>\n",
              "      <td>998.0</td>\n",
              "      <td>67.10</td>\n",
              "      <td>11.0</td>\n",
              "      <td>4.684721</td>\n",
              "      <td>2.242676</td>\n",
              "      <td>1</td>\n",
              "      <td>0</td>\n",
              "      <td>0</td>\n",
              "      <td>0</td>\n",
              "      <td>0</td>\n",
              "      <td>1</td>\n",
              "      <td>1</td>\n",
              "      <td>1</td>\n",
              "      <td>0</td>\n",
              "    </tr>\n",
              "    <tr>\n",
              "      <th>4</th>\n",
              "      <td>5.70</td>\n",
              "      <td>2015.0</td>\n",
              "      <td>30000</td>\n",
              "      <td>22.77</td>\n",
              "      <td>1498.0</td>\n",
              "      <td>98.59</td>\n",
              "      <td>8.0</td>\n",
              "      <td>5.858258</td>\n",
              "      <td>6.777576</td>\n",
              "      <td>0</td>\n",
              "      <td>0</td>\n",
              "      <td>1</td>\n",
              "      <td>0</td>\n",
              "      <td>0</td>\n",
              "      <td>0</td>\n",
              "      <td>1</td>\n",
              "      <td>1</td>\n",
              "      <td>0</td>\n",
              "    </tr>\n",
              "  </tbody>\n",
              "</table>\n",
              "</div>\n",
              "    <div class=\"colab-df-buttons\">\n",
              "\n",
              "  <div class=\"colab-df-container\">\n",
              "    <button class=\"colab-df-convert\" onclick=\"convertToInteractive('df-991fbda9-2632-4d9c-b46f-7ccf6cbfd5f9')\"\n",
              "            title=\"Convert this dataframe to an interactive table.\"\n",
              "            style=\"display:none;\">\n",
              "\n",
              "  <svg xmlns=\"http://www.w3.org/2000/svg\" height=\"24px\" viewBox=\"0 -960 960 960\">\n",
              "    <path d=\"M120-120v-720h720v720H120Zm60-500h600v-160H180v160Zm220 220h160v-160H400v160Zm0 220h160v-160H400v160ZM180-400h160v-160H180v160Zm440 0h160v-160H620v160ZM180-180h160v-160H180v160Zm440 0h160v-160H620v160Z\"/>\n",
              "  </svg>\n",
              "    </button>\n",
              "\n",
              "  <style>\n",
              "    .colab-df-container {\n",
              "      display:flex;\n",
              "      gap: 12px;\n",
              "    }\n",
              "\n",
              "    .colab-df-convert {\n",
              "      background-color: #E8F0FE;\n",
              "      border: none;\n",
              "      border-radius: 50%;\n",
              "      cursor: pointer;\n",
              "      display: none;\n",
              "      fill: #1967D2;\n",
              "      height: 32px;\n",
              "      padding: 0 0 0 0;\n",
              "      width: 32px;\n",
              "    }\n",
              "\n",
              "    .colab-df-convert:hover {\n",
              "      background-color: #E2EBFA;\n",
              "      box-shadow: 0px 1px 2px rgba(60, 64, 67, 0.3), 0px 1px 3px 1px rgba(60, 64, 67, 0.15);\n",
              "      fill: #174EA6;\n",
              "    }\n",
              "\n",
              "    .colab-df-buttons div {\n",
              "      margin-bottom: 4px;\n",
              "    }\n",
              "\n",
              "    [theme=dark] .colab-df-convert {\n",
              "      background-color: #3B4455;\n",
              "      fill: #D2E3FC;\n",
              "    }\n",
              "\n",
              "    [theme=dark] .colab-df-convert:hover {\n",
              "      background-color: #434B5C;\n",
              "      box-shadow: 0px 1px 3px 1px rgba(0, 0, 0, 0.15);\n",
              "      filter: drop-shadow(0px 1px 2px rgba(0, 0, 0, 0.3));\n",
              "      fill: #FFFFFF;\n",
              "    }\n",
              "  </style>\n",
              "\n",
              "    <script>\n",
              "      const buttonEl =\n",
              "        document.querySelector('#df-991fbda9-2632-4d9c-b46f-7ccf6cbfd5f9 button.colab-df-convert');\n",
              "      buttonEl.style.display =\n",
              "        google.colab.kernel.accessAllowed ? 'block' : 'none';\n",
              "\n",
              "      async function convertToInteractive(key) {\n",
              "        const element = document.querySelector('#df-991fbda9-2632-4d9c-b46f-7ccf6cbfd5f9');\n",
              "        const dataTable =\n",
              "          await google.colab.kernel.invokeFunction('convertToInteractive',\n",
              "                                                    [key], {});\n",
              "        if (!dataTable) return;\n",
              "\n",
              "        const docLinkHtml = 'Like what you see? Visit the ' +\n",
              "          '<a target=\"_blank\" href=https://colab.research.google.com/notebooks/data_table.ipynb>data table notebook</a>'\n",
              "          + ' to learn more about interactive tables.';\n",
              "        element.innerHTML = '';\n",
              "        dataTable['output_type'] = 'display_data';\n",
              "        await google.colab.output.renderOutput(dataTable, element);\n",
              "        const docLink = document.createElement('div');\n",
              "        docLink.innerHTML = docLinkHtml;\n",
              "        element.appendChild(docLink);\n",
              "      }\n",
              "    </script>\n",
              "  </div>\n",
              "\n",
              "\n",
              "<div id=\"df-1c0f4ac3-1dfa-467c-9771-7da0a5606c6f\">\n",
              "  <button class=\"colab-df-quickchart\" onclick=\"quickchart('df-1c0f4ac3-1dfa-467c-9771-7da0a5606c6f')\"\n",
              "            title=\"Suggest charts\"\n",
              "            style=\"display:none;\">\n",
              "\n",
              "<svg xmlns=\"http://www.w3.org/2000/svg\" height=\"24px\"viewBox=\"0 0 24 24\"\n",
              "     width=\"24px\">\n",
              "    <g>\n",
              "        <path d=\"M19 3H5c-1.1 0-2 .9-2 2v14c0 1.1.9 2 2 2h14c1.1 0 2-.9 2-2V5c0-1.1-.9-2-2-2zM9 17H7v-7h2v7zm4 0h-2V7h2v10zm4 0h-2v-4h2v4z\"/>\n",
              "    </g>\n",
              "</svg>\n",
              "  </button>\n",
              "\n",
              "<style>\n",
              "  .colab-df-quickchart {\n",
              "      --bg-color: #E8F0FE;\n",
              "      --fill-color: #1967D2;\n",
              "      --hover-bg-color: #E2EBFA;\n",
              "      --hover-fill-color: #174EA6;\n",
              "      --disabled-fill-color: #AAA;\n",
              "      --disabled-bg-color: #DDD;\n",
              "  }\n",
              "\n",
              "  [theme=dark] .colab-df-quickchart {\n",
              "      --bg-color: #3B4455;\n",
              "      --fill-color: #D2E3FC;\n",
              "      --hover-bg-color: #434B5C;\n",
              "      --hover-fill-color: #FFFFFF;\n",
              "      --disabled-bg-color: #3B4455;\n",
              "      --disabled-fill-color: #666;\n",
              "  }\n",
              "\n",
              "  .colab-df-quickchart {\n",
              "    background-color: var(--bg-color);\n",
              "    border: none;\n",
              "    border-radius: 50%;\n",
              "    cursor: pointer;\n",
              "    display: none;\n",
              "    fill: var(--fill-color);\n",
              "    height: 32px;\n",
              "    padding: 0;\n",
              "    width: 32px;\n",
              "  }\n",
              "\n",
              "  .colab-df-quickchart:hover {\n",
              "    background-color: var(--hover-bg-color);\n",
              "    box-shadow: 0 1px 2px rgba(60, 64, 67, 0.3), 0 1px 3px 1px rgba(60, 64, 67, 0.15);\n",
              "    fill: var(--button-hover-fill-color);\n",
              "  }\n",
              "\n",
              "  .colab-df-quickchart-complete:disabled,\n",
              "  .colab-df-quickchart-complete:disabled:hover {\n",
              "    background-color: var(--disabled-bg-color);\n",
              "    fill: var(--disabled-fill-color);\n",
              "    box-shadow: none;\n",
              "  }\n",
              "\n",
              "  .colab-df-spinner {\n",
              "    border: 2px solid var(--fill-color);\n",
              "    border-color: transparent;\n",
              "    border-bottom-color: var(--fill-color);\n",
              "    animation:\n",
              "      spin 1s steps(1) infinite;\n",
              "  }\n",
              "\n",
              "  @keyframes spin {\n",
              "    0% {\n",
              "      border-color: transparent;\n",
              "      border-bottom-color: var(--fill-color);\n",
              "      border-left-color: var(--fill-color);\n",
              "    }\n",
              "    20% {\n",
              "      border-color: transparent;\n",
              "      border-left-color: var(--fill-color);\n",
              "      border-top-color: var(--fill-color);\n",
              "    }\n",
              "    30% {\n",
              "      border-color: transparent;\n",
              "      border-left-color: var(--fill-color);\n",
              "      border-top-color: var(--fill-color);\n",
              "      border-right-color: var(--fill-color);\n",
              "    }\n",
              "    40% {\n",
              "      border-color: transparent;\n",
              "      border-right-color: var(--fill-color);\n",
              "      border-top-color: var(--fill-color);\n",
              "    }\n",
              "    60% {\n",
              "      border-color: transparent;\n",
              "      border-right-color: var(--fill-color);\n",
              "    }\n",
              "    80% {\n",
              "      border-color: transparent;\n",
              "      border-right-color: var(--fill-color);\n",
              "      border-bottom-color: var(--fill-color);\n",
              "    }\n",
              "    90% {\n",
              "      border-color: transparent;\n",
              "      border-bottom-color: var(--fill-color);\n",
              "    }\n",
              "  }\n",
              "</style>\n",
              "\n",
              "  <script>\n",
              "    async function quickchart(key) {\n",
              "      const quickchartButtonEl =\n",
              "        document.querySelector('#' + key + ' button');\n",
              "      quickchartButtonEl.disabled = true;  // To prevent multiple clicks.\n",
              "      quickchartButtonEl.classList.add('colab-df-spinner');\n",
              "      try {\n",
              "        const charts = await google.colab.kernel.invokeFunction(\n",
              "            'suggestCharts', [key], {});\n",
              "      } catch (error) {\n",
              "        console.error('Error during call to suggestCharts:', error);\n",
              "      }\n",
              "      quickchartButtonEl.classList.remove('colab-df-spinner');\n",
              "      quickchartButtonEl.classList.add('colab-df-quickchart-complete');\n",
              "    }\n",
              "    (() => {\n",
              "      let quickchartButtonEl =\n",
              "        document.querySelector('#df-1c0f4ac3-1dfa-467c-9771-7da0a5606c6f button');\n",
              "      quickchartButtonEl.style.display =\n",
              "        google.colab.kernel.accessAllowed ? 'block' : 'none';\n",
              "    })();\n",
              "  </script>\n",
              "</div>\n",
              "    </div>\n",
              "  </div>\n"
            ],
            "application/vnd.google.colaboratory.intrinsic+json": {
              "type": "dataframe",
              "variable_name": "df",
              "summary": "{\n  \"name\": \"df\",\n  \"rows\": 19820,\n  \"fields\": [\n    {\n      \"column\": \"selling_price\",\n      \"properties\": {\n        \"dtype\": \"number\",\n        \"std\": 4.847364489233262,\n        \"min\": 0.3,\n        \"max\": 20.90249999999996,\n        \"samples\": [\n          1.27,\n          20.75,\n          9.72\n        ],\n        \"num_unique_values\": 964,\n        \"semantic_type\": \"\",\n        \"description\": \"\"\n      }\n    },\n    {\n      \"column\": \"year\",\n      \"properties\": {\n        \"dtype\": \"number\",\n        \"std\": 3.196636481516552,\n        \"min\": 1992.0,\n        \"max\": 2021.0,\n        \"samples\": [\n          2014.0,\n          2020.0,\n          2011.0\n        ],\n        \"num_unique_values\": 27,\n        \"semantic_type\": \"\",\n        \"description\": \"\"\n      }\n    },\n    {\n      \"column\": \"km_driven\",\n      \"properties\": {\n        \"dtype\": \"number\",\n        \"std\": 51715,\n        \"min\": 100,\n        \"max\": 3800000,\n        \"samples\": [\n          136700,\n          79200,\n          89755\n        ],\n        \"num_unique_values\": 4476,\n        \"semantic_type\": \"\",\n        \"description\": \"\"\n      }\n    },\n    {\n      \"column\": \"mileage\",\n      \"properties\": {\n        \"dtype\": \"number\",\n        \"std\": 4.297783699130563,\n        \"min\": 4.0,\n        \"max\": 120.0,\n        \"samples\": [\n          20.51,\n          8.9,\n          18.7\n        ],\n        \"num_unique_values\": 532,\n        \"semantic_type\": \"\",\n        \"description\": \"\"\n      }\n    },\n    {\n      \"column\": \"engine\",\n      \"properties\": {\n        \"dtype\": \"number\",\n        \"std\": 518.5712227088534,\n        \"min\": 0.0,\n        \"max\": 6752.0,\n        \"samples\": [\n          1242.0,\n          2359.0,\n          17.0\n        ],\n        \"num_unique_values\": 167,\n        \"semantic_type\": \"\",\n        \"description\": \"\"\n      }\n    },\n    {\n      \"column\": \"max_power\",\n      \"properties\": {\n        \"dtype\": \"number\",\n        \"std\": 44.761726745253775,\n        \"min\": 5.0,\n        \"max\": 626.0,\n        \"samples\": [\n          84.82,\n          575.0,\n          103.5\n        ],\n        \"num_unique_values\": 484,\n        \"semantic_type\": \"\",\n        \"description\": \"\"\n      }\n    },\n    {\n      \"column\": \"age\",\n      \"properties\": {\n        \"dtype\": \"number\",\n        \"std\": 3.1966364815165527,\n        \"min\": 2.0,\n        \"max\": 31.0,\n        \"samples\": [\n          9.0,\n          3.0,\n          12.0\n        ],\n        \"num_unique_values\": 27,\n        \"semantic_type\": \"\",\n        \"description\": \"\"\n      }\n    },\n    {\n      \"column\": \"make\",\n      \"properties\": {\n        \"dtype\": \"number\",\n        \"std\": 3.6333575895415633,\n        \"min\": 0.78,\n        \"max\": 20.90249999999996,\n        \"samples\": [\n          14.03770833333333,\n          2.7236206896551725,\n          20.90249999999996\n        ],\n        \"num_unique_values\": 35,\n        \"semantic_type\": \"\",\n        \"description\": \"\"\n      }\n    },\n    {\n      \"column\": \"model\",\n      \"properties\": {\n        \"dtype\": \"number\",\n        \"std\": 4.692537184535342,\n        \"min\": 0.325,\n        \"max\": 20.90249999999996,\n        \"samples\": [\n          3.1100000000000003,\n          6.75,\n          4.0625\n        ],\n        \"num_unique_values\": 1890,\n        \"semantic_type\": \"\",\n        \"description\": \"\"\n      }\n    },\n    {\n      \"column\": \"Individual\",\n      \"properties\": {\n        \"dtype\": \"number\",\n        \"std\": 0,\n        \"min\": 0,\n        \"max\": 1,\n        \"samples\": [\n          0,\n          1\n        ],\n        \"num_unique_values\": 2,\n        \"semantic_type\": \"\",\n        \"description\": \"\"\n      }\n    },\n    {\n      \"column\": \"Trustmark Dealer\",\n      \"properties\": {\n        \"dtype\": \"number\",\n        \"std\": 0,\n        \"min\": 0,\n        \"max\": 1,\n        \"samples\": [\n          1,\n          0\n        ],\n        \"num_unique_values\": 2,\n        \"semantic_type\": \"\",\n        \"description\": \"\"\n      }\n    },\n    {\n      \"column\": \"Diesel\",\n      \"properties\": {\n        \"dtype\": \"number\",\n        \"std\": 0,\n        \"min\": 0,\n        \"max\": 1,\n        \"samples\": [\n          1,\n          0\n        ],\n        \"num_unique_values\": 2,\n        \"semantic_type\": \"\",\n        \"description\": \"\"\n      }\n    },\n    {\n      \"column\": \"Electric\",\n      \"properties\": {\n        \"dtype\": \"number\",\n        \"std\": 0,\n        \"min\": 0,\n        \"max\": 1,\n        \"samples\": [\n          1,\n          0\n        ],\n        \"num_unique_values\": 2,\n        \"semantic_type\": \"\",\n        \"description\": \"\"\n      }\n    },\n    {\n      \"column\": \"LPG\",\n      \"properties\": {\n        \"dtype\": \"number\",\n        \"std\": 0,\n        \"min\": 0,\n        \"max\": 1,\n        \"samples\": [\n          1,\n          0\n        ],\n        \"num_unique_values\": 2,\n        \"semantic_type\": \"\",\n        \"description\": \"\"\n      }\n    },\n    {\n      \"column\": \"Petrol\",\n      \"properties\": {\n        \"dtype\": \"number\",\n        \"std\": 0,\n        \"min\": 0,\n        \"max\": 1,\n        \"samples\": [\n          0,\n          1\n        ],\n        \"num_unique_values\": 2,\n        \"semantic_type\": \"\",\n        \"description\": \"\"\n      }\n    },\n    {\n      \"column\": \"Manual\",\n      \"properties\": {\n        \"dtype\": \"number\",\n        \"std\": 0,\n        \"min\": 0,\n        \"max\": 1,\n        \"samples\": [\n          0,\n          1\n        ],\n        \"num_unique_values\": 2,\n        \"semantic_type\": \"\",\n        \"description\": \"\"\n      }\n    },\n    {\n      \"column\": \"5\",\n      \"properties\": {\n        \"dtype\": \"number\",\n        \"std\": 0,\n        \"min\": 0,\n        \"max\": 1,\n        \"samples\": [\n          0,\n          1\n        ],\n        \"num_unique_values\": 2,\n        \"semantic_type\": \"\",\n        \"description\": \"\"\n      }\n    },\n    {\n      \"column\": \">5\",\n      \"properties\": {\n        \"dtype\": \"number\",\n        \"std\": 0,\n        \"min\": 0,\n        \"max\": 1,\n        \"samples\": [\n          1,\n          0\n        ],\n        \"num_unique_values\": 2,\n        \"semantic_type\": \"\",\n        \"description\": \"\"\n      }\n    }\n  ]\n}"
            }
          },
          "metadata": {},
          "execution_count": 50
        }
      ]
    },
    {
      "cell_type": "markdown",
      "source": [
        "### Train test split"
      ],
      "metadata": {
        "id": "HxhhyE6j6RYz"
      }
    },
    {
      "cell_type": "code",
      "source": [
        "from sklearn.model_selection import train_test_split"
      ],
      "metadata": {
        "id": "G5bphu6XPTdC"
      },
      "execution_count": null,
      "outputs": []
    },
    {
      "cell_type": "code",
      "source": [
        "df_train, df_test = train_test_split(df, test_size=0.3, random_state=1)"
      ],
      "metadata": {
        "id": "ij_jFZLGWk3d"
      },
      "execution_count": null,
      "outputs": []
    },
    {
      "cell_type": "markdown",
      "source": [
        "### Scaling"
      ],
      "metadata": {
        "id": "MuYzcXtg25mR"
      }
    },
    {
      "cell_type": "code",
      "source": [
        "from sklearn.preprocessing import MinMaxScaler\n",
        "\n",
        "scaler = MinMaxScaler()\n",
        "\n",
        "df_train = pd.DataFrame(scaler.fit_transform(df_train), columns=df.columns)\n",
        "\n",
        "df_test = pd.DataFrame(scaler.transform(df_test), columns=df.columns)"
      ],
      "metadata": {
        "id": "DUB7G0Os3Bn1"
      },
      "execution_count": null,
      "outputs": []
    },
    {
      "cell_type": "code",
      "source": [
        "y_train = df_train['selling_price']\n",
        "X_train = df_train.drop('selling_price', axis=1)\n"
      ],
      "metadata": {
        "id": "sPJYSusSWPkA"
      },
      "execution_count": null,
      "outputs": []
    },
    {
      "cell_type": "code",
      "source": [
        "y_test = df_test['selling_price']\n",
        "X_test = df_test.drop('selling_price', axis=1)\n"
      ],
      "metadata": {
        "id": "jZKnQ1g651yP"
      },
      "execution_count": null,
      "outputs": []
    },
    {
      "cell_type": "markdown",
      "source": [
        "### Fitting model"
      ],
      "metadata": {
        "id": "F_JPL7ne6dm1"
      }
    },
    {
      "cell_type": "code",
      "source": [
        "from sklearn.linear_model import LinearRegression\n",
        "lr = LinearRegression()\n",
        "lr.fit(X_train, y_train)"
      ],
      "metadata": {
        "colab": {
          "base_uri": "https://localhost:8080/",
          "height": 75
        },
        "id": "2uZRGXvP7EA2",
        "outputId": "c45ecb25-c8cd-4187-ea72-63104d54e121"
      },
      "execution_count": null,
      "outputs": [
        {
          "output_type": "execute_result",
          "data": {
            "text/plain": [
              "LinearRegression()"
            ],
            "text/html": [
              "<style>#sk-container-id-3 {color: black;background-color: white;}#sk-container-id-3 pre{padding: 0;}#sk-container-id-3 div.sk-toggleable {background-color: white;}#sk-container-id-3 label.sk-toggleable__label {cursor: pointer;display: block;width: 100%;margin-bottom: 0;padding: 0.3em;box-sizing: border-box;text-align: center;}#sk-container-id-3 label.sk-toggleable__label-arrow:before {content: \"▸\";float: left;margin-right: 0.25em;color: #696969;}#sk-container-id-3 label.sk-toggleable__label-arrow:hover:before {color: black;}#sk-container-id-3 div.sk-estimator:hover label.sk-toggleable__label-arrow:before {color: black;}#sk-container-id-3 div.sk-toggleable__content {max-height: 0;max-width: 0;overflow: hidden;text-align: left;background-color: #f0f8ff;}#sk-container-id-3 div.sk-toggleable__content pre {margin: 0.2em;color: black;border-radius: 0.25em;background-color: #f0f8ff;}#sk-container-id-3 input.sk-toggleable__control:checked~div.sk-toggleable__content {max-height: 200px;max-width: 100%;overflow: auto;}#sk-container-id-3 input.sk-toggleable__control:checked~label.sk-toggleable__label-arrow:before {content: \"▾\";}#sk-container-id-3 div.sk-estimator input.sk-toggleable__control:checked~label.sk-toggleable__label {background-color: #d4ebff;}#sk-container-id-3 div.sk-label input.sk-toggleable__control:checked~label.sk-toggleable__label {background-color: #d4ebff;}#sk-container-id-3 input.sk-hidden--visually {border: 0;clip: rect(1px 1px 1px 1px);clip: rect(1px, 1px, 1px, 1px);height: 1px;margin: -1px;overflow: hidden;padding: 0;position: absolute;width: 1px;}#sk-container-id-3 div.sk-estimator {font-family: monospace;background-color: #f0f8ff;border: 1px dotted black;border-radius: 0.25em;box-sizing: border-box;margin-bottom: 0.5em;}#sk-container-id-3 div.sk-estimator:hover {background-color: #d4ebff;}#sk-container-id-3 div.sk-parallel-item::after {content: \"\";width: 100%;border-bottom: 1px solid gray;flex-grow: 1;}#sk-container-id-3 div.sk-label:hover label.sk-toggleable__label {background-color: #d4ebff;}#sk-container-id-3 div.sk-serial::before {content: \"\";position: absolute;border-left: 1px solid gray;box-sizing: border-box;top: 0;bottom: 0;left: 50%;z-index: 0;}#sk-container-id-3 div.sk-serial {display: flex;flex-direction: column;align-items: center;background-color: white;padding-right: 0.2em;padding-left: 0.2em;position: relative;}#sk-container-id-3 div.sk-item {position: relative;z-index: 1;}#sk-container-id-3 div.sk-parallel {display: flex;align-items: stretch;justify-content: center;background-color: white;position: relative;}#sk-container-id-3 div.sk-item::before, #sk-container-id-3 div.sk-parallel-item::before {content: \"\";position: absolute;border-left: 1px solid gray;box-sizing: border-box;top: 0;bottom: 0;left: 50%;z-index: -1;}#sk-container-id-3 div.sk-parallel-item {display: flex;flex-direction: column;z-index: 1;position: relative;background-color: white;}#sk-container-id-3 div.sk-parallel-item:first-child::after {align-self: flex-end;width: 50%;}#sk-container-id-3 div.sk-parallel-item:last-child::after {align-self: flex-start;width: 50%;}#sk-container-id-3 div.sk-parallel-item:only-child::after {width: 0;}#sk-container-id-3 div.sk-dashed-wrapped {border: 1px dashed gray;margin: 0 0.4em 0.5em 0.4em;box-sizing: border-box;padding-bottom: 0.4em;background-color: white;}#sk-container-id-3 div.sk-label label {font-family: monospace;font-weight: bold;display: inline-block;line-height: 1.2em;}#sk-container-id-3 div.sk-label-container {text-align: center;}#sk-container-id-3 div.sk-container {/* jupyter's `normalize.less` sets `[hidden] { display: none; }` but bootstrap.min.css set `[hidden] { display: none !important; }` so we also need the `!important` here to be able to override the default hidden behavior on the sphinx rendered scikit-learn.org. See: https://github.com/scikit-learn/scikit-learn/issues/21755 */display: inline-block !important;position: relative;}#sk-container-id-3 div.sk-text-repr-fallback {display: none;}</style><div id=\"sk-container-id-3\" class=\"sk-top-container\"><div class=\"sk-text-repr-fallback\"><pre>LinearRegression()</pre><b>In a Jupyter environment, please rerun this cell to show the HTML representation or trust the notebook. <br />On GitHub, the HTML representation is unable to render, please try loading this page with nbviewer.org.</b></div><div class=\"sk-container\" hidden><div class=\"sk-item\"><div class=\"sk-estimator sk-toggleable\"><input class=\"sk-toggleable__control sk-hidden--visually\" id=\"sk-estimator-id-3\" type=\"checkbox\" checked><label for=\"sk-estimator-id-3\" class=\"sk-toggleable__label sk-toggleable__label-arrow\">LinearRegression</label><div class=\"sk-toggleable__content\"><pre>LinearRegression()</pre></div></div></div></div></div>"
            ]
          },
          "metadata": {},
          "execution_count": 56
        }
      ]
    },
    {
      "cell_type": "markdown",
      "source": [
        "## How feature scaling helps easier model training?\n",
        "\n"
      ],
      "metadata": {
        "id": "lRwWIBLzph1R"
      }
    },
    {
      "cell_type": "markdown",
      "source": [
        "**Quiz** (What do you think?)\n",
        "\n",
        "```\n",
        "Why is feature scaling important in machine learning?\n",
        "A) It improves the interpretability of the features.\n",
        "B) It ensures all features have the same range and unit.\n",
        "C) It increases the number of features in the dataset.\n",
        "D) It reduces the dimensionality of the feature space.\n",
        "\n",
        "Correct Answer: B) It ensures all features have the same range and unit.\n",
        "```"
      ],
      "metadata": {
        "id": "3E-V1Q75iFKT"
      }
    },
    {
      "cell_type": "markdown",
      "source": [
        "\n",
        "<img src='https://drive.google.com/uc?id=1Xpku5orn74KHDZlnf7wa3Q9mU-So6F31' width=800>"
      ],
      "metadata": {
        "id": "8HfezWmfZQ3E"
      }
    },
    {
      "cell_type": "markdown",
      "source": [
        "![image.png](data:image/png;base64,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)"
      ],
      "metadata": {
        "id": "8pJ_QHUjI1vQ"
      }
    },
    {
      "cell_type": "markdown",
      "source": [
        "## Problems with R-squared, Adjusted R-squared"
      ],
      "metadata": {
        "id": "idySuTb1fws-"
      }
    },
    {
      "cell_type": "markdown",
      "source": [
        "\n",
        "<img src='https://drive.google.com/uc?id=1b-FtN3tdQvtNdcaZc-9G8uYsApgXGVP7' width=800>"
      ],
      "metadata": {
        "id": "V6gfSGHvZjUY"
      }
    },
    {
      "cell_type": "markdown",
      "source": [
        "\n",
        "<img src='https://drive.google.com/uc?id=1dGp7eK8Kg58gD4ckuxaPT0GBMVSPFV3D' width=800>\n",
        "\n"
      ],
      "metadata": {
        "id": "rfIOcayUZqvO"
      }
    },
    {
      "cell_type": "markdown",
      "source": [
        "\n",
        "<img src='https://drive.google.com/uc?id=1Od9Rs1xtoZIzz-EAD7MSRYOY9ysGPBcG' width=800>\n"
      ],
      "metadata": {
        "id": "H1iYKGpBZxNT"
      }
    },
    {
      "cell_type": "markdown",
      "source": [
        "\n",
        "\n",
        "<img src='https://drive.google.com/uc?id=1a2olIePIUOLiw9YMPqAR8xJ7w5Z0NOwj' width=800>\n"
      ],
      "metadata": {
        "id": "2mt-RWaUZ2-B"
      }
    },
    {
      "cell_type": "markdown",
      "source": [
        "Let's implement it for our earlier model and test data."
      ],
      "metadata": {
        "id": "Kez0ny1yMFO_"
      }
    },
    {
      "cell_type": "code",
      "source": [
        "y_hat = lr.predict(X_test)\n",
        "Adj_R = 1 - (1-lr.score(X_test, y_test)*(len(y_test)-1)/(len(y_test)-X_test.shape[1]-1))\n",
        "print(\"Adjusted R-squared:\", Adj_R )"
      ],
      "metadata": {
        "colab": {
          "base_uri": "https://localhost:8080/"
        },
        "id": "VrZOM-LxgaWV",
        "outputId": "af4f1e6e-193d-448e-83b8-5c6969fec129"
      },
      "execution_count": null,
      "outputs": [
        {
          "output_type": "stream",
          "name": "stdout",
          "text": [
            "Adjusted R-squared: 0.9486359433484002\n"
          ]
        }
      ]
    },
    {
      "cell_type": "markdown",
      "source": [
        "**Quiz** (Check your understanding)\n",
        "```\n",
        "How does the adjusted R2 score differ from the regular R2 score?\n",
        "\n",
        "A) The adjusted R2 score accounts for the number of predictors in the model. [Correct Answer]\n",
        "B) The adjusted R2 score is always higher than the regular R2 score.\n",
        "C) The adjusted R2 score considers only the explanatory power of the model.\n",
        "D) The adjusted R2 score is not influenced by the sample size.\n",
        "```"
      ],
      "metadata": {
        "id": "1uBxAqhHgCJm"
      }
    },
    {
      "cell_type": "markdown",
      "source": [
        "**Quiz** (Check your understanding)\n",
        "\n",
        "```\n",
        "In adjusted R-squared, what is the range of possible values? (d < n)\n",
        "A) 0 to 1\n",
        "B) -inf to 1\n",
        "C) 0 to infinity\n",
        "D) -infinity to infinity\n",
        "\n",
        "Correct Answer: B) -inf to 1\n",
        "```"
      ],
      "metadata": {
        "id": "kjbh_8Tep2nz"
      }
    },
    {
      "cell_type": "markdown",
      "source": [
        "**Quiz** (Check your understanding)\n",
        "\n",
        "```\n",
        "What does a higher Adjusted R-squared value indicate about the regression model?\n",
        "a) The model is a perfect fit to the data.\n",
        "b) The model is overfitting the data.\n",
        "c) The model explains more variance in the dependent variable.\n",
        "d) The model has high bias.\n",
        "\n",
        "Answer: c\n",
        "```"
      ],
      "metadata": {
        "id": "cZgUJUGeTGC5"
      }
    },
    {
      "cell_type": "code",
      "source": [],
      "metadata": {
        "id": "6mD3PQ37qPpz"
      },
      "execution_count": null,
      "outputs": []
    },
    {
      "cell_type": "markdown",
      "source": [
        "## Intro to statsmodel"
      ],
      "metadata": {
        "id": "RUS-96KKzul2"
      }
    },
    {
      "cell_type": "markdown",
      "source": [
        "Let's check a library called `statsmodel` which we will be using throughout this lecture."
      ],
      "metadata": {
        "id": "UI-U0vIqqG9h"
      }
    },
    {
      "cell_type": "markdown",
      "source": [
        "\n",
        "<img src='https://drive.google.com/uc?id=1UqMvediPF0U3eYIf0goSwDEvTpDT-OIx' width=800>\n",
        "\n"
      ],
      "metadata": {
        "id": "6mpD-hUdWW8W"
      }
    },
    {
      "cell_type": "markdown",
      "source": [
        "First we will download our data."
      ],
      "metadata": {
        "id": "YuQ0Fi-jqMt3"
      }
    },
    {
      "cell_type": "code",
      "source": [
        "import numpy as np\n",
        "import pandas as pd\n",
        "import matplotlib.pyplot as plt\n",
        "import statsmodels.api as sm\n",
        "\n"
      ],
      "metadata": {
        "id": "csDdzEzPNXDG"
      },
      "execution_count": null,
      "outputs": []
    },
    {
      "cell_type": "code",
      "source": [
        "y_train = np.array(y_train)"
      ],
      "metadata": {
        "id": "P3JLLypkfK9a"
      },
      "execution_count": null,
      "outputs": []
    },
    {
      "cell_type": "markdown",
      "source": [
        "Now, let's train our model on the data."
      ],
      "metadata": {
        "id": "eKSsOvU1qTOi"
      }
    },
    {
      "cell_type": "code",
      "source": [
        "X_sm = sm.add_constant(X_train)  # Statmodels default is without intercept, to add intercept we need to add constant.\n",
        "\n",
        "model = sm.OLS(y_train, X_sm)\n",
        "results = model.fit()\n",
        "\n",
        "# Print the summary statistics of the model\n",
        "print(results.summary())"
      ],
      "metadata": {
        "colab": {
          "base_uri": "https://localhost:8080/"
        },
        "id": "119khcCIN4cg",
        "outputId": "63307109-ed1d-4a7f-bbff-0419b1545ee6"
      },
      "execution_count": null,
      "outputs": [
        {
          "output_type": "stream",
          "name": "stdout",
          "text": [
            "                            OLS Regression Results                            \n",
            "==============================================================================\n",
            "Dep. Variable:                      y   R-squared:                       0.946\n",
            "Model:                            OLS   Adj. R-squared:                  0.946\n",
            "Method:                 Least Squares   F-statistic:                 1.512e+04\n",
            "Date:                Fri, 16 Feb 2024   Prob (F-statistic):               0.00\n",
            "Time:                        08:02:39   Log-Likelihood:                 20675.\n",
            "No. Observations:               13874   AIC:                        -4.132e+04\n",
            "Df Residuals:                   13857   BIC:                        -4.119e+04\n",
            "Df Model:                          16                                         \n",
            "Covariance Type:            nonrobust                                         \n",
            "====================================================================================\n",
            "                       coef    std err          t      P>|t|      [0.025      0.975]\n",
            "------------------------------------------------------------------------------------\n",
            "const             -4.62e+11   1.16e+11     -3.968      0.000    -6.9e+11   -2.34e+11\n",
            "year               4.62e+11   1.16e+11      3.968      0.000    2.34e+11     6.9e+11\n",
            "km_driven           -0.2540      0.035     -7.214      0.000      -0.323      -0.185\n",
            "mileage             -0.2304      0.022    -10.443      0.000      -0.274      -0.187\n",
            "engine               0.0738      0.015      4.947      0.000       0.045       0.103\n",
            "max_power            0.0462      0.014      3.206      0.001       0.018       0.074\n",
            "age                4.62e+11   1.16e+11      3.968      0.000    2.34e+11     6.9e+11\n",
            "make                 0.0632      0.005     13.997      0.000       0.054       0.072\n",
            "model                0.8594      0.005    169.919      0.000       0.849       0.869\n",
            "Individual          -0.0071      0.001     -7.124      0.000      -0.009      -0.005\n",
            "Trustmark Dealer    -0.0069      0.005     -1.439      0.150      -0.016       0.003\n",
            "Diesel               0.0064      0.004      1.628      0.104      -0.001       0.014\n",
            "Electric             0.1288      0.024      5.311      0.000       0.081       0.176\n",
            "LPG                  0.0157      0.009      1.744      0.081      -0.002       0.033\n",
            "Petrol              -0.0070      0.004     -1.734      0.083      -0.015       0.001\n",
            "Manual              -0.0040      0.002     -2.553      0.011      -0.007      -0.001\n",
            "5                   -0.0163      0.004     -3.801      0.000      -0.025      -0.008\n",
            ">5                  -0.0237      0.005     -5.112      0.000      -0.033      -0.015\n",
            "==============================================================================\n",
            "Omnibus:                     2588.271   Durbin-Watson:                   1.980\n",
            "Prob(Omnibus):                  0.000   Jarque-Bera (JB):            56762.255\n",
            "Skew:                           0.288   Prob(JB):                         0.00\n",
            "Kurtosis:                      12.892   Cond. No.                     8.61e+14\n",
            "==============================================================================\n",
            "\n",
            "Notes:\n",
            "[1] Standard Errors assume that the covariance matrix of the errors is correctly specified.\n",
            "[2] The smallest eigenvalue is 7.32e-26. This might indicate that there are\n",
            "strong multicollinearity problems or that the design matrix is singular.\n"
          ]
        }
      ]
    },
    {
      "cell_type": "markdown",
      "source": [
        "Let's look at few of the variables in this table:\n",
        "\n",
        "- Dep. Variable: This column displays the name of the dependent variable being predicted in the regression.\n",
        "\n",
        "- Model: It provides a concise representation of the model type and method used, such as \"OLS\" (Ordinary Least Squares).\n",
        "\n",
        "- R-squared: Represents the coefficient of determination (R-squared) value.\n",
        "\n",
        "- Adj. R-squared: This is the adjusted R-squared value, which accounts for the number of predictors in the model and adjusts the R-squared accordingly."
      ],
      "metadata": {
        "id": "nZQ1HCE6Og--"
      }
    },
    {
      "cell_type": "markdown",
      "source": [
        "The prediction is same as scikit learn"
      ],
      "metadata": {
        "id": "Xfg1z3rjCp6c"
      }
    },
    {
      "cell_type": "code",
      "source": [
        "results.predict(X_sm)"
      ],
      "metadata": {
        "colab": {
          "base_uri": "https://localhost:8080/"
        },
        "id": "IUBKV1FiCKvO",
        "outputId": "bd65466b-6319-41d9-bf00-296c58ad0f40"
      },
      "execution_count": null,
      "outputs": [
        {
          "output_type": "execute_result",
          "data": {
            "text/plain": [
              "0        0.131974\n",
              "1        0.999542\n",
              "2        0.360795\n",
              "3        0.256998\n",
              "4        0.201045\n",
              "           ...   \n",
              "13869    0.254468\n",
              "13870    0.264794\n",
              "13871    0.142389\n",
              "13872    0.250806\n",
              "13873    0.090555\n",
              "Length: 13874, dtype: float64"
            ]
          },
          "metadata": {},
          "execution_count": 61
        }
      ]
    },
    {
      "cell_type": "markdown",
      "source": [
        "**Quiz** (Check your understanding)\n",
        "\n",
        "```\n",
        "Why might the adjusted R2 score be considered more reliable than R2 when adding more predictors to a model?\n",
        "\n",
        "a) Because it always increases with more predictors.\n",
        "b) Because it penalizes the model for adding predictors that don't improve the model.\n",
        "c) Because it is easier to calculate.\n",
        "d) Because it always equals the R2 score.\n",
        "\n",
        "Ans: B\n",
        "\n",
        "```"
      ],
      "metadata": {
        "id": "CtyqNBmn1kyc"
      }
    },
    {
      "cell_type": "markdown",
      "source": [
        "**Quiz** (Check your understanding)\n",
        "```\n",
        "\n",
        "A regression model with 3 predictors has an R2 of 0.85. After adding a 4th predictor, the R2 increases to 0.86 but the adjusted R2 decreases. What can be inferred?\n",
        "\n",
        "A. The 4th predictor improved the model significantly.\n",
        "B. The adjusted R2 is incorrectly calculated.\n",
        "C. The 4th predictor did not add meaningful information to the model.\n",
        "\n",
        "\n",
        "Ans: C\n",
        "```"
      ],
      "metadata": {
        "id": "U9VjVuE91oPR"
      }
    },
    {
      "cell_type": "markdown",
      "source": [
        "\n",
        "\n",
        "<img src='https://drive.google.com/uc?id=11RpzJizarNFIVdajtEHNF1Rq5gzxavxj' width=800>\n",
        "\n"
      ],
      "metadata": {
        "id": "NLG3RLZLk6Ym"
      }
    },
    {
      "cell_type": "markdown",
      "source": [
        "We will see more uses of statsmodel library as we continue with today's lecture.\n"
      ],
      "metadata": {
        "id": "jZ5RVCrZz6Fh"
      }
    },
    {
      "cell_type": "markdown",
      "metadata": {
        "id": "rlGWpfaUmwQz"
      },
      "source": [
        "## Assumptions of Linear Regression"
      ]
    },
    {
      "cell_type": "markdown",
      "source": [
        "\n",
        "\n",
        "<img src='https://drive.google.com/uc?id=11ec-xn-dBFrzNkvKgkGmS8cukMWx6GsF' width=800>\n"
      ],
      "metadata": {
        "id": "9E0pK3IClIL7"
      }
    },
    {
      "cell_type": "markdown",
      "metadata": {
        "id": "bRTvn3fD4x79"
      },
      "source": [
        "- We can arrive at concept of Linear regression in two ways.\n",
        "  - Algebra & Optimization (Geometric) - We covered this\n",
        "  - Probability & Statistics\n",
        "- We can prove that Linear regression is a very good model if all the statistical assumptions holds true.\n"
      ]
    },
    {
      "cell_type": "markdown",
      "metadata": {
        "id": "ud8ofX-550kF"
      },
      "source": [
        "## 1.Assumption of Linearity\n",
        "\n"
      ]
    },
    {
      "cell_type": "markdown",
      "source": [
        "\n",
        "<img src='https://drive.google.com/uc?id=1R1hw0wgENxnMnhyYnHruXXuBF-P7Pb7D' width=800>\n"
      ],
      "metadata": {
        "id": "cPv92YS8lOJ9"
      }
    },
    {
      "cell_type": "markdown",
      "metadata": {
        "id": "8Okb5joD6jtg"
      },
      "source": [
        "## 2. Non multi-collinear features\n"
      ]
    },
    {
      "cell_type": "markdown",
      "source": [
        "\n",
        "<img src='https://drive.google.com/uc?id=1qmdEkIKTrR6cJC_-FF3px-84W9jU0h_J' width=800>"
      ],
      "metadata": {
        "id": "qv3s3SGblc_9"
      }
    },
    {
      "cell_type": "markdown",
      "source": [
        "\n",
        "<img src='https://drive.google.com/uc?id=1zQK-v_8Fx9ugBfU1GDoSfM-RihLVCqil' width=800>\n"
      ],
      "metadata": {
        "id": "j56nLd47lkpH"
      }
    },
    {
      "cell_type": "markdown",
      "metadata": {
        "id": "U1JLUt3XTx2o"
      },
      "source": [
        "**Quiz** (What do you think?)\n",
        "```\n",
        "Which of these isn't collinear?\n",
        "A. f1=log(f2)\n",
        "B. f1=(alpha^2+beta) f2\n",
        "C. f1=5f2\n",
        "\n",
        "Ans: A\n",
        "```"
      ]
    },
    {
      "cell_type": "markdown",
      "source": [
        "**Quiz** (Check your understanding)\n",
        "\n",
        "```\n",
        "Q: How does multicollinearity affect regression analysis?\n",
        "a) It reduces the interpretability of regression coefficients.\n",
        "b) It increases the accuracy of the regression model.\n",
        "c) It improves the goodness-of-fit of the regression model.\n",
        "d) It has no impact on the regression analysis.\n",
        "\n",
        "Ans: a) It reduces the interpretability of regression coefficients.\n",
        "```"
      ],
      "metadata": {
        "id": "wxMkTQ3t0Jiq"
      }
    },
    {
      "cell_type": "markdown",
      "metadata": {
        "id": "RwCtWi5ABD_E"
      },
      "source": [
        "#### How can we remove these highly correlated features?\n",
        "\n",
        "We will use something called VIF (Variance Inflation Factor)\n",
        "\n",
        "Let's understand this with an example\n"
      ]
    },
    {
      "cell_type": "markdown",
      "source": [
        "<img src='https://drive.google.com/uc?id=1i2vEc1a0AFvO7pymRbb5szSYWqotp5ft' width=800>\n"
      ],
      "metadata": {
        "id": "gv97sZRFlrOH"
      }
    },
    {
      "cell_type": "markdown",
      "source": [
        "<img src='https://drive.google.com/uc?id=1_troBdwiSSVlYquskAebrpmIOQy71c8p' width=800>"
      ],
      "metadata": {
        "id": "U2ModYgcmCjZ"
      }
    },
    {
      "cell_type": "markdown",
      "source": [
        "<img src='https://drive.google.com/uc?id=1cIM0nKynnJd2oCUXNV1EOqUMhdMKpncy' width=800>"
      ],
      "metadata": {
        "id": "DuoX9JeTmC-t"
      }
    },
    {
      "cell_type": "markdown",
      "source": [
        "<img src='https://drive.google.com/uc?id=1HE8FYMrDN0DLxHsH-spdQX3vaIbykGE9' width=800>\n"
      ],
      "metadata": {
        "id": "hVivOSI9G8TO"
      }
    },
    {
      "cell_type": "markdown",
      "source": [
        "**Quiz** (What do you think?)\n",
        "\n",
        "```\n",
        "Q: What does a VIF value greater than 10 indicate?\n",
        "a) A negligible impact of the predictor variable on the regression model.\n",
        "b) A perfect linear relationship between the predictor variable and the dependent variable.\n",
        "c) A significant influence of the predictor variable on the outcome variable.\n",
        "d) Strong multicollinearity between the predictor variable and other variables.\n",
        "\n",
        "Ans: d) Strong multicollinearity between the predictor variable and other variables.\n",
        "```"
      ],
      "metadata": {
        "id": "KxjjKSRP0hwC"
      }
    },
    {
      "cell_type": "markdown",
      "metadata": {
        "id": "zO6XZ-WKtg2L"
      },
      "source": [
        "**Quiz**\n",
        "\n",
        "```\n",
        "A clothing store wants to predict sales based on factors like price, promotions, and store location.\n",
        "Which assumption of linear regression is important for accurate sales predictions?\n",
        "A) Linearity between the independent variables and sales.\n",
        "B) Normal distribution of sales.\n",
        "C) MultiCollinearity among features\n",
        "D) All of them\n",
        "```\n",
        "\n",
        "**Correct Answer:** A) Linearity between the independent variables and sales.\n",
        "\n",
        "\n",
        "**Explanation:** The assumption of linearity assumes that there is a linear relationship between the independent variables (price, promotions, store location) and sales, thus ensuring that the model captures the true relationship and enables accurate sales predictions."
      ]
    },
    {
      "cell_type": "markdown",
      "metadata": {
        "id": "biNRH_qYYBjG"
      },
      "source": [
        "Now lets see if there are any multi-collinear features in Cars24 data"
      ]
    },
    {
      "cell_type": "markdown",
      "metadata": {
        "id": "VUTe9FBBTp1k"
      },
      "source": [
        "we will be using Statsmodel for Linear Regression\n",
        "\n",
        "For standardization of X we will be using Scikit Learn [StandardScaler](https://scikit-learn.org/stable/modules/generated/sklearn.preprocessing.StandardScaler.html)\n",
        "- Which does the implementation of Standardizing features for us"
      ]
    },
    {
      "cell_type": "code",
      "execution_count": null,
      "metadata": {
        "colab": {
          "base_uri": "https://localhost:8080/"
        },
        "id": "aQgezHl6SB8D",
        "outputId": "7238a1ee-99a4-418b-e3d6-89ad31ba05be"
      },
      "outputs": [
        {
          "output_type": "stream",
          "name": "stdout",
          "text": [
            "                            OLS Regression Results                            \n",
            "==============================================================================\n",
            "Dep. Variable:          selling_price   R-squared:                       0.945\n",
            "Model:                            OLS   Adj. R-squared:                  0.945\n",
            "Method:                 Least Squares   F-statistic:                 1.701e+04\n",
            "Date:                Fri, 16 Feb 2024   Prob (F-statistic):               0.00\n",
            "Time:                        08:02:39   Log-Likelihood:                -24523.\n",
            "No. Observations:               15856   AIC:                         4.908e+04\n",
            "Df Residuals:                   15839   BIC:                         4.921e+04\n",
            "Df Model:                          16                                         \n",
            "Covariance Type:            nonrobust                                         \n",
            "==============================================================================\n",
            "                 coef    std err          t      P>|t|      [0.025      0.975]\n",
            "------------------------------------------------------------------------------\n",
            "const          6.5834      0.009    729.235      0.000       6.566       6.601\n",
            "x1             0.2907      0.006     46.479      0.000       0.278       0.303\n",
            "x2            -0.0809      0.010     -8.150      0.000      -0.100      -0.061\n",
            "x3            -0.1924      0.016    -11.846      0.000      -0.224      -0.161\n",
            "x4             0.1031      0.023      4.547      0.000       0.059       0.147\n",
            "x5             0.0832      0.020      4.114      0.000       0.044       0.123\n",
            "x6            -0.2907      0.006    -46.479      0.000      -0.303      -0.278\n",
            "x7             0.2500      0.016     15.187      0.000       0.218       0.282\n",
            "x8             4.0281      0.022    179.756      0.000       3.984       4.072\n",
            "x9            -0.0687      0.009     -7.290      0.000      -0.087      -0.050\n",
            "x10           -0.0124      0.009     -1.359      0.174      -0.030       0.005\n",
            "x11            0.0573      0.038      1.526      0.127      -0.016       0.131\n",
            "x12            0.0623      0.010      6.222      0.000       0.043       0.082\n",
            "x13            0.0168      0.010      1.658      0.097      -0.003       0.037\n",
            "x14           -0.0868      0.039     -2.249      0.025      -0.162      -0.011\n",
            "x15           -0.0363      0.012     -3.007      0.003      -0.060      -0.013\n",
            "x16           -0.1093      0.031     -3.532      0.000      -0.170      -0.049\n",
            "x17           -0.1747      0.033     -5.361      0.000      -0.239      -0.111\n",
            "==============================================================================\n",
            "Omnibus:                     3218.068   Durbin-Watson:                   2.002\n",
            "Prob(Omnibus):                  0.000   Jarque-Bera (JB):            80809.770\n",
            "Skew:                           0.347   Prob(JB):                         0.00\n",
            "Kurtosis:                      14.038   Cond. No.                     1.47e+15\n",
            "==============================================================================\n",
            "\n",
            "Notes:\n",
            "[1] Standard Errors assume that the covariance matrix of the errors is correctly specified.\n",
            "[2] The smallest eigenvalue is 3.4e-26. This might indicate that there are\n",
            "strong multicollinearity problems or that the design matrix is singular.\n"
          ]
        }
      ],
      "source": [
        "# Statmodels implementation of Linear regression\n",
        "import statsmodels.api as sm\n",
        "from sklearn.preprocessing import StandardScaler\n",
        "from sklearn.model_selection import train_test_split\n",
        "\n",
        "X = df[df.columns.drop('selling_price')]\n",
        "y = df[\"selling_price\"]\n",
        "\n",
        "X_train, X_test, y_train, y_test = train_test_split(X, y, test_size=0.2, random_state=2)\n",
        "\n",
        "scaler = StandardScaler()\n",
        "X_tr_scaled = scaler.fit_transform(X_train)\n",
        "\n",
        "X_sm = sm.add_constant(X_tr_scaled)  #Statmodels default is without intercept, to add intercept we need to add constant\n",
        "\n",
        "sm_model = sm.OLS(y_train, X_sm).fit()\n",
        "\n",
        "print(sm_model.summary())"
      ]
    },
    {
      "cell_type": "markdown",
      "metadata": {
        "id": "J6jOlvEPs0Ld"
      },
      "source": [
        "#### Multicollinearity and implementation\n",
        "- When one or more input variables exhibhit strong correlation\n",
        "- One variable is enough to be part of the model."
      ]
    },
    {
      "cell_type": "code",
      "execution_count": null,
      "metadata": {
        "id": "kbcapTpSsvnU"
      },
      "outputs": [],
      "source": [
        "# VIF\n",
        "from statsmodels.stats.outliers_influence import variance_inflation_factor"
      ]
    },
    {
      "cell_type": "code",
      "execution_count": null,
      "metadata": {
        "colab": {
          "base_uri": "https://localhost:8080/",
          "height": 638
        },
        "id": "HqykuJqjsvk-",
        "outputId": "a7e00cc9-91dc-4b81-f894-bc103a0231e3"
      },
      "outputs": [
        {
          "output_type": "stream",
          "name": "stderr",
          "text": [
            "/usr/local/lib/python3.10/dist-packages/statsmodels/stats/outliers_influence.py:198: RuntimeWarning: divide by zero encountered in scalar divide\n",
            "  vif = 1. / (1. - r_squared_i)\n"
          ]
        },
        {
          "output_type": "execute_result",
          "data": {
            "text/plain": [
              "            Features    VIF\n",
              "0               year    inf\n",
              "5                age    inf\n",
              "13            Petrol  18.29\n",
              "10            Diesel  17.29\n",
              "16                >5  13.04\n",
              "15                 5  11.75\n",
              "3             engine   6.30\n",
              "7              model   6.16\n",
              "4          max_power   5.02\n",
              "6               make   3.33\n",
              "2            mileage   3.24\n",
              "14            Manual   1.79\n",
              "12               LPG   1.25\n",
              "11          Electric   1.23\n",
              "1          km_driven   1.21\n",
              "8         Individual   1.09\n",
              "9   Trustmark Dealer   1.02"
            ],
            "text/html": [
              "\n",
              "  <div id=\"df-8a486c04-40d1-417d-a705-a4b39bd914cc\" class=\"colab-df-container\">\n",
              "    <div>\n",
              "<style scoped>\n",
              "    .dataframe tbody tr th:only-of-type {\n",
              "        vertical-align: middle;\n",
              "    }\n",
              "\n",
              "    .dataframe tbody tr th {\n",
              "        vertical-align: top;\n",
              "    }\n",
              "\n",
              "    .dataframe thead th {\n",
              "        text-align: right;\n",
              "    }\n",
              "</style>\n",
              "<table border=\"1\" class=\"dataframe\">\n",
              "  <thead>\n",
              "    <tr style=\"text-align: right;\">\n",
              "      <th></th>\n",
              "      <th>Features</th>\n",
              "      <th>VIF</th>\n",
              "    </tr>\n",
              "  </thead>\n",
              "  <tbody>\n",
              "    <tr>\n",
              "      <th>0</th>\n",
              "      <td>year</td>\n",
              "      <td>inf</td>\n",
              "    </tr>\n",
              "    <tr>\n",
              "      <th>5</th>\n",
              "      <td>age</td>\n",
              "      <td>inf</td>\n",
              "    </tr>\n",
              "    <tr>\n",
              "      <th>13</th>\n",
              "      <td>Petrol</td>\n",
              "      <td>18.29</td>\n",
              "    </tr>\n",
              "    <tr>\n",
              "      <th>10</th>\n",
              "      <td>Diesel</td>\n",
              "      <td>17.29</td>\n",
              "    </tr>\n",
              "    <tr>\n",
              "      <th>16</th>\n",
              "      <td>&gt;5</td>\n",
              "      <td>13.04</td>\n",
              "    </tr>\n",
              "    <tr>\n",
              "      <th>15</th>\n",
              "      <td>5</td>\n",
              "      <td>11.75</td>\n",
              "    </tr>\n",
              "    <tr>\n",
              "      <th>3</th>\n",
              "      <td>engine</td>\n",
              "      <td>6.30</td>\n",
              "    </tr>\n",
              "    <tr>\n",
              "      <th>7</th>\n",
              "      <td>model</td>\n",
              "      <td>6.16</td>\n",
              "    </tr>\n",
              "    <tr>\n",
              "      <th>4</th>\n",
              "      <td>max_power</td>\n",
              "      <td>5.02</td>\n",
              "    </tr>\n",
              "    <tr>\n",
              "      <th>6</th>\n",
              "      <td>make</td>\n",
              "      <td>3.33</td>\n",
              "    </tr>\n",
              "    <tr>\n",
              "      <th>2</th>\n",
              "      <td>mileage</td>\n",
              "      <td>3.24</td>\n",
              "    </tr>\n",
              "    <tr>\n",
              "      <th>14</th>\n",
              "      <td>Manual</td>\n",
              "      <td>1.79</td>\n",
              "    </tr>\n",
              "    <tr>\n",
              "      <th>12</th>\n",
              "      <td>LPG</td>\n",
              "      <td>1.25</td>\n",
              "    </tr>\n",
              "    <tr>\n",
              "      <th>11</th>\n",
              "      <td>Electric</td>\n",
              "      <td>1.23</td>\n",
              "    </tr>\n",
              "    <tr>\n",
              "      <th>1</th>\n",
              "      <td>km_driven</td>\n",
              "      <td>1.21</td>\n",
              "    </tr>\n",
              "    <tr>\n",
              "      <th>8</th>\n",
              "      <td>Individual</td>\n",
              "      <td>1.09</td>\n",
              "    </tr>\n",
              "    <tr>\n",
              "      <th>9</th>\n",
              "      <td>Trustmark Dealer</td>\n",
              "      <td>1.02</td>\n",
              "    </tr>\n",
              "  </tbody>\n",
              "</table>\n",
              "</div>\n",
              "    <div class=\"colab-df-buttons\">\n",
              "\n",
              "  <div class=\"colab-df-container\">\n",
              "    <button class=\"colab-df-convert\" onclick=\"convertToInteractive('df-8a486c04-40d1-417d-a705-a4b39bd914cc')\"\n",
              "            title=\"Convert this dataframe to an interactive table.\"\n",
              "            style=\"display:none;\">\n",
              "\n",
              "  <svg xmlns=\"http://www.w3.org/2000/svg\" height=\"24px\" viewBox=\"0 -960 960 960\">\n",
              "    <path d=\"M120-120v-720h720v720H120Zm60-500h600v-160H180v160Zm220 220h160v-160H400v160Zm0 220h160v-160H400v160ZM180-400h160v-160H180v160Zm440 0h160v-160H620v160ZM180-180h160v-160H180v160Zm440 0h160v-160H620v160Z\"/>\n",
              "  </svg>\n",
              "    </button>\n",
              "\n",
              "  <style>\n",
              "    .colab-df-container {\n",
              "      display:flex;\n",
              "      gap: 12px;\n",
              "    }\n",
              "\n",
              "    .colab-df-convert {\n",
              "      background-color: #E8F0FE;\n",
              "      border: none;\n",
              "      border-radius: 50%;\n",
              "      cursor: pointer;\n",
              "      display: none;\n",
              "      fill: #1967D2;\n",
              "      height: 32px;\n",
              "      padding: 0 0 0 0;\n",
              "      width: 32px;\n",
              "    }\n",
              "\n",
              "    .colab-df-convert:hover {\n",
              "      background-color: #E2EBFA;\n",
              "      box-shadow: 0px 1px 2px rgba(60, 64, 67, 0.3), 0px 1px 3px 1px rgba(60, 64, 67, 0.15);\n",
              "      fill: #174EA6;\n",
              "    }\n",
              "\n",
              "    .colab-df-buttons div {\n",
              "      margin-bottom: 4px;\n",
              "    }\n",
              "\n",
              "    [theme=dark] .colab-df-convert {\n",
              "      background-color: #3B4455;\n",
              "      fill: #D2E3FC;\n",
              "    }\n",
              "\n",
              "    [theme=dark] .colab-df-convert:hover {\n",
              "      background-color: #434B5C;\n",
              "      box-shadow: 0px 1px 3px 1px rgba(0, 0, 0, 0.15);\n",
              "      filter: drop-shadow(0px 1px 2px rgba(0, 0, 0, 0.3));\n",
              "      fill: #FFFFFF;\n",
              "    }\n",
              "  </style>\n",
              "\n",
              "    <script>\n",
              "      const buttonEl =\n",
              "        document.querySelector('#df-8a486c04-40d1-417d-a705-a4b39bd914cc button.colab-df-convert');\n",
              "      buttonEl.style.display =\n",
              "        google.colab.kernel.accessAllowed ? 'block' : 'none';\n",
              "\n",
              "      async function convertToInteractive(key) {\n",
              "        const element = document.querySelector('#df-8a486c04-40d1-417d-a705-a4b39bd914cc');\n",
              "        const dataTable =\n",
              "          await google.colab.kernel.invokeFunction('convertToInteractive',\n",
              "                                                    [key], {});\n",
              "        if (!dataTable) return;\n",
              "\n",
              "        const docLinkHtml = 'Like what you see? Visit the ' +\n",
              "          '<a target=\"_blank\" href=https://colab.research.google.com/notebooks/data_table.ipynb>data table notebook</a>'\n",
              "          + ' to learn more about interactive tables.';\n",
              "        element.innerHTML = '';\n",
              "        dataTable['output_type'] = 'display_data';\n",
              "        await google.colab.output.renderOutput(dataTable, element);\n",
              "        const docLink = document.createElement('div');\n",
              "        docLink.innerHTML = docLinkHtml;\n",
              "        element.appendChild(docLink);\n",
              "      }\n",
              "    </script>\n",
              "  </div>\n",
              "\n",
              "\n",
              "<div id=\"df-18fbf5b3-6a38-408f-af18-9ef93584ed93\">\n",
              "  <button class=\"colab-df-quickchart\" onclick=\"quickchart('df-18fbf5b3-6a38-408f-af18-9ef93584ed93')\"\n",
              "            title=\"Suggest charts\"\n",
              "            style=\"display:none;\">\n",
              "\n",
              "<svg xmlns=\"http://www.w3.org/2000/svg\" height=\"24px\"viewBox=\"0 0 24 24\"\n",
              "     width=\"24px\">\n",
              "    <g>\n",
              "        <path d=\"M19 3H5c-1.1 0-2 .9-2 2v14c0 1.1.9 2 2 2h14c1.1 0 2-.9 2-2V5c0-1.1-.9-2-2-2zM9 17H7v-7h2v7zm4 0h-2V7h2v10zm4 0h-2v-4h2v4z\"/>\n",
              "    </g>\n",
              "</svg>\n",
              "  </button>\n",
              "\n",
              "<style>\n",
              "  .colab-df-quickchart {\n",
              "      --bg-color: #E8F0FE;\n",
              "      --fill-color: #1967D2;\n",
              "      --hover-bg-color: #E2EBFA;\n",
              "      --hover-fill-color: #174EA6;\n",
              "      --disabled-fill-color: #AAA;\n",
              "      --disabled-bg-color: #DDD;\n",
              "  }\n",
              "\n",
              "  [theme=dark] .colab-df-quickchart {\n",
              "      --bg-color: #3B4455;\n",
              "      --fill-color: #D2E3FC;\n",
              "      --hover-bg-color: #434B5C;\n",
              "      --hover-fill-color: #FFFFFF;\n",
              "      --disabled-bg-color: #3B4455;\n",
              "      --disabled-fill-color: #666;\n",
              "  }\n",
              "\n",
              "  .colab-df-quickchart {\n",
              "    background-color: var(--bg-color);\n",
              "    border: none;\n",
              "    border-radius: 50%;\n",
              "    cursor: pointer;\n",
              "    display: none;\n",
              "    fill: var(--fill-color);\n",
              "    height: 32px;\n",
              "    padding: 0;\n",
              "    width: 32px;\n",
              "  }\n",
              "\n",
              "  .colab-df-quickchart:hover {\n",
              "    background-color: var(--hover-bg-color);\n",
              "    box-shadow: 0 1px 2px rgba(60, 64, 67, 0.3), 0 1px 3px 1px rgba(60, 64, 67, 0.15);\n",
              "    fill: var(--button-hover-fill-color);\n",
              "  }\n",
              "\n",
              "  .colab-df-quickchart-complete:disabled,\n",
              "  .colab-df-quickchart-complete:disabled:hover {\n",
              "    background-color: var(--disabled-bg-color);\n",
              "    fill: var(--disabled-fill-color);\n",
              "    box-shadow: none;\n",
              "  }\n",
              "\n",
              "  .colab-df-spinner {\n",
              "    border: 2px solid var(--fill-color);\n",
              "    border-color: transparent;\n",
              "    border-bottom-color: var(--fill-color);\n",
              "    animation:\n",
              "      spin 1s steps(1) infinite;\n",
              "  }\n",
              "\n",
              "  @keyframes spin {\n",
              "    0% {\n",
              "      border-color: transparent;\n",
              "      border-bottom-color: var(--fill-color);\n",
              "      border-left-color: var(--fill-color);\n",
              "    }\n",
              "    20% {\n",
              "      border-color: transparent;\n",
              "      border-left-color: var(--fill-color);\n",
              "      border-top-color: var(--fill-color);\n",
              "    }\n",
              "    30% {\n",
              "      border-color: transparent;\n",
              "      border-left-color: var(--fill-color);\n",
              "      border-top-color: var(--fill-color);\n",
              "      border-right-color: var(--fill-color);\n",
              "    }\n",
              "    40% {\n",
              "      border-color: transparent;\n",
              "      border-right-color: var(--fill-color);\n",
              "      border-top-color: var(--fill-color);\n",
              "    }\n",
              "    60% {\n",
              "      border-color: transparent;\n",
              "      border-right-color: var(--fill-color);\n",
              "    }\n",
              "    80% {\n",
              "      border-color: transparent;\n",
              "      border-right-color: var(--fill-color);\n",
              "      border-bottom-color: var(--fill-color);\n",
              "    }\n",
              "    90% {\n",
              "      border-color: transparent;\n",
              "      border-bottom-color: var(--fill-color);\n",
              "    }\n",
              "  }\n",
              "</style>\n",
              "\n",
              "  <script>\n",
              "    async function quickchart(key) {\n",
              "      const quickchartButtonEl =\n",
              "        document.querySelector('#' + key + ' button');\n",
              "      quickchartButtonEl.disabled = true;  // To prevent multiple clicks.\n",
              "      quickchartButtonEl.classList.add('colab-df-spinner');\n",
              "      try {\n",
              "        const charts = await google.colab.kernel.invokeFunction(\n",
              "            'suggestCharts', [key], {});\n",
              "      } catch (error) {\n",
              "        console.error('Error during call to suggestCharts:', error);\n",
              "      }\n",
              "      quickchartButtonEl.classList.remove('colab-df-spinner');\n",
              "      quickchartButtonEl.classList.add('colab-df-quickchart-complete');\n",
              "    }\n",
              "    (() => {\n",
              "      let quickchartButtonEl =\n",
              "        document.querySelector('#df-18fbf5b3-6a38-408f-af18-9ef93584ed93 button');\n",
              "      quickchartButtonEl.style.display =\n",
              "        google.colab.kernel.accessAllowed ? 'block' : 'none';\n",
              "    })();\n",
              "  </script>\n",
              "</div>\n",
              "    </div>\n",
              "  </div>\n"
            ],
            "application/vnd.google.colaboratory.intrinsic+json": {
              "type": "dataframe",
              "variable_name": "vif",
              "summary": "{\n  \"name\": \"vif\",\n  \"rows\": 17,\n  \"fields\": [\n    {\n      \"column\": \"Features\",\n      \"properties\": {\n        \"dtype\": \"string\",\n        \"samples\": [\n          \"year\",\n          \"age\",\n          \"5\"\n        ],\n        \"num_unique_values\": 17,\n        \"semantic_type\": \"\",\n        \"description\": \"\"\n      }\n    },\n    {\n      \"column\": \"VIF\",\n      \"properties\": {\n        \"dtype\": \"number\",\n        \"std\": NaN,\n        \"min\": 1.02,\n        \"max\": Infinity,\n        \"samples\": [\n          Infinity,\n          18.29,\n          6.3\n        ],\n        \"num_unique_values\": 16,\n        \"semantic_type\": \"\",\n        \"description\": \"\"\n      }\n    }\n  ]\n}"
            }
          },
          "metadata": {},
          "execution_count": 64
        }
      ],
      "source": [
        "vif = pd.DataFrame()\n",
        "X_t = pd.DataFrame(X_tr_scaled, columns=X_train.columns)\n",
        "vif['Features'] = X_t.columns\n",
        "vif['VIF'] = [variance_inflation_factor(X_t.values, i) for i in range(X_t.shape[1])]\n",
        "vif['VIF'] = round(vif['VIF'], 2)\n",
        "vif = vif.sort_values(by = \"VIF\", ascending = False)\n",
        "vif"
      ]
    },
    {
      "cell_type": "markdown",
      "metadata": {
        "id": "qb5Qqqm7tDsk"
      },
      "source": [
        "#### Note : VIF values tends to be infinity when there is a perfect correlation between the variables"
      ]
    },
    {
      "cell_type": "markdown",
      "metadata": {
        "id": "MgB_6YnAtQPG"
      },
      "source": [
        "Removing the variable with highest VIF"
      ]
    },
    {
      "cell_type": "code",
      "execution_count": null,
      "metadata": {
        "colab": {
          "base_uri": "https://localhost:8080/"
        },
        "id": "6JVWHPD-wDhk",
        "outputId": "92619e6c-37ab-484d-8239-515716285ba0"
      },
      "outputs": [
        {
          "output_type": "stream",
          "name": "stdout",
          "text": [
            "                            OLS Regression Results                            \n",
            "==============================================================================\n",
            "Dep. Variable:                      y   R-squared:                       0.945\n",
            "Model:                            OLS   Adj. R-squared:                  0.945\n",
            "Method:                 Least Squares   F-statistic:                 1.701e+04\n",
            "Date:                Fri, 16 Feb 2024   Prob (F-statistic):               0.00\n",
            "Time:                        08:02:39   Log-Likelihood:                -24523.\n",
            "No. Observations:               15856   AIC:                         4.908e+04\n",
            "Df Residuals:                   15839   BIC:                         4.921e+04\n",
            "Df Model:                          16                                         \n",
            "Covariance Type:            nonrobust                                         \n",
            "====================================================================================\n",
            "                       coef    std err          t      P>|t|      [0.025      0.975]\n",
            "------------------------------------------------------------------------------------\n",
            "const                6.5834      0.009    729.235      0.000       6.566       6.601\n",
            "age                 -0.5814      0.013    -46.479      0.000      -0.606      -0.557\n",
            "Petrol              -0.0868      0.039     -2.249      0.025      -0.162      -0.011\n",
            "Diesel               0.0573      0.038      1.526      0.127      -0.016       0.131\n",
            ">5                  -0.1747      0.033     -5.361      0.000      -0.239      -0.111\n",
            "5                   -0.1093      0.031     -3.532      0.000      -0.170      -0.049\n",
            "engine               0.1031      0.023      4.547      0.000       0.059       0.147\n",
            "model                4.0281      0.022    179.756      0.000       3.984       4.072\n",
            "max_power            0.0832      0.020      4.114      0.000       0.044       0.123\n",
            "make                 0.2500      0.016     15.187      0.000       0.218       0.282\n",
            "mileage             -0.1924      0.016    -11.846      0.000      -0.224      -0.161\n",
            "Manual              -0.0363      0.012     -3.007      0.003      -0.060      -0.013\n",
            "LPG                  0.0168      0.010      1.658      0.097      -0.003       0.037\n",
            "Electric             0.0623      0.010      6.222      0.000       0.043       0.082\n",
            "km_driven           -0.0809      0.010     -8.150      0.000      -0.100      -0.061\n",
            "Individual          -0.0687      0.009     -7.290      0.000      -0.087      -0.050\n",
            "Trustmark Dealer    -0.0124      0.009     -1.359      0.174      -0.030       0.005\n",
            "==============================================================================\n",
            "Omnibus:                     3218.068   Durbin-Watson:                   2.002\n",
            "Prob(Omnibus):                  0.000   Jarque-Bera (JB):            80809.770\n",
            "Skew:                           0.347   Prob(JB):                         0.00\n",
            "Kurtosis:                      14.038   Cond. No.                         12.7\n",
            "==============================================================================\n",
            "\n",
            "Notes:\n",
            "[1] Standard Errors assume that the covariance matrix of the errors is correctly specified.\n"
          ]
        }
      ],
      "source": [
        "cols2 = vif[\"Features\"][1:].values\n",
        "X2 = pd.DataFrame(X_tr_scaled, columns=X_train.columns)[cols2]\n",
        "\n",
        "X2_sm = sm.add_constant(X2)  #Statmodels default is without intercept, to add intercept we need to add constant\n",
        "sm_model = sm.OLS(list(y_train), X2_sm).fit()\n",
        "print(sm_model.summary())"
      ]
    },
    {
      "cell_type": "markdown",
      "source": [
        "As we see, there's no drop in R-sq. and adj. R-sq. value even after removing the variable"
      ],
      "metadata": {
        "id": "CkCS6qJz5pjq"
      }
    },
    {
      "cell_type": "markdown",
      "metadata": {
        "id": "7ZPNuBDN-hX7"
      },
      "source": [
        "Let's now keep on removing features till we\n",
        "- either have a feature with vif<5\n",
        "\n",
        "or\n",
        "- have the model's adj. r2 score go below 0.85"
      ]
    },
    {
      "cell_type": "code",
      "source": [
        "vif_thr = 5\n",
        "r2_thr = 0.85\n",
        "i = 1\n",
        "feats_removed = ['year']\n",
        "while True:\n",
        "  vif = pd.DataFrame()\n",
        "  X_t = pd.DataFrame(X_tr_scaled, columns=X_train.columns)[cols2]\n",
        "  vif['Features'] = cols2\n",
        "  vif['VIF'] = [variance_inflation_factor(X_t.values, i) for i in range(X_t.shape[1])]\n",
        "  vif['VIF'] = round(vif['VIF'], 2)\n",
        "  vif = vif.sort_values(by = \"VIF\", ascending = False)\n",
        "\n",
        "  cols2 = vif[\"Features\"][1:].values\n",
        "  X2 = pd.DataFrame(X_tr_scaled, columns=X_train.columns)[cols2]\n",
        "\n",
        "  X2_sm = sm.add_constant(X2)  #Statmodels default is without intercept, to add intercept we need to add constant\n",
        "  sm_model = sm.OLS(list(y_train), X2_sm).fit()\n",
        "  if (vif.iloc[0]['VIF'] < vif_thr) or (sm_model.rsquared_adj < r2_thr):\n",
        "    print('Reached threshold')\n",
        "    print('Highest vif:',vif.iloc[0])\n",
        "    print('Current adj.R2',sm_model.rsquared_adj)\n",
        "    print('Features removed:', i)\n",
        "    print('List of features removed:', feats_removed)\n",
        "    break\n",
        "  feats_removed.append(vif.iloc[0]['Features'])\n",
        "  i += 1"
      ],
      "metadata": {
        "colab": {
          "base_uri": "https://localhost:8080/"
        },
        "id": "X-doUYmmcPPs",
        "outputId": "66057af4-85f1-4a2b-89da-8f68ec5f2224"
      },
      "execution_count": null,
      "outputs": [
        {
          "output_type": "stream",
          "name": "stdout",
          "text": [
            "Reached threshold\n",
            "Highest vif: Features    model\n",
            "VIF          6.14\n",
            "Name: 2, dtype: object\n",
            "Current adj.R2 0.8322522946246915\n",
            "Features removed: 3\n",
            "List of features removed: ['year', 'Petrol', '>5']\n"
          ]
        }
      ]
    },
    {
      "cell_type": "code",
      "source": [
        "print(vif)\n",
        "print(sm_model.summary())"
      ],
      "metadata": {
        "colab": {
          "base_uri": "https://localhost:8080/"
        },
        "id": "L8pREs3bg60N",
        "outputId": "13c9ac46-6ed8-4680-871e-1f56aceb58b3"
      },
      "execution_count": null,
      "outputs": [
        {
          "output_type": "stream",
          "name": "stdout",
          "text": [
            "            Features   VIF\n",
            "2              model  6.14\n",
            "1             engine  6.12\n",
            "3          max_power  4.85\n",
            "4               make  3.29\n",
            "5            mileage  2.86\n",
            "6             Diesel  2.14\n",
            "7                age  1.87\n",
            "8             Manual  1.78\n",
            "0                  5  1.70\n",
            "9           Electric  1.22\n",
            "10         km_driven  1.21\n",
            "11        Individual  1.09\n",
            "12  Trustmark Dealer  1.02\n",
            "13               LPG  1.01\n",
            "                            OLS Regression Results                            \n",
            "==============================================================================\n",
            "Dep. Variable:                      y   R-squared:                       0.832\n",
            "Model:                            OLS   Adj. R-squared:                  0.832\n",
            "Method:                 Least Squares   F-statistic:                     6052.\n",
            "Date:                Fri, 16 Feb 2024   Prob (F-statistic):               0.00\n",
            "Time:                        08:02:40   Log-Likelihood:                -33356.\n",
            "No. Observations:               15856   AIC:                         6.674e+04\n",
            "Df Residuals:                   15842   BIC:                         6.685e+04\n",
            "Df Model:                          13                                         \n",
            "Covariance Type:            nonrobust                                         \n",
            "====================================================================================\n",
            "                       coef    std err          t      P>|t|      [0.025      0.975]\n",
            "------------------------------------------------------------------------------------\n",
            "const                6.5834      0.016    417.802      0.000       6.553       6.614\n",
            "engine               0.1661      0.039      4.260      0.000       0.090       0.242\n",
            "max_power            1.4122      0.032     43.747      0.000       1.349       1.475\n",
            "make                 1.7818      0.024     72.860      0.000       1.734       1.830\n",
            "mileage             -0.4077      0.027    -15.354      0.000      -0.460      -0.356\n",
            "Diesel               0.6839      0.022     30.547      0.000       0.640       0.728\n",
            "age                 -1.7934      0.018    -99.502      0.000      -1.829      -1.758\n",
            "Manual              -0.6359      0.020    -31.481      0.000      -0.675      -0.596\n",
            "5                   -0.1577      0.020     -7.717      0.000      -0.198      -0.118\n",
            "Electric             0.1570      0.017      9.024      0.000       0.123       0.191\n",
            "km_driven           -0.1660      0.017     -9.602      0.000      -0.200      -0.132\n",
            "Individual          -0.1471      0.016     -8.966      0.000      -0.179      -0.115\n",
            "Trustmark Dealer    -0.0305      0.016     -1.917      0.055      -0.062       0.001\n",
            "LPG                  0.0574      0.016      3.621      0.000       0.026       0.088\n",
            "==============================================================================\n",
            "Omnibus:                     1857.357   Durbin-Watson:                   1.982\n",
            "Prob(Omnibus):                  0.000   Jarque-Bera (JB):             9261.740\n",
            "Skew:                           0.466   Prob(JB):                         0.00\n",
            "Kurtosis:                       6.626   Cond. No.                         5.75\n",
            "==============================================================================\n",
            "\n",
            "Notes:\n",
            "[1] Standard Errors assume that the covariance matrix of the errors is correctly specified.\n"
          ]
        }
      ]
    },
    {
      "cell_type": "markdown",
      "metadata": {
        "id": "W-brQFNkcehk"
      },
      "source": [
        "## 3. Errors are normally distributed"
      ]
    },
    {
      "cell_type": "markdown",
      "source": [
        "<img src='https://drive.google.com/uc?id=1t_onTNlFNdKDy4B9GOGsZC2vSW8YrClD' width=800>"
      ],
      "metadata": {
        "id": "0lxGUmsamDL9"
      }
    },
    {
      "cell_type": "markdown",
      "source": [
        "<img src='https://drive.google.com/uc?id=18QnAkJyEhcbIGtY9bruv-OfE6bTH6vgL' width=800>\n"
      ],
      "metadata": {
        "id": "SvRHVku6mDfg"
      }
    },
    {
      "cell_type": "markdown",
      "source": [
        "<img src='https://drive.google.com/uc?id=1LStIkiL2y2Q8cvh0bolA9wjXypPgoq8w' width=800>\n"
      ],
      "metadata": {
        "id": "4MY83maNmFF0"
      }
    },
    {
      "cell_type": "markdown",
      "source": [
        "#### How do outliers impact linear regression?\n",
        "\n",
        "Let's take a 2D e.g. of predicting the price from the given model.\n"
      ],
      "metadata": {
        "id": "nE-c8CxHgIM8"
      }
    },
    {
      "cell_type": "markdown",
      "source": [
        "<img src='https://drive.google.com/uc?id=10yTJ2YoJ5mMV41J_ThaZrP1xGCCa3dMI' width=800>\n",
        "\n"
      ],
      "metadata": {
        "id": "6gXzQdrtnriQ"
      }
    },
    {
      "cell_type": "markdown",
      "metadata": {
        "id": "q5IhLSeorenW"
      },
      "source": [
        "#### Question: After plotting the plot for errors, we see the curve is non-gaussian i.e. Outliers are present. How do we identify and remove these outlier?\n",
        "\n",
        "Ans:\n",
        "\n",
        "- Outliers will have large error value (yi - yi_hat).\n",
        "- Remove the points will high error as many as you want and fit the model again.\n",
        "- Check the distribtion of errors on new model and repeat."
      ]
    },
    {
      "cell_type": "markdown",
      "metadata": {
        "id": "h4KfqSzH11QC"
      },
      "source": [
        "Lets See how is the error distribution for Car24"
      ]
    },
    {
      "cell_type": "code",
      "source": [
        "X_sm = sm.add_constant(X_tr_scaled)\n",
        "sm_model = sm.OLS(y_train, X_sm).fit()"
      ],
      "metadata": {
        "id": "xFN8gWQaJuj9"
      },
      "execution_count": null,
      "outputs": []
    },
    {
      "cell_type": "code",
      "source": [
        "y_train.shape"
      ],
      "metadata": {
        "colab": {
          "base_uri": "https://localhost:8080/"
        },
        "id": "vD_5dxtZvBA6",
        "outputId": "d47f6abd-d2a0-484d-bbc5-cbe0101c2199"
      },
      "execution_count": null,
      "outputs": [
        {
          "output_type": "execute_result",
          "data": {
            "text/plain": [
              "(15856,)"
            ]
          },
          "metadata": {},
          "execution_count": 69
        }
      ]
    },
    {
      "cell_type": "code",
      "execution_count": null,
      "metadata": {
        "id": "u6exTHXo2AjU"
      },
      "outputs": [],
      "source": [
        "Y_hat = sm_model.predict(X_sm)\n",
        "errors = Y_hat - y_train"
      ]
    },
    {
      "cell_type": "code",
      "source": [
        "Y_hat.shape"
      ],
      "metadata": {
        "colab": {
          "base_uri": "https://localhost:8080/"
        },
        "id": "PVx59JaTuN6u",
        "outputId": "650560b3-efe0-4347-cfa8-0d4adbc3bcaf"
      },
      "execution_count": null,
      "outputs": [
        {
          "output_type": "execute_result",
          "data": {
            "text/plain": [
              "(15856,)"
            ]
          },
          "metadata": {},
          "execution_count": 71
        }
      ]
    },
    {
      "cell_type": "code",
      "execution_count": null,
      "metadata": {
        "colab": {
          "base_uri": "https://localhost:8080/",
          "height": 490
        },
        "id": "xICmGdwS24je",
        "outputId": "dd2806e6-61c5-47e0-867b-2b74017cc4a3"
      },
      "outputs": [
        {
          "output_type": "execute_result",
          "data": {
            "text/plain": [
              "Text(0.5, 1.0, 'Histogram of residuals')"
            ]
          },
          "metadata": {},
          "execution_count": 72
        },
        {
          "output_type": "display_data",
          "data": {
            "text/plain": [
              "<Figure size 640x480 with 1 Axes>"
            ],
            "image/png": "[encoded data removed]"
          },
          "metadata": {}
        }
      ],
      "source": [
        "import seaborn as sns\n",
        "sns.histplot(errors)\n",
        "plt.xlabel(\" Residuals\")\n",
        "plt.title(\"Histogram of residuals\")"
      ]
    },
    {
      "cell_type": "code",
      "source": [
        "errors"
      ],
      "metadata": {
        "colab": {
          "base_uri": "https://localhost:8080/"
        },
        "id": "GbLkymU7twzZ",
        "outputId": "fced8fb7-4704-4e1a-d560-5a6bfae529c4"
      },
      "execution_count": null,
      "outputs": [
        {
          "output_type": "execute_result",
          "data": {
            "text/plain": [
              "3443    -0.193651\n",
              "16090    0.124025\n",
              "11070    0.404339\n",
              "19214   -0.389842\n",
              "17843   -0.006050\n",
              "           ...   \n",
              "1099    -1.362943\n",
              "18898   -0.487388\n",
              "11798    0.450178\n",
              "6637    -1.146986\n",
              "2575     1.361600\n",
              "Name: selling_price, Length: 15856, dtype: float64"
            ]
          },
          "metadata": {},
          "execution_count": 73
        }
      ]
    },
    {
      "cell_type": "markdown",
      "source": [
        "This looks like a normal distribution, with a high mean and low S.D.\n",
        "\n",
        "Let's do a normality test to check if the distribution is actually normal.\n",
        "\n",
        "Recall:\n",
        "- You must have studied Shapiro Wilk test in statistics module."
      ],
      "metadata": {
        "id": "mD2Wn9J5Aovk"
      }
    },
    {
      "cell_type": "code",
      "source": [
        "from scipy import stats\n",
        "res = stats.shapiro(errors)\n",
        "res.statistic"
      ],
      "metadata": {
        "colab": {
          "base_uri": "https://localhost:8080/"
        },
        "id": "Vmp-sXhwAAYS",
        "outputId": "6f8a5a7b-217c-478f-f780-84fa16439a3c"
      },
      "execution_count": null,
      "outputs": [
        {
          "output_type": "stream",
          "name": "stderr",
          "text": [
            "/usr/local/lib/python3.10/dist-packages/scipy/stats/_morestats.py:1882: UserWarning: p-value may not be accurate for N > 5000.\n",
            "  warnings.warn(\"p-value may not be accurate for N > 5000.\")\n"
          ]
        },
        {
          "output_type": "execute_result",
          "data": {
            "text/plain": [
              "0.8901704549789429"
            ]
          },
          "metadata": {},
          "execution_count": 74
        }
      ]
    },
    {
      "cell_type": "markdown",
      "source": [
        "Closer the value to 1, more is the normality.\n",
        "\n",
        "In this case, a value of 0.85 denotes a high level of normality for the error distribuiton"
      ],
      "metadata": {
        "id": "tfwHEGYzAwZ6"
      }
    },
    {
      "cell_type": "markdown",
      "metadata": {
        "id": "P3Lrf04p6J2F"
      },
      "source": [
        "- If the distribution of errors is gaussian distribution then the assumption of error being normally distributed is being sastified (sanity check)\n",
        "\n"
      ]
    },
    {
      "cell_type": "markdown",
      "metadata": {
        "id": "-KW3D-NduMjC"
      },
      "source": [
        "**Quiz:**\n",
        "```\n",
        "While building a risk prediction model for loan defaulters, it was observed that the erros were right skewed.\n",
        "Does this imply anyway that the linear regression model is inaccurate?\n",
        "\n",
        "\n",
        "A) Yes, since the features are multi-collinear\n",
        "B) Yes, since the errors aren’t normaly distributed\n",
        "C) Yes, by violation of assumption of linearity\n",
        "D) No, the model may be accurate.\n",
        "\n",
        "```\n",
        "**Correct Answer:** B) Yes, since the errors aren’t normaly distributed\n"
      ]
    },
    {
      "cell_type": "markdown",
      "metadata": {
        "id": "r8LiXsoPswFG"
      },
      "source": [
        "# 4.Heteroskedasticity should not exist"
      ]
    },
    {
      "cell_type": "markdown",
      "source": [
        "<!-- <img src='https://drive.google.com/uc?id=1_K0iQfncOvnbO4S3kQjQsX2Rsr2907cr' width=800> -->"
      ],
      "metadata": {
        "id": "7xH6xyswnyQH"
      }
    },
    {
      "cell_type": "markdown",
      "source": [
        "<img src='https://drive.google.com/uc?id=13fjHuhD7rfClnM8RX2ZagJQGpLL5mrun' width=800>\n"
      ],
      "metadata": {
        "id": "lbtaOELnn2KI"
      }
    },
    {
      "cell_type": "markdown",
      "source": [
        "**Quiz** (Check your understanding)\n",
        "\n",
        "```\n",
        "Q: Which diagnostic plot can be used to detect heteroscedasticity?\n",
        "a) Scatterplot of residuals against predicted values.\n",
        "b) Histogram of residuals.\n",
        "c) Normal probability plot of residuals.\n",
        "d) Box plot of residuals.\n",
        "\n",
        "Ans: a) Scatterplot of residuals against predicted values.\n",
        "```"
      ],
      "metadata": {
        "id": "Ohe7Th4PyOEX"
      }
    },
    {
      "cell_type": "markdown",
      "metadata": {
        "id": "sIvb1VNb7aSx"
      },
      "source": [
        "Lets implement heteroskedasticity in Cars24"
      ]
    },
    {
      "cell_type": "code",
      "execution_count": null,
      "metadata": {
        "id": "80U24Gi87iFV"
      },
      "outputs": [],
      "source": [
        "Y_hat = sm_model.predict(X_sm)\n",
        "errors = Y_hat - y_train"
      ]
    },
    {
      "cell_type": "code",
      "execution_count": null,
      "metadata": {
        "colab": {
          "base_uri": "https://localhost:8080/",
          "height": 490
        },
        "id": "36Ijh3H47dJw",
        "outputId": "4d96b031-0343-4b99-ce07-d67786e54237"
      },
      "outputs": [
        {
          "output_type": "execute_result",
          "data": {
            "text/plain": [
              "Text(0.5, 1.0, 'Predicted values vs Residuals')"
            ]
          },
          "metadata": {},
          "execution_count": 76
        },
        {
          "output_type": "display_data",
          "data": {
            "text/plain": [
              "<Figure size 640x480 with 1 Axes>"
            ],
            "image/png": "[encoded data removed]"
          },
          "metadata": {}
        }
      ],
      "source": [
        "sns.scatterplot(x=Y_hat,y=errors)\n",
        "plt.xlabel(\"predicted Selling price\")\n",
        "plt.ylabel(\"Residuals\")\n",
        "plt.title(\"Predicted values vs Residuals\")"
      ]
    },
    {
      "cell_type": "markdown",
      "metadata": {
        "id": "4nltTtnL7z4c"
      },
      "source": [
        "- Notice that As we go from left to right,the spread of  errors is almost constant\n",
        "\n",
        "#### What can we understand from this constant Residuals?\n",
        "- We can assume that heteroskedasticity does not exist in our data\n",
        "- There are outliers present in the dataset\n",
        "\n",
        "We can also use \"Goldfeld-Quandt Test\" to verify our assumptions\n"
      ]
    },
    {
      "cell_type": "markdown",
      "source": [
        "### Using Goldfeld Quandt Test to check homoskedacity\n",
        "\n",
        "- This test is used to test the presence of Heteroscedasticity in the given data\n",
        "- The Goldfeld-Quandt test works by removing some number of observations located in the center of the dataset, then testing to see if the spread of residuals is different from the resulting two datasets that are on either side of the central observations."
      ],
      "metadata": {
        "id": "zukR8GHSjvbh"
      }
    },
    {
      "cell_type": "code",
      "source": [
        "# Performing the Goldfeld-Quandt test to check for Homoscedasticity -\n",
        "from statsmodels.compat import lzip\n",
        "import statsmodels.stats.api as sms\n",
        "\n",
        "name = ['F statistic', 'p-value']\n",
        "test = sms.het_goldfeldquandt(y_train, X2_sm)\n",
        "lzip(name, test)"
      ],
      "metadata": {
        "colab": {
          "base_uri": "https://localhost:8080/"
        },
        "id": "UZZ5H0t8ifhd",
        "outputId": "77362b1b-3405-44e9-ae8c-018b76df9dd4"
      },
      "execution_count": null,
      "outputs": [
        {
          "output_type": "execute_result",
          "data": {
            "text/plain": [
              "[('F statistic', 1.0176613865185002), ('p-value', 0.21807877686817925)]"
            ]
          },
          "metadata": {},
          "execution_count": 77
        }
      ]
    },
    {
      "cell_type": "markdown",
      "source": [
        "From the goldfeld-quandt test:\n",
        "- F Statistic comes out to be 1.00 => Implying minimal difference in variance between groups\n",
        "- p-value of 0.353 indicates that this difference is  statistically significant at conventional levels of significance (e.g., 0.05).\n",
        "\n",
        "Therefore, we accept the null hypothesis of homoscedasticity, and conclude that there is no strong evidence of heteroscedasticity in the data."
      ],
      "metadata": {
        "id": "Newbj6B7i5b2"
      }
    },
    {
      "cell_type": "markdown",
      "source": [
        "\n",
        "**Note**:\n",
        "In case we encounter heteroskedacity, we can use the following methods to remove the same:\n",
        "- We can use transformations such as log, sq.rt., or boxcox transformation to remove heteroskedacity.\n",
        "- Also, removing outliers will help.\n"
      ],
      "metadata": {
        "id": "5qhzBUOpmZC8"
      }
    },
    {
      "cell_type": "markdown",
      "metadata": {
        "id": "19BTAM1L8N-G"
      },
      "source": [
        "# 5. No Autocorrelation"
      ]
    },
    {
      "cell_type": "markdown",
      "source": [
        "<img src='https://drive.google.com/uc?id=1ASQ8QsZdoekhH_Z7gtq20x9yeU-VrnMZ' width=800>\n",
        "\n"
      ],
      "metadata": {
        "id": "Ha6aEfAmn5wU"
      }
    },
    {
      "cell_type": "markdown",
      "metadata": {
        "id": "_zAMI1-wGjQ9"
      },
      "source": [
        "#### Summing up"
      ]
    },
    {
      "cell_type": "markdown",
      "metadata": {
        "id": "Hke9w6YDHE2n"
      },
      "source": [
        "- Summing up the Assumptions:\n",
        "  - There exist a linear function\n",
        "  - There is no auto correlation (related to time series)\n",
        "  - Errors are normally distributed\n",
        "  - No heteroskedasticity\n",
        "  - No multicollinearity\n",
        "\n",
        "We also have a fundamental assumption: $x^{(i)}, y^{(i)}$ are a random sample"
      ]
    },
    {
      "cell_type": "markdown",
      "metadata": {
        "id": "GeLgftypmb4_"
      },
      "source": [
        "**Quiz** (Revision)\n",
        "```\n",
        "In linear regression, a high VIF value suggests:\n",
        "A) Heteroskedasticity is present\n",
        "B) A strong linear relationship between the independent and dependent variables.\n",
        "C) The absence of outliers in the dataset.\n",
        "D) Strong multicollinearity between predictor variables.\n",
        "```\n",
        "\n",
        "**correct Answer**\n",
        "D) Strong multicollinearity between predictor variables."
      ]
    }
  ]
}