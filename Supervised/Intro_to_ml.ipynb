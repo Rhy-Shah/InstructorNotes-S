{
  "nbformat": 4,
  "nbformat_minor": 0,
  "metadata": {
    "colab": {
      "provenance": []
    },
    "kernelspec": {
      "name": "python3",
      "display_name": "Python 3"
    },
    "language_info": {
      "name": "python"
    }
  },
  "cells": [
    {
      "cell_type": "markdown",
      "source": [
        "## Content\n",
        "- Agenda\n",
        "- Already Learnt\n",
        "- DSML Libraries\n",
        "  - Plotting Examples\n",
        "  - Prob and Stats\n",
        "  - Linear Algebra\n",
        "- TO Learn\n",
        "- ML v/s Classical Programming\n",
        "  - SDE vs ML Pipeline\n",
        "  - Tom Mitchell's definition of ML Task\n",
        "  - ETP\n",
        "    - [ML Paradigm](https://www.scaler.com/hire/test/problem/16084/)\n",
        "- ML: Categorisation based on Tasks\n",
        "\n",
        "  - Classifcation\n",
        "    - [Mr Robot ?](https://www.scaler.com/hire/test/problem/32309/)\n",
        "    - [Offensive Comments](https://www.scaler.com/hire/test/problem/23493/) -- Logisitic regression\n",
        "    - [Tsunami-Detection](https://www.scaler.com/hire/test/problem/23499/)\n",
        "    - [Cells at work](https://www.scaler.com/hire/test/problem/32311/)\n",
        "  - Regression      \n",
        "    - [Price is right](https://www.scaler.com/hire/test/problem/32312/)\n",
        "  - Classification v/s Regression\n",
        "  - Supervised Learning\n",
        "    - [Applications of the Supervised Learning](https://www.scaler.com/hire/test/problem/16086/)\n",
        "  - Clustering\n",
        "    - [Insurance fraud](https://www.scaler.com/hire/test/problem/23484/)\n",
        "    - [Customer Strategy](https://www.scaler.com/hire/test/problem/23494/)\n",
        "  - Unsupervised Learning\n",
        "    - [Applications of Unsupervised learning](https://www.scaler.com/hire/test/problem/17741/)"
      ],
      "metadata": {
        "id": "Kd3X-8_Yy5GW"
      }
    },
    {
      "cell_type": "markdown",
      "source": [
        "### Agenda"
      ],
      "metadata": {
        "id": "6aVY9g3cPs56"
      }
    },
    {
      "cell_type": "markdown",
      "source": [
        "### <img src='https://drive.google.com/uc?id=1C2BIUmdjYrpiyY6fxZos2f4X89YpR6KG' width=800>\n",
        "\n"
      ],
      "metadata": {
        "id": "yh-r-DJ9u9G3"
      }
    },
    {
      "cell_type": "markdown",
      "source": [
        "### ALREADY LEARNT\n",
        "\n",
        "\n",
        "\n"
      ],
      "metadata": {
        "id": "yAvDXVzZSe9g"
      }
    },
    {
      "cell_type": "markdown",
      "source": [
        "<img src='https://drive.google.com/uc?id=10YJp80v2Ja1u5i4VV2_DYfrvSokMobWX' width=800>\n"
      ],
      "metadata": {
        "id": "NOXhQhrrM1IR"
      }
    },
    {
      "cell_type": "markdown",
      "source": [
        "### DSML Libraries\n",
        "\n"
      ],
      "metadata": {
        "id": "84f9DwlibpN1"
      }
    },
    {
      "cell_type": "markdown",
      "source": [
        "<img src='https://drive.google.com/uc?id=1Z8AvhG6AYrx0kEj6qKZxfribYTviA4uQ' width=800>\n"
      ],
      "metadata": {
        "id": "43jqKd9Lv34x"
      }
    },
    {
      "cell_type": "markdown",
      "source": [
        "<img src='https://drive.google.com/uc?id=1cY91zGoNWV8ce3Yf2E5nwDO22tqip3Vo' width=800>\n",
        "\n"
      ],
      "metadata": {
        "id": "3YnGykylv5tc"
      }
    },
    {
      "cell_type": "markdown",
      "source": [
        "#### Plotting Examples\n",
        "\n",
        "\n",
        "\n",
        "\n"
      ],
      "metadata": {
        "id": "JQ8_5bQdhRJl"
      }
    },
    {
      "cell_type": "markdown",
      "source": [
        "<img src='https://drive.google.com/uc?id=1ksEXlP4Z9eUEKangmlLhNZicxmqSRMAt' width=800>\n"
      ],
      "metadata": {
        "id": "kQe_evDnQm2Y"
      }
    },
    {
      "cell_type": "markdown",
      "source": [
        "<img src='https://drive.google.com/uc?id=1pc9DcXIcK5PdpBt1ZTN5y0dAE7bcYO7K' width=800>\n"
      ],
      "metadata": {
        "id": "00MndbX6xzIp"
      }
    },
    {
      "cell_type": "markdown",
      "source": [
        "**QUIZ-1**\n",
        "```\n",
        "**You want to display the distribution of students' scores in a class. Which plot is best suited for this task?**\n",
        "a) Bar Plot\n",
        "b) Histogram\n",
        "c) Scatter Plot\n",
        "d) Line Plot\n",
        "```\n",
        "\n",
        "**Answer**\n",
        "b. Histogram"
      ],
      "metadata": {
        "id": "vF6pys05gi0n"
      }
    },
    {
      "cell_type": "markdown",
      "source": [
        "**QUIZ-2**\n",
        "```\n",
        "You want to compare the sales performance of different products in a store. Which plot should you use?\n",
        "a) Scatter Plot\n",
        "b) Bar Plot\n",
        "c) Line Plot\n",
        "d) Pie Chart\n",
        "```\n",
        "\n",
        "**Answer**\n",
        "b. Bar plot"
      ],
      "metadata": {
        "id": "om9YN6qVjn43"
      }
    },
    {
      "cell_type": "markdown",
      "source": [
        "#### Probability and Statistics"
      ],
      "metadata": {
        "id": "w2uA5JbBhRL4"
      }
    },
    {
      "cell_type": "markdown",
      "source": [
        "<img src='https://drive.google.com/uc?id=1V4GI7VbnU1B4Lls79v-Omu1C3mntq17n' width=800>"
      ],
      "metadata": {
        "id": "LqYbAOQWyhOG"
      }
    },
    {
      "cell_type": "markdown",
      "source": [
        "# <img src='https://drive.google.com/uc?id=1RK6RHalXUbv7tJ7ZygclZJjUPOHcb8wl' width=800>\n"
      ],
      "metadata": {
        "id": "jlJXz68oywt0"
      }
    },
    {
      "cell_type": "markdown",
      "source": [
        "<img src='https://drive.google.com/uc?id=1EmXF11gtU3AGY7jJOZET4BEXsjmY8a-n' width=800>\n"
      ],
      "metadata": {
        "id": "TYp-zdn24BwL"
      }
    },
    {
      "cell_type": "markdown",
      "source": [
        "#### Linear Algebra\n",
        "\n",
        "\n"
      ],
      "metadata": {
        "id": "KrP8-7YvhRQV"
      }
    },
    {
      "cell_type": "markdown",
      "source": [
        "<img src='https://drive.google.com/uc?id=11es7qkybQGR4wAmOVIVRs9dYvR2lEDGT' width=800>\n"
      ],
      "metadata": {
        "id": "Lar2tl0F4WaT"
      }
    },
    {
      "cell_type": "markdown",
      "source": [
        "<img src='https://drive.google.com/uc?id=1SnZhl-SN_bUfPtyR_dqLe4gieb_3k5gx' width=800>"
      ],
      "metadata": {
        "id": "ThTkwhlN4Wcp"
      }
    },
    {
      "cell_type": "markdown",
      "source": [
        "\n",
        "<img src='https://drive.google.com/uc?id=15X2o5B4PPEILKxq7kPQL0srfsKEBGYuj' width=800>"
      ],
      "metadata": {
        "id": "-rG7GMlvVNfG"
      }
    },
    {
      "cell_type": "markdown",
      "source": [
        "### TO LEARN  "
      ],
      "metadata": {
        "id": "AGdv-rzMhRW4"
      }
    },
    {
      "cell_type": "markdown",
      "source": [
        "### ML v/s Classical Programming"
      ],
      "metadata": {
        "id": "nZbQQO17xP5T"
      }
    },
    {
      "cell_type": "markdown",
      "source": [
        "<img src='https://drive.google.com/uc?id=1W3a-WULhWso2x0PbSR2Z_lxIJ5DaAaGk' width=800>"
      ],
      "metadata": {
        "id": "SJ1s9ARo5WsY"
      }
    },
    {
      "cell_type": "markdown",
      "source": [
        "#### **How does the SDE pipleline look?**\n",
        "\n"
      ],
      "metadata": {
        "id": "259QdYeShRb2"
      }
    },
    {
      "cell_type": "markdown",
      "source": [
        "<img src='https://drive.google.com/uc?id=1c2zHetGUEn6FNt1hEIajh-4iDSsoJ974' width=800>\n"
      ],
      "metadata": {
        "id": "QI8cxEnF6WCm"
      }
    },
    {
      "cell_type": "markdown",
      "source": [
        "<img src='https://drive.google.com/uc?id=1PkREmb49ABwkpn5Pvf5Wlqn19MxRMg0S' width=800>\n"
      ],
      "metadata": {
        "id": "kr4LOZAH6mMM"
      }
    },
    {
      "cell_type": "markdown",
      "source": [
        "#### How does the ML pipeline look?\n",
        "\n"
      ],
      "metadata": {
        "id": "AaN5JwR5xsRe"
      }
    },
    {
      "cell_type": "markdown",
      "source": [
        "<img src='https://drive.google.com/uc?id=1o13qceJo1AAEYr64TvMVZEvxZ0pybKpK' width=800>"
      ],
      "metadata": {
        "id": "01DPA8mM6w5D"
      }
    },
    {
      "cell_type": "markdown",
      "source": [
        "<img src='https://drive.google.com/uc?id=18b8T00_p29IL-pswfhhcvmKsUPbq4KlE' width=800>"
      ],
      "metadata": {
        "id": "bU5TOB8J7V4Y"
      }
    },
    {
      "cell_type": "markdown",
      "source": [
        "#### \"Well defined\" ML task - Definition by Tom Mitchell"
      ],
      "metadata": {
        "id": "4WHBPyld0Kr6"
      }
    },
    {
      "cell_type": "markdown",
      "source": [
        "\n",
        "<img src='https://drive.google.com/uc?id=1EIscKR4MhkO3kRpDH86heigDiTXQUwjN' width=800>"
      ],
      "metadata": {
        "id": "6UW-O4_R7t2a"
      }
    },
    {
      "cell_type": "markdown",
      "source": [
        "\n",
        "<img src='https://drive.google.com/uc?id=19PyZnOFOBRHDVwpb1PKtFiB4L7pI7g-i' width=800>"
      ],
      "metadata": {
        "id": "a8ab-Thp7t-P"
      }
    },
    {
      "cell_type": "markdown",
      "source": [
        "#### ETP Example"
      ],
      "metadata": {
        "id": "HT5sp1zuELU1"
      }
    },
    {
      "cell_type": "markdown",
      "source": [
        "<img src='https://drive.google.com/uc?id=1xmDpjWZ1WOWetTNWNGth60thSr-ibpIp' width=800>"
      ],
      "metadata": {
        "id": "KauuwFZx7V-k"
      }
    },
    {
      "cell_type": "markdown",
      "source": [
        "\n",
        "<img src='https://drive.google.com/uc?id=15X2o5B4PPEILKxq7kPQL0srfsKEBGYuj' width=800>"
      ],
      "metadata": {
        "id": "R6vusM8afr5R"
      }
    },
    {
      "cell_type": "markdown",
      "source": [
        "\n",
        "\n",
        "\n",
        "<img src='https://drive.google.com/uc?id=1CnyLYmHfIsZhRsEJ5YvhvZCD1lGJckZg' width=800>\n"
      ],
      "metadata": {
        "id": "EYbHvxg7VbQW"
      }
    },
    {
      "cell_type": "markdown",
      "source": [
        "**QUIZ-3**\n",
        "```\n",
        "**Which of the following provides the best explanation of Machine Learning?**\n",
        "\n",
        "1. Machine learning learns from labelled data\n",
        "2. Machine learning is the field of giving robots the ability to act intelligently.\n",
        "3.ML enables computers to learn without explicit programming\n",
        "4. Machine learning is the science of programming computers.\n",
        "```\n",
        "\n",
        "**Answer**\n",
        "3. ML enables computers to learn without explicit programming"
      ],
      "metadata": {
        "id": "BvK4OnCv1HgW"
      }
    },
    {
      "cell_type": "markdown",
      "source": [
        "**QUIZ-4**\n",
        "```\n",
        "**Choose the option which is true about the machine learning definitions given below:**\n",
        "\n",
        "1. Machine learning is the field of study that gives computers the ability to learn without being explicitly programmed.\n",
        "2. A computer program is said to learn from experience E with respect to some class of tasks T and performance measure P, if its performance at tasks in T, as measured by P, improves with experience E.\n",
        "\n",
        "a. Both 1 and 2 are True\n",
        "\n",
        "b. Both 1 and 2 are False\n",
        "\n",
        "c. 1 is True and 2 is False\n",
        "\n",
        "d. 1 is False and 2 is True\n",
        "```\n",
        "\n",
        "**ANSWER**\n",
        "\n",
        "a. Both 1 and 2 are True\n"
      ],
      "metadata": {
        "id": "hC8mt3dX373e"
      }
    },
    {
      "cell_type": "markdown",
      "source": [
        "**QUIZ-5**\n",
        "```\n",
        "\n",
        "In Tom Mitchell's definition, what does the term \"experience\" refer to?\n",
        "a) The amount of data used for training the machine learning model\n",
        "b) The number of times the program has executed a particular task\n",
        "c) The knowledge gained from a specific domain\n",
        "d) The set of tasks or examples the program has encountered\n",
        "```\n",
        "\n",
        "**ANSWER**\n",
        "\n",
        "d. The set of tasks or examples the program has encountered\n",
        "\n",
        "\n"
      ],
      "metadata": {
        "id": "vQb0IZBprGyB"
      }
    },
    {
      "cell_type": "markdown",
      "source": [
        "**QUIZ-6**\n",
        "```\n",
        "What does an SDE typically deal with in terms of data processing in their applications?\n",
        "a) Data cleaning and transformation\n",
        "b) Building and training ML models\n",
        "c) Data visualization\n",
        "d) Data storage and retrieval\n",
        "```\n",
        "\n",
        "**ANSWER**\n",
        "\n",
        "d. Data storage and retrieval"
      ],
      "metadata": {
        "id": "5izQPHCqrV91"
      }
    },
    {
      "cell_type": "markdown",
      "source": [
        "**QUIZ-7**\n",
        "```\n",
        "What is the main objective of an ML pipeline?\n",
        "a) To optimize code performance\n",
        "b) To build and train ML models for data analysis and prediction\n",
        "c) To handle real-time data input and output\n",
        "d) To interact with users and provide real-time responses\n",
        "```\n",
        "\n",
        "**ANSWER**\n",
        "\n",
        "b) To build and train ML models for data analysis and prediction (Correct Answer)"
      ],
      "metadata": {
        "id": "7pZlGDM4sg8I"
      }
    },
    {
      "cell_type": "markdown",
      "source": [
        " **QUIZ-8**\n",
        "```\n",
        "You work for a power company that owns meters, which are connected to the internet and transmit energy usage data in real-time. Your supervisor asks you to use machine learning to analyze this data. Why are machine learning algorithms ideal here?\n",
        "\n",
        " The algorithms would help the meters access the internet.\n",
        " The algorithms will improve the wireless connectivity.\n",
        " The algorithms would help your organization see patterns of the data.\n",
        " By using machine learning algorithms, you are creating an IoT device.\n",
        "\n",
        "```\n",
        "\n",
        "**ANSWER**\n",
        "\n",
        "3.  The algorithms would help your organization see patterns of the data.\n",
        "\n",
        "\n"
      ],
      "metadata": {
        "id": "h7GWoFFFm1oG"
      }
    },
    {
      "cell_type": "markdown",
      "source": [
        "\n",
        "\n",
        "\n",
        "\n",
        "\n",
        "**Hint (instructor can say):**\n",
        "- Remember the E, P and T Example, it will help in assessment"
      ],
      "metadata": {
        "id": "4JYkWIhR43qx"
      }
    },
    {
      "cell_type": "markdown",
      "source": [
        "#### ML Topics Categorisation"
      ],
      "metadata": {
        "id": "ljrzETUKJLv-"
      }
    },
    {
      "cell_type": "markdown",
      "source": [
        "<img src='https://drive.google.com/uc?id=1mi6WV7Pfs_2Uu1LhlL3_rCCuZEcG0uip' width=800>"
      ],
      "metadata": {
        "id": "8p-yL9zo8-cE"
      }
    },
    {
      "cell_type": "markdown",
      "source": [
        "<img src='https://drive.google.com/uc?id=15ucp5k3RNxYtLtmSjfTmIiagIgtJR0_0' width=800>"
      ],
      "metadata": {
        "id": "-8iap3Lv9jSS"
      }
    },
    {
      "cell_type": "markdown",
      "source": [
        "### ML Categorisation based on Tasks"
      ],
      "metadata": {
        "id": "7BuxD1M4OBjY"
      }
    },
    {
      "cell_type": "markdown",
      "source": [
        "#### Classification"
      ],
      "metadata": {
        "id": "hrGzlgv4OH1e"
      }
    },
    {
      "cell_type": "markdown",
      "source": [
        "<img src='https://drive.google.com/uc?id=180H1_PNOAk99IWOB5_p9iwt3Z7wnQ5C4' width=800>"
      ],
      "metadata": {
        "id": "lhSNmSBm9yEr"
      }
    },
    {
      "cell_type": "markdown",
      "source": [
        "<img src='https://drive.google.com/uc?id=1bNuJbKIQK5aCS2kBnpAj4Jjlnl3JGLez' width=800>"
      ],
      "metadata": {
        "id": "I73YFTB993Eu"
      }
    },
    {
      "cell_type": "markdown",
      "source": [
        "**Quiz-9**\n",
        "\n",
        "```\n",
        "\n",
        "**Which of the followings is/are true about classification?**\n",
        "\n",
        "1.  Classification can be defined as a predictive model mapping inputs to discrete outputs\n",
        "2. Class label prob. enables classification algos to predict continuous values.\n",
        "3. A classification algorithm can have both discrete and real-valued input variables.\n",
        "4. All of the options\n",
        "```\n",
        "\n",
        "**ANSWER**\n",
        "4. All of the options"
      ],
      "metadata": {
        "id": "jdByo1ieOWDo"
      }
    },
    {
      "cell_type": "markdown",
      "source": [
        "#### Regression"
      ],
      "metadata": {
        "id": "-f2DGnmBOWdH"
      }
    },
    {
      "cell_type": "markdown",
      "source": [
        "<img src='https://drive.google.com/uc?id=130O-BY41EEukdtctjWK2nAnoBUgwyKID' width=800>"
      ],
      "metadata": {
        "id": "MzaAFeEx-UZ3"
      }
    },
    {
      "cell_type": "markdown",
      "source": [
        "#### Regression v/s Classification"
      ],
      "metadata": {
        "id": "MiJkVJPPOj14"
      }
    },
    {
      "cell_type": "markdown",
      "source": [
        "<img src='https://drive.google.com/uc?id=1p9pPCDtOwlRTWrVGfaCMIOKXtyWd0xjC' width=800>\n"
      ],
      "metadata": {
        "id": "HQJ2Kk0b-Y4z"
      }
    },
    {
      "cell_type": "markdown",
      "source": [
        "<img src='https://drive.google.com/uc?id=1Q8MFunwq7Boq7Y_XxMXuBpAnmxvJb2S_' width=800>\n"
      ],
      "metadata": {
        "id": "kEXgwOGl_CZ4"
      }
    },
    {
      "cell_type": "markdown",
      "source": [
        "\n",
        "<img src='https://drive.google.com/uc?id=15X2o5B4PPEILKxq7kPQL0srfsKEBGYuj' width=800>"
      ],
      "metadata": {
        "id": "sna3Ufl3f4LO"
      }
    },
    {
      "cell_type": "markdown",
      "source": [
        "\n",
        "\n",
        "\n",
        "<img src='https://drive.google.com/uc?id=1CnyLYmHfIsZhRsEJ5YvhvZCD1lGJckZg' width=800>\n"
      ],
      "metadata": {
        "id": "e9eDc0CRg786"
      }
    },
    {
      "cell_type": "markdown",
      "source": [
        "<img src='https://drive.google.com/uc?id=1GhkArAAxjd2pNfChOYWe8TAoRWhAw2ID' width=800>"
      ],
      "metadata": {
        "id": "YSaztZlUgnSF"
      }
    },
    {
      "cell_type": "markdown",
      "source": [
        "#### Supervised Learning"
      ],
      "metadata": {
        "id": "AaTuefp6Oo7a"
      }
    },
    {
      "cell_type": "markdown",
      "source": [
        "\n",
        "<img src='https://drive.google.com/uc?id=1dEFmIXNUzuhVEdJo3IwdYHT2kuRoY4Ct' width=800>\n"
      ],
      "metadata": {
        "id": "ndWOMmto_dYM"
      }
    },
    {
      "cell_type": "markdown",
      "source": [
        "#### Clustering"
      ],
      "metadata": {
        "id": "mvHoYG44OtIC"
      }
    },
    {
      "cell_type": "markdown",
      "source": [
        "\n",
        "<img src='https://drive.google.com/uc?id=1q2ldtYcjujOGIG4IUklwfD2pOnJY0sGR' width=800>\n"
      ],
      "metadata": {
        "id": "Znu8EJgQ_hDG"
      }
    },
    {
      "cell_type": "markdown",
      "source": [
        "\n",
        "<img src='https://drive.google.com/uc?id=1Oi2lKKaK0rTm5GYqth8IWvyOgMmHrlB2' width=800>\n"
      ],
      "metadata": {
        "id": "NCkDyqrB_he8"
      }
    },
    {
      "cell_type": "markdown",
      "source": [
        "\n",
        "<img src='https://drive.google.com/uc?id=1a6Bc0DPf-BWXXbcEF-uok8uwkkyKgv8P' width=800>"
      ],
      "metadata": {
        "id": "yF4j9M5H_hzI"
      }
    },
    {
      "cell_type": "markdown",
      "source": [
        "**Quiz-10**\n",
        "\n",
        "```\n",
        "*A property dealer has a dataset consisting of features like area, price, etc.\n",
        "Now a customer comes to him asking for a property with a certain number of rooms.\n",
        "\n",
        " Which kind of machine learning technique should the property dealer use from the following?*\n",
        "\n",
        "1. Classification\n",
        "2. Regression\n",
        "3. Clustering\n",
        "\n",
        "```\n",
        "\n",
        "**ANSWER**\n",
        "3. Clustering"
      ],
      "metadata": {
        "id": "Xla0ZHGfAYWz"
      }
    },
    {
      "cell_type": "markdown",
      "source": [
        "#### Unsupervised Learning"
      ],
      "metadata": {
        "id": "NU8H3XR7OtMk"
      }
    },
    {
      "cell_type": "markdown",
      "source": [
        "\n",
        "<img src='https://drive.google.com/uc?id=1kSFaQfYOpumsJbwLevt6v7J8J8oeBT_d' width=800>\n"
      ],
      "metadata": {
        "id": "aJoDp3Dp_iBm"
      }
    },
    {
      "cell_type": "markdown",
      "source": [
        "\n",
        "<img src='https://drive.google.com/uc?id=1-0Eg_CSwSOnyH2NCADL4V0TgAo97_HUp' width=800>\n"
      ],
      "metadata": {
        "id": "wy0RvlqI__dL"
      }
    },
    {
      "cell_type": "markdown",
      "source": [
        "\n",
        "<img src='https://drive.google.com/uc?id=15X2o5B4PPEILKxq7kPQL0srfsKEBGYuj' width=800>"
      ],
      "metadata": {
        "id": "fMA8___ZhBQl"
      }
    },
    {
      "cell_type": "markdown",
      "source": [
        "\n",
        "\n",
        "\n",
        "<img src='https://drive.google.com/uc?id=1CnyLYmHfIsZhRsEJ5YvhvZCD1lGJckZg' width=800>\n"
      ],
      "metadata": {
        "id": "bJSnDkmLhBQz"
      }
    },
    {
      "cell_type": "markdown",
      "source": [
        "\n",
        "\n",
        "\n",
        "<img src='https://drive.google.com/uc?id=1wTUfSSW3G7_YB4fmovnrhm3DyDqfyZs2' width=800>\n"
      ],
      "metadata": {
        "id": "fKY-gdgMVygS"
      }
    },
    {
      "cell_type": "markdown",
      "source": [
        "**Quiz-11**\n",
        "\n",
        "```\n",
        "\n",
        "**Imagine that you have thousands of copies of some identical items to sell, and you want to predict how many of these items you sell over the next three months, which technique would be appropriate for this task?**\n",
        "\n",
        "1. Classification\n",
        "2. Regression\n",
        "3. Clustering\n",
        "```\n",
        "\n",
        "**Answer**\n",
        "2. Regression\n",
        "\n"
      ],
      "metadata": {
        "id": "W3LCZhrs9Cnk"
      }
    },
    {
      "cell_type": "markdown",
      "source": [
        "**Quiz-12**\n",
        "```\n",
        "\n",
        "Your supervisor asks you to create a machine learning system that will help your\n",
        "human resources department classify jobs applicants into well-defined groups.\n",
        " What type of system are you more likely to recommend?\n",
        "\n",
        " 1) an unsupervised machine learning system that clusters together the best candidates.\n",
        " 2) you would not recommend a machine learning system for this type of project.\n",
        " 3) a supervised machine learning system that classifies applicants into existing groups.\n",
        "\n",
        "```\n",
        "\n",
        "**ANSWER**\n",
        "3. a supervised machine learning system that classifies applicants into existing groups."
      ],
      "metadata": {
        "id": "CTeG8zsX9xZq"
      }
    },
    {
      "cell_type": "markdown",
      "source": [
        "**Quiz-13**\n",
        "\n",
        "```\n",
        "**\n",
        "The security company you work for is thinking about adding machine learning\n",
        "algorithms to their computer network threat detection appliance.\n",
        "What is one advantage of using machine learning?\n",
        "**\n",
        "\n",
        " 1. It could better protect against undiscovered threats.\n",
        " 2. It would very likely lower the hardware requirements.\n",
        " 3. It would substantially shorten your development time.\n",
        " 4. It would increase the speed of the appliance.\n",
        "\n",
        "```\n",
        "\n",
        "**ANSWER**\n",
        "1. It could better protect against undiscovered threats."
      ],
      "metadata": {
        "id": "Ngf0azRtppSj"
      }
    },
    {
      "cell_type": "markdown",
      "source": [
        "**Quiz-14**\n",
        "\n",
        "```\n",
        "You are working on a project to predict stock prices based on historical market data, and you have a dataset with features such as past stock prices, trading volume, and other market indicators.\n",
        "Is this a supervised or unsupervised learning problem?\n",
        "\n",
        "a. Supervised learning\n",
        "b. Unsupervised learning\n",
        "\n",
        "```\n",
        "\n",
        "**ANSWER**\n",
        "\n",
        "a. Supervised Learning\n",
        "\n",
        "Explanation: This is a supervised learning problem because the dataset contains labeled examples (historical market data with corresponding stock prices) that can be used to train a regression or time series forecasting model."
      ],
      "metadata": {
        "id": "JCShNWFZt2E6"
      }
    },
    {
      "cell_type": "markdown",
      "source": [
        "**Quiz-15**\n",
        "\n",
        "```\n",
        "You have a dataset of customer feedback comments, and you want to categorize them into different topics, such as product quality, customer service, and delivery.\n",
        "Is this a supervised or unsupervised learning problem?\n",
        "\n",
        "a. Supervised learning\n",
        "b. Unsupervised learning\n",
        "\n",
        "```\n",
        "\n",
        "**ANSWER**\n",
        "\n",
        "\n",
        "Answer: Unsupervised Learning\n",
        "\n",
        "Explanation: This is an unsupervised learning problem because there are no predefined categories for customer feedback topics, and the goal is to identify patterns or topics in the text data."
      ],
      "metadata": {
        "id": "lEvyKbfHQm7D"
      }
    }
  ]
}