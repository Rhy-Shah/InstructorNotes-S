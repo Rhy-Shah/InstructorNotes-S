{
  "nbformat": 4,
  "nbformat_minor": 0,
  "metadata": {
    "colab": {
      "provenance": []
    },
    "kernelspec": {
      "name": "python3",
      "display_name": "Python 3"
    },
    "language_info": {
      "name": "python"
    }
  },
  "cells": [
    {
      "cell_type": "markdown",
      "source": [
        "## Content\n",
        "\n",
        "\n",
        "\n",
        "- Model Interpretability\n",
        "  - Understanding the model\n",
        "  -  [Let's talk Gym!](https://www.scaler.com/hire/test/problem/16187/)\n",
        "  - [Most impactful Feature](https://www.scaler.com/hire/test/problem/24124/)\n",
        "  - [What to do?](https://www.scaler.com/hire/test/problem/24127/)\n",
        "  - Quiz\n",
        "\n",
        "- Gradient Descent Revision\n",
        "  - Quiz 1\n",
        "- Define Linear Regression class\n",
        " - code for helper functions - predict, score\n",
        "- Optimization\n",
        " - [Calculate the loss value](https://www.scaler.com/hire/test/problem/24081/)\n",
        " - [Convergence in GD](https://www.scaler.com/hire/test/problem/16526/)\n",
        " - [Updated values of weights](https://www.scaler.com/hire/test/problem/24096/)\n",
        " - [Squaring the Residuals](https://www.scaler.com/hire/test/problem/19742/)\n",
        " - [Error functions](https://www.scaler.com/hire/test/problem/17394/)\n",
        " - Quiz 2-4\n",
        "\n",
        "- Implementing Gradient Descent\n",
        " - [Residuals Sum](https://www.scaler.com/hire/test/problem/17338/)\n",
        " - [Size of squares](https://www.scaler.com/hire/test/problem/32438/)\n",
        " - [Residual Space](https://www.scaler.com/hire/test/problem/24131/)\n",
        " - model.fit\n",
        " - Quiz 5-6\n",
        "- Plotting  loss function and weights with iteration\n"
      ],
      "metadata": {
        "id": "JVOfgcgn0sSt"
      }
    },
    {
      "cell_type": "markdown",
      "source": [
        "<img src='https://drive.google.com/uc?id=1vEYcjlfeE0NpLPadxUbY2qnTZhBcAiEv' width=800>"
      ],
      "metadata": {
        "id": "9kQPFVNVmjNZ"
      }
    },
    {
      "cell_type": "markdown",
      "source": [
        "## Model fitting from previous lecture"
      ],
      "metadata": {
        "id": "qXnqaWmkpDnH"
      }
    },
    {
      "cell_type": "code",
      "execution_count": null,
      "metadata": {
        "id": "49spn9EhihUg"
      },
      "outputs": [],
      "source": [
        "import numpy as np\n",
        "import pandas as pd\n",
        "import matplotlib.pyplot as plt"
      ]
    },
    {
      "cell_type": "markdown",
      "source": [
        "### Loading preprocessed data"
      ],
      "metadata": {
        "id": "b1-pKfKvpAzN"
      }
    },
    {
      "cell_type": "code",
      "source": [
        "!gdown 1tWCalxQ6gGXD6sRTskh9XTjAgFH0xcNF\n",
        "\n",
        "!gdown 1Fp6e6vf_YID8qwCNHWSbvPH5-R3HQB5N\n",
        "\n",
        "!gdown 14q4g4K3DjIi7v8Omej9za9EmOpUeLIEH\n",
        "\n",
        "!gdown 1TSGIJi5vcXYd398KaJpn7RXvckmttYIt"
      ],
      "metadata": {
        "colab": {
          "base_uri": "https://localhost:8080/"
        },
        "id": "Xmxsje6FQx-U",
        "outputId": "222a259d-51cd-4dd4-c4c9-a9402de64a40"
      },
      "execution_count": null,
      "outputs": [
        {
          "output_type": "stream",
          "name": "stdout",
          "text": [
            "Downloading...\n",
            "From: https://drive.google.com/uc?id=1tWCalxQ6gGXD6sRTskh9XTjAgFH0xcNF\n",
            "To: /content/cars24_x_train.pkl\n",
            "100% 1.78M/1.78M [00:00<00:00, 43.2MB/s]\n",
            "Downloading...\n",
            "From: https://drive.google.com/uc?id=1Fp6e6vf_YID8qwCNHWSbvPH5-R3HQB5N\n",
            "To: /content/cars24_X_test.pkl\n",
            "100% 762k/762k [00:00<00:00, 27.4MB/s]\n",
            "Downloading...\n",
            "From: https://drive.google.com/uc?id=14q4g4K3DjIi7v8Omej9za9EmOpUeLIEH\n",
            "To: /content/cars24_y_train.pkl\n",
            "100% 112k/112k [00:00<00:00, 70.2MB/s]\n",
            "Downloading...\n",
            "From: https://drive.google.com/uc?id=1TSGIJi5vcXYd398KaJpn7RXvckmttYIt\n",
            "To: /content/cars24_y_test.pkl\n",
            "100% 48.2k/48.2k [00:00<00:00, 44.5MB/s]\n"
          ]
        }
      ]
    },
    {
      "cell_type": "code",
      "source": [
        "X_train = pd.read_pickle('/content/cars24_x_train.pkl')\n",
        "X_test = pd.read_pickle(\"/content/cars24_X_test.pkl\")\n",
        "y_train = pd.read_pickle(\"/content/cars24_y_train.pkl\")\n",
        "y_test = pd.read_pickle(\"/content/cars24_y_test.pkl\")"
      ],
      "metadata": {
        "id": "VpuRrzZuQ8d7"
      },
      "execution_count": null,
      "outputs": []
    },
    {
      "cell_type": "markdown",
      "source": [
        "### Fitting model"
      ],
      "metadata": {
        "id": "F_JPL7ne6dm1"
      }
    },
    {
      "cell_type": "code",
      "source": [
        "from sklearn.linear_model import LinearRegression\n",
        "model = LinearRegression()\n",
        "model.fit(X_train, y_train)"
      ],
      "metadata": {
        "colab": {
          "base_uri": "https://localhost:8080/",
          "height": 75
        },
        "id": "2uZRGXvP7EA2",
        "outputId": "89f58ae5-d1fd-4a94-edfe-c8c9a1385ec3"
      },
      "execution_count": null,
      "outputs": [
        {
          "output_type": "execute_result",
          "data": {
            "text/plain": [
              "LinearRegression()"
            ],
            "text/html": [
              "<style>#sk-container-id-1 {color: black;background-color: white;}#sk-container-id-1 pre{padding: 0;}#sk-container-id-1 div.sk-toggleable {background-color: white;}#sk-container-id-1 label.sk-toggleable__label {cursor: pointer;display: block;width: 100%;margin-bottom: 0;padding: 0.3em;box-sizing: border-box;text-align: center;}#sk-container-id-1 label.sk-toggleable__label-arrow:before {content: \"▸\";float: left;margin-right: 0.25em;color: #696969;}#sk-container-id-1 label.sk-toggleable__label-arrow:hover:before {color: black;}#sk-container-id-1 div.sk-estimator:hover label.sk-toggleable__label-arrow:before {color: black;}#sk-container-id-1 div.sk-toggleable__content {max-height: 0;max-width: 0;overflow: hidden;text-align: left;background-color: #f0f8ff;}#sk-container-id-1 div.sk-toggleable__content pre {margin: 0.2em;color: black;border-radius: 0.25em;background-color: #f0f8ff;}#sk-container-id-1 input.sk-toggleable__control:checked~div.sk-toggleable__content {max-height: 200px;max-width: 100%;overflow: auto;}#sk-container-id-1 input.sk-toggleable__control:checked~label.sk-toggleable__label-arrow:before {content: \"▾\";}#sk-container-id-1 div.sk-estimator input.sk-toggleable__control:checked~label.sk-toggleable__label {background-color: #d4ebff;}#sk-container-id-1 div.sk-label input.sk-toggleable__control:checked~label.sk-toggleable__label {background-color: #d4ebff;}#sk-container-id-1 input.sk-hidden--visually {border: 0;clip: rect(1px 1px 1px 1px);clip: rect(1px, 1px, 1px, 1px);height: 1px;margin: -1px;overflow: hidden;padding: 0;position: absolute;width: 1px;}#sk-container-id-1 div.sk-estimator {font-family: monospace;background-color: #f0f8ff;border: 1px dotted black;border-radius: 0.25em;box-sizing: border-box;margin-bottom: 0.5em;}#sk-container-id-1 div.sk-estimator:hover {background-color: #d4ebff;}#sk-container-id-1 div.sk-parallel-item::after {content: \"\";width: 100%;border-bottom: 1px solid gray;flex-grow: 1;}#sk-container-id-1 div.sk-label:hover label.sk-toggleable__label {background-color: #d4ebff;}#sk-container-id-1 div.sk-serial::before {content: \"\";position: absolute;border-left: 1px solid gray;box-sizing: border-box;top: 0;bottom: 0;left: 50%;z-index: 0;}#sk-container-id-1 div.sk-serial {display: flex;flex-direction: column;align-items: center;background-color: white;padding-right: 0.2em;padding-left: 0.2em;position: relative;}#sk-container-id-1 div.sk-item {position: relative;z-index: 1;}#sk-container-id-1 div.sk-parallel {display: flex;align-items: stretch;justify-content: center;background-color: white;position: relative;}#sk-container-id-1 div.sk-item::before, #sk-container-id-1 div.sk-parallel-item::before {content: \"\";position: absolute;border-left: 1px solid gray;box-sizing: border-box;top: 0;bottom: 0;left: 50%;z-index: -1;}#sk-container-id-1 div.sk-parallel-item {display: flex;flex-direction: column;z-index: 1;position: relative;background-color: white;}#sk-container-id-1 div.sk-parallel-item:first-child::after {align-self: flex-end;width: 50%;}#sk-container-id-1 div.sk-parallel-item:last-child::after {align-self: flex-start;width: 50%;}#sk-container-id-1 div.sk-parallel-item:only-child::after {width: 0;}#sk-container-id-1 div.sk-dashed-wrapped {border: 1px dashed gray;margin: 0 0.4em 0.5em 0.4em;box-sizing: border-box;padding-bottom: 0.4em;background-color: white;}#sk-container-id-1 div.sk-label label {font-family: monospace;font-weight: bold;display: inline-block;line-height: 1.2em;}#sk-container-id-1 div.sk-label-container {text-align: center;}#sk-container-id-1 div.sk-container {/* jupyter's `normalize.less` sets `[hidden] { display: none; }` but bootstrap.min.css set `[hidden] { display: none !important; }` so we also need the `!important` here to be able to override the default hidden behavior on the sphinx rendered scikit-learn.org. See: https://github.com/scikit-learn/scikit-learn/issues/21755 */display: inline-block !important;position: relative;}#sk-container-id-1 div.sk-text-repr-fallback {display: none;}</style><div id=\"sk-container-id-1\" class=\"sk-top-container\"><div class=\"sk-text-repr-fallback\"><pre>LinearRegression()</pre><b>In a Jupyter environment, please rerun this cell to show the HTML representation or trust the notebook. <br />On GitHub, the HTML representation is unable to render, please try loading this page with nbviewer.org.</b></div><div class=\"sk-container\" hidden><div class=\"sk-item\"><div class=\"sk-estimator sk-toggleable\"><input class=\"sk-toggleable__control sk-hidden--visually\" id=\"sk-estimator-id-1\" type=\"checkbox\" checked><label for=\"sk-estimator-id-1\" class=\"sk-toggleable__label sk-toggleable__label-arrow\">LinearRegression</label><div class=\"sk-toggleable__content\"><pre>LinearRegression()</pre></div></div></div></div></div>"
            ]
          },
          "metadata": {},
          "execution_count": 4
        }
      ]
    },
    {
      "cell_type": "markdown",
      "source": [
        "## Model Interpretability"
      ],
      "metadata": {
        "id": "RuYvLFeTrGWN"
      }
    },
    {
      "cell_type": "markdown",
      "source": [
        "### Understanding our model"
      ],
      "metadata": {
        "id": "-_dp1OGLRbIO"
      }
    },
    {
      "cell_type": "markdown",
      "source": [
        "\n",
        "\n",
        "<img src='https://drive.google.com/uc?id=1SBu-FfxzNPVk9gj7FNsga3VdbbOl1wG3' width=800>\n",
        "\n"
      ],
      "metadata": {
        "id": "1T4ZdgSaoFHh"
      }
    },
    {
      "cell_type": "markdown",
      "source": [
        "\n",
        "\n",
        "<img src='https://drive.google.com/uc?id=1N7cIH09q9xeTIe-SB1w-TRMdfQ2_U7Ey' width=800>"
      ],
      "metadata": {
        "id": "zArDiC9SoKAw"
      }
    },
    {
      "cell_type": "markdown",
      "source": [
        "\n",
        "\n",
        "<img src='https://drive.google.com/uc?id=164T17CHeejTAokTwKeZ1Na1bJ0YsvbAg' width=800>\n",
        "\n",
        "\n",
        "\n",
        "\n"
      ],
      "metadata": {
        "id": "WBmIMpwQpFDO"
      }
    },
    {
      "cell_type": "markdown",
      "source": [
        "\n",
        "<img src='https://drive.google.com/uc?id=1ATwrQdEU6EsHY5F8y4YDhfCp8uZUIzYB' width=800>\n"
      ],
      "metadata": {
        "id": "bcoTRU_epkns"
      }
    },
    {
      "cell_type": "markdown",
      "source": [
        "\n",
        "\n",
        "<img src='https://drive.google.com/uc?id=1Cus9zEqS5hk-Mlud2hqTjKYtqZettdS4' width=800>\n",
        "\n",
        "\n",
        "\n",
        "\n"
      ],
      "metadata": {
        "id": "NnoBWLBApNTj"
      }
    },
    {
      "cell_type": "markdown",
      "source": [
        "**Quiz-12** (What do you think?)\n",
        "\n",
        "```\n",
        "Q: Feature importance in linear regression is determined by:\n",
        "\n",
        "a) The magnitude of the regression coefficients.\n",
        "b) The number of observations in the dataset.\n",
        "c) The correlation between the independent variables.\n",
        "d) The average squared difference between the predicted and actual values.\n",
        "\n",
        "A: a) The magnitude of the regression coefficients.\n",
        "```"
      ],
      "metadata": {
        "id": "4qfn2vKNyCu4"
      }
    },
    {
      "cell_type": "markdown",
      "source": [
        "**Quiz-13** (What do you think?)\n",
        "\n",
        "```\n",
        "When assessing model interpretability in Linear Regression, what is the impact of feature scaling?\n",
        "a) Feature scaling does not affect model interpretability\n",
        "b) Feature scaling improves model interpretability\n",
        "c) Feature scaling can help compare the magnitudes of different coefficients\n",
        "\n",
        "ANS: C\n",
        "Explanation: Feature scaling helps to bring features to a common scale, making it easier to compare the magnitudes of different coefficients and interpret their importance accurately.\n",
        "```"
      ],
      "metadata": {
        "id": "bzjEP5bCbobD"
      }
    },
    {
      "cell_type": "markdown",
      "source": [
        "**Quiz-14** (What do you think?)\n",
        "\n",
        "```\n",
        "Consider the following Linear Regression model equation:\n",
        "\n",
        "y = 5.2x_1 - 3.8x_2 + 2.1x_3 + 0.7x_4 - 1.5\n",
        "\n",
        "\n",
        "If all features (x1, x2, x3, x4) in the model have coefficients close to zero, how would you interpret the importance of features?\n",
        "a) All features are equally important\n",
        "b) The model is overfitting\n",
        "c) The model is likely to perform poorly\n",
        "d) The model may be simplifying to a constant term or excluding features\n",
        "\n",
        "Ans: D\n",
        "\n",
        "Explanation: If all features have coefficients close to zero, it suggests that the model is simplifying to a constant term (intercept only) or excluding features, and the importance of features in predicting the target variable is minimal.\n",
        "```"
      ],
      "metadata": {
        "id": "Rmc1PxoRckz1"
      }
    },
    {
      "cell_type": "markdown",
      "source": [
        "**Quiz-15** (What do you think?)\n",
        "\n",
        "```\n",
        "Consider the following Linear Regression model equation:\n",
        "\n",
        "y = 5.2x_1 - 3.8x_2 + 2.1x_3 + 0.01x_4 - 1.5\n",
        "\n",
        "\n",
        "if we were to drop one feature, which one would be the best choice ?\n",
        "a) x1\n",
        "b) x2\n",
        "c) x3\n",
        "d) x4\n",
        "\n",
        "Ans: D\n",
        "\n",
        "Explanation: smallest coefficient\n",
        "```"
      ],
      "metadata": {
        "id": "JUNLBUZPiNia"
      }
    },
    {
      "cell_type": "markdown",
      "source": [
        "#### So which feature do you think is the most important in our case?"
      ],
      "metadata": {
        "id": "Z8R3HmWRyPZe"
      }
    },
    {
      "cell_type": "markdown",
      "source": [
        "<img src='https://drive.google.com/uc?id=1a-_iYjIWB4EtgJYxWXVm_9PNtXg5xbX_' width=800>\n"
      ],
      "metadata": {
        "id": "nvB3azkgppWU"
      }
    },
    {
      "cell_type": "markdown",
      "source": [
        "<img src='https://drive.google.com/uc?id=1WPJYvBXmCDEMxKFhc8L73wvxyl-RGogs' width=800>\n"
      ],
      "metadata": {
        "id": "8OT2RS1gpXpi"
      }
    },
    {
      "cell_type": "code",
      "source": [
        "model.coef_"
      ],
      "metadata": {
        "colab": {
          "base_uri": "https://localhost:8080/"
        },
        "id": "-RAiQWwwrCFV",
        "outputId": "d4857e1e-ac88-4851-8ae5-06d4da830549"
      },
      "execution_count": null,
      "outputs": [
        {
          "output_type": "execute_result",
          "data": {
            "text/plain": [
              "array([-0.22864076, -0.22718566,  0.06493271,  0.04101896, -0.20803904,\n",
              "        0.06292526,  0.8680704 , -0.00692582, -0.00676553,  0.00537632,\n",
              "        0.13338991,  0.01451176, -0.00704768, -0.0039257 , -0.01313206,\n",
              "       -0.02020274])"
            ]
          },
          "metadata": {},
          "execution_count": 5
        }
      ]
    },
    {
      "cell_type": "code",
      "source": [
        "import seaborn as sns\n",
        "\n",
        "imp = pd.DataFrame(list(zip(X_test.columns,np.abs(model.coef_))),\n",
        "                   columns=['feature', 'coeff'])\n",
        "sns.barplot(x='feature', y='coeff', data=imp)\n",
        "plt.xticks(rotation=90)"
      ],
      "metadata": {
        "colab": {
          "base_uri": "https://localhost:8080/",
          "height": 859
        },
        "id": "OB_xx3XFdeMq",
        "outputId": "da2fface-d752-428a-9c58-114ea570ce4c"
      },
      "execution_count": null,
      "outputs": [
        {
          "output_type": "execute_result",
          "data": {
            "text/plain": [
              "([0, 1, 2, 3, 4, 5, 6, 7, 8, 9, 10, 11, 12, 13, 14, 15],\n",
              " [Text(0, 0, 'km_driven'),\n",
              "  Text(1, 0, 'mileage'),\n",
              "  Text(2, 0, 'engine'),\n",
              "  Text(3, 0, 'max_power'),\n",
              "  Text(4, 0, 'age'),\n",
              "  Text(5, 0, 'make'),\n",
              "  Text(6, 0, 'model'),\n",
              "  Text(7, 0, 'Individual'),\n",
              "  Text(8, 0, 'Trustmark Dealer'),\n",
              "  Text(9, 0, 'Diesel'),\n",
              "  Text(10, 0, 'Electric'),\n",
              "  Text(11, 0, 'LPG'),\n",
              "  Text(12, 0, 'Petrol'),\n",
              "  Text(13, 0, 'Manual'),\n",
              "  Text(14, 0, '5'),\n",
              "  Text(15, 0, '>5')])"
            ]
          },
          "metadata": {},
          "execution_count": 6
        },
        {
          "output_type": "display_data",
          "data": {
            "text/plain": [
              "<Figure size 640x480 with 1 Axes>"
            ],
            "image/png": "[encoded data removed]"
          },
          "metadata": {}
        }
      ]
    },
    {
      "cell_type": "code",
      "source": [
        "X_test.columns[np.argmax(np.abs(model.coef_))]"
      ],
      "metadata": {
        "colab": {
          "base_uri": "https://localhost:8080/",
          "height": 35
        },
        "id": "QbBndNte4XhH",
        "outputId": "8a259ec2-9bfd-4868-9e10-db99d2659baf"
      },
      "execution_count": null,
      "outputs": [
        {
          "output_type": "execute_result",
          "data": {
            "text/plain": [
              "'model'"
            ],
            "application/vnd.google.colaboratory.intrinsic+json": {
              "type": "string"
            }
          },
          "metadata": {},
          "execution_count": 7
        }
      ]
    },
    {
      "cell_type": "code",
      "source": [
        "X_test.columns[np.argmin(np.abs(model.coef_))]"
      ],
      "metadata": {
        "colab": {
          "base_uri": "https://localhost:8080/",
          "height": 35
        },
        "id": "w_7mjq7Y4J2_",
        "outputId": "9ed6a73f-7cdd-4c33-ca15-39c850fa689d"
      },
      "execution_count": null,
      "outputs": [
        {
          "output_type": "execute_result",
          "data": {
            "text/plain": [
              "'Manual'"
            ],
            "application/vnd.google.colaboratory.intrinsic+json": {
              "type": "string"
            }
          },
          "metadata": {},
          "execution_count": 8
        }
      ]
    },
    {
      "cell_type": "markdown",
      "source": [
        "So,\n",
        "- `year` is most important feature,\n",
        "- while `manual` is the least important."
      ],
      "metadata": {
        "id": "xaruMhluzF4z"
      }
    },
    {
      "cell_type": "markdown",
      "source": [
        "## Gradient Descent Revision"
      ],
      "metadata": {
        "id": "dEEA61cn8Shc"
      }
    },
    {
      "cell_type": "markdown",
      "source": [
        "\n",
        "<img src='https://drive.google.com/uc?id=1Af1H4OusQHBiY2qISchMKwW-GZEw-1_v' width=800>"
      ],
      "metadata": {
        "id": "cPVLCA7GmeM0"
      }
    },
    {
      "cell_type": "markdown",
      "source": [
        "\n",
        "<img src='https://drive.google.com/uc?id=1xqscghD43tGGiehXUTNobAo4LGkKK7li' width=800>\n"
      ],
      "metadata": {
        "id": "9kIKcCbB6LDb"
      }
    },
    {
      "cell_type": "markdown",
      "source": [
        "**Quiz** (What do you think?)\n",
        "\n",
        "```\n",
        "In gradient descent, what does the gradient represent?\n",
        "A) The direction of steepest increase of the cost function\n",
        "B) The direction of steepest decrease of the cost function\n",
        "C) The number of training examples in the dataset\n",
        "D) The number of layers in the neural network\n",
        "\n",
        "Correct Answer: A) The direction of steepest increase of the cost function\n",
        "```"
      ],
      "metadata": {
        "id": "_8Rc3wC4pek0"
      }
    },
    {
      "cell_type": "markdown",
      "source": [
        "## Linear Regression\n",
        "\n"
      ],
      "metadata": {
        "id": "dPYWcpsQvy0K"
      }
    },
    {
      "cell_type": "markdown",
      "source": [
        "Let's define our Linear Regression class and some helper functions to help us with the code"
      ],
      "metadata": {
        "id": "gR70vzIuv22P"
      }
    },
    {
      "cell_type": "markdown",
      "source": [
        "<img src='https://drive.google.com/uc?id=1IeY9TJboOo-O-u6MHwV1teTL9hIpvksO' width=800>\n"
      ],
      "metadata": {
        "id": "tLGMJKXk6VUi"
      }
    },
    {
      "cell_type": "code",
      "source": [
        "import numpy as np\n",
        "class LinearRegression() :\n",
        "  def __init__(self, learning_rate=0.01, iterations=5):\n",
        "    self.learning_rate = learning_rate\n",
        "    self.iterations = iterations"
      ],
      "metadata": {
        "id": "AupPV3V58zV3"
      },
      "execution_count": null,
      "outputs": []
    },
    {
      "cell_type": "markdown",
      "source": [
        "Next we define our predict function.\n",
        "\n",
        "It's simply $X*W + b$"
      ],
      "metadata": {
        "id": "u0vVds6C2oSK"
      }
    },
    {
      "cell_type": "code",
      "source": [
        "def predict(self, X):\n",
        "  return np.dot(X, self.W)+self.b\n",
        "\n",
        "LinearRegression.predict=predict"
      ],
      "metadata": {
        "id": "JG67iBro8_fY"
      },
      "execution_count": null,
      "outputs": []
    },
    {
      "cell_type": "markdown",
      "source": [
        "Note:\n",
        "\n",
        "We are using this notation of adding a function, as seen from the last line `LinearRegression.predict=predict`, since we aren't defining the class in one go"
      ],
      "metadata": {
        "id": "DQ-xAUwOMtx2"
      }
    },
    {
      "cell_type": "markdown",
      "source": [
        "<img src='https://drive.google.com/uc?id=1UdmMpYzCkD_0zB7y0IRN0IYbaBgidIlF' width=800>\n"
      ],
      "metadata": {
        "id": "YcCqSGWD67Mv"
      }
    },
    {
      "cell_type": "markdown",
      "source": [
        "Finally we define our evaluation metric, R2 Score"
      ],
      "metadata": {
        "id": "iVH0afu-2yb4"
      }
    },
    {
      "cell_type": "code",
      "source": [
        "def r2_score(self, X, y):\n",
        "  y_ = self.predict(X)\n",
        "  ss_res = np.sum((y-y_)**2)\n",
        "  ss_tot = np.sum((y- y.mean())**2)\n",
        "  score = (1- ss_res/ss_tot)\n",
        "  return score\n",
        "\n",
        "LinearRegression.score=r2_score"
      ],
      "metadata": {
        "id": "__Ukf93a_c4q"
      },
      "execution_count": null,
      "outputs": []
    },
    {
      "cell_type": "markdown",
      "metadata": {
        "id": "lCX9l6ItKGH4"
      },
      "source": [
        "## Optimization\n",
        "\n",
        "Now, we come to our main task of training the model."
      ]
    },
    {
      "cell_type": "markdown",
      "source": [
        "If you remember,\n",
        "- our objective was to find the hyperplane in $d+1$ dimensions\n",
        "- such that this is very close to the $d+1$ dimensional points."
      ],
      "metadata": {
        "id": "bGw55a8627RA"
      }
    },
    {
      "cell_type": "markdown",
      "source": [
        "<img src='https://drive.google.com/uc?id=10GBoieBW79DWg911Z-p0wZdIhDyra0qL' width=800>\n"
      ],
      "metadata": {
        "id": "5fwwaTU77L88"
      }
    },
    {
      "cell_type": "markdown",
      "metadata": {
        "id": "TUXetnEdLUgZ"
      },
      "source": [
        "#### How do we write it as an optimization problem?"
      ]
    },
    {
      "cell_type": "markdown",
      "source": [
        "<img src='https://drive.google.com/uc?id=1cOaA7kTTGYMITXIvXU_-5i8g7y3VSIDs' width=800>\n"
      ],
      "metadata": {
        "id": "PIlklnut7Ng7"
      }
    },
    {
      "cell_type": "markdown",
      "source": [
        "\n",
        "\n",
        "<!-- <img src='https://drive.google.com/uc?id=1l3wDlwid57ezsk96LhuT8y5nUOd_0GXB' width=800> -->\n",
        "\n",
        "\n",
        "\n",
        "<img src='https://drive.google.com/uc?id=1i_l3iHE2ao5IsZryTt27PYE3RhfN-dse' width=800>\n",
        "\n"
      ],
      "metadata": {
        "id": "tMADv4N-R52y"
      }
    },
    {
      "cell_type": "markdown",
      "metadata": {
        "id": "64Dr73XBN4P7"
      },
      "source": [
        "#### Geometric Intuition of Minima in Loss function/ Optimization equation"
      ]
    },
    {
      "cell_type": "markdown",
      "source": [
        "<img src='https://drive.google.com/uc?id=1C23qenLVIkwCRajL_XyWJuj4mhl7PSTK' width=800>\n",
        "\n"
      ],
      "metadata": {
        "id": "g8hZytjHSz0I"
      }
    },
    {
      "cell_type": "markdown",
      "metadata": {
        "id": "PWDZj_TxLKY1"
      },
      "source": [
        "Geometrically, we are trying to finding the global minimal of the loss function\n",
        "\n",
        "- In 2D, let's think of this like a parabola.\n",
        "- Our aim is to find the global minimal point of this parabola.\n"
      ]
    },
    {
      "cell_type": "markdown",
      "metadata": {
        "id": "Fd7B9bhzMuVv"
      },
      "source": [
        "### Solving the optimization equation"
      ]
    },
    {
      "cell_type": "markdown",
      "source": [
        "<img src='https://drive.google.com/uc?id=1Yff33Xy9joMaHZzOy2siaIKd088kqSY0' width=800>\n",
        "\n"
      ],
      "metadata": {
        "id": "CrLfaFWCTGf5"
      }
    },
    {
      "cell_type": "markdown",
      "source": [
        "<img src='https://drive.google.com/uc?id=1fAbEUL9PpLZm3HMGdY4FyTq4v25svD46' width=800>"
      ],
      "metadata": {
        "id": "7AQc1TSWTPka"
      }
    },
    {
      "cell_type": "markdown",
      "source": [
        "<img src='https://drive.google.com/uc?id=1b2sVwO7kgJlNw5-XPGYDHZQ2agCgqi73' width=800>"
      ],
      "metadata": {
        "id": "jtHSV-PATSqz"
      }
    },
    {
      "cell_type": "markdown",
      "source": [
        "\n",
        "<img src='https://drive.google.com/uc?id=15HqkbLHFjX_L0UOzDEXD3cPt81BhuKjB' width=800>"
      ],
      "metadata": {
        "id": "Yzvqx_8wTa9U"
      }
    },
    {
      "cell_type": "markdown",
      "metadata": {
        "id": "iPedFPyweQ3E"
      },
      "source": [
        "### Calculate the gradient"
      ]
    },
    {
      "cell_type": "markdown",
      "source": [
        "\n",
        "<img src='https://drive.google.com/uc?id=1zVUQ9boEG6eCvT-_WA0x5i8pFdruyvzR' width=800>\n"
      ],
      "metadata": {
        "id": "QCPN33DVTgtg"
      }
    },
    {
      "cell_type": "markdown",
      "source": [
        "<img src='https://drive.google.com/uc?id=13ZOOpxWEJNohrYGckpWlxv3z_LSancyU' width=800>\n"
      ],
      "metadata": {
        "id": "tiR44epXTsJQ"
      }
    },
    {
      "cell_type": "markdown",
      "source": [
        "<img src='https://drive.google.com/uc?id=1JgzGDxE_iaAbqAibw1lZqiEhl3raQqOi' width=800>\n"
      ],
      "metadata": {
        "id": "P7RYOGcOUFxH"
      }
    },
    {
      "cell_type": "markdown",
      "source": [
        "**Quiz** (What do you think?)\n",
        "```\n",
        "What would be the partial derivate w.r.t. to w10?\n",
        "A. -2(y-y_hat)\n",
        "B. -2(y-y_hat)* w10\n",
        "C. -2(y-y_hat) * x10\n",
        "\n",
        "Ans: C\n",
        "```"
      ],
      "metadata": {
        "id": "p3RdxvFsiPD-"
      }
    },
    {
      "cell_type": "markdown",
      "source": [
        "#### How to update the weights now?"
      ],
      "metadata": {
        "id": "igj0ZXdWFuw8"
      }
    },
    {
      "cell_type": "markdown",
      "source": [
        "<img src='https://drive.google.com/uc?id=1Izp8avxS_abL6kkWUBEu1d6Tarw6jU9f' width=800>"
      ],
      "metadata": {
        "id": "RuIQD-lHUK5w"
      }
    },
    {
      "cell_type": "markdown",
      "source": [
        "<img src='https://drive.google.com/uc?id=1-iojpPIs3TwW3TKvUXYUlsEFIXDSezat' width=800>\n"
      ],
      "metadata": {
        "id": "06-6xgtlUbkD"
      }
    },
    {
      "cell_type": "markdown",
      "source": [
        "**Quiz** (Check your understanding)\n",
        "\n",
        "```\n",
        "What is the objective of Gradient Descent in linear regression?\n",
        "A) Minimize the absolute error\n",
        "B) Minimize the squared error\n",
        "C) Maximize the R-squared score\n",
        "D) Maximize the accuracy\n",
        "\n",
        "Correct Answer: B) Minimize the squared error\n",
        "```"
      ],
      "metadata": {
        "id": "1P8qv0wKhnfG"
      }
    },
    {
      "cell_type": "markdown",
      "source": [
        "\n",
        "**What is the importance of learning rate (α/η)?**\n",
        "\n",
        "α/η is considered as a step size which when iterated over will reach minima of the cost function.\n",
        "\n",
        "- Since Learning rate defines the size of a jump or step size.\n",
        "  - Too small a value -> the updates will happen very slowly.\n",
        "  - A large value -> it may overshoot the minima.\n",
        "\n",
        "- Then we have to iterate back again to reach the minimum. At times it results in oscillations back and forth.\n",
        "\n",
        "- One hack that you can do is we should decrease the value of η as iteration increases. This helps to reach minima more easily and not overshoot."
      ],
      "metadata": {
        "id": "wO-TX0YvFw0b"
      }
    },
    {
      "cell_type": "markdown",
      "source": [
        "**Quiz** (Check your understanding)\n",
        "\n",
        "```\n",
        "What will happen if we add the value instead of subtracting from the original weight?\n",
        "A. The model will  diverge instead of converging towards the optimal solution.\n",
        "B. The model will convergse, but very slowly\n",
        "C. The model will converse very fast\n",
        "\n",
        "Ans: A\n",
        "```"
      ],
      "metadata": {
        "id": "gN3f_FDuiy3t"
      }
    },
    {
      "cell_type": "markdown",
      "source": [
        "**Quiz** (Check your understanding)\n",
        "\n",
        "```\n",
        "What happens if the learning rate in gradient descent for linear regression is set too large?\n",
        "A) The algorithm may fail to converge, and the coefficients may oscillate or diverge.\n",
        "B) The algorithm will converge faster to the optimal solution.\n",
        "C) The model will overfit the training data, leading to poor generalization.\n",
        "D) The cost function will be overestimated, resulting in an inflated R2 score.\n",
        "\n",
        "Correct Answer: The algorithm may fail to converge, and the coefficients may oscillate or diverge.\n",
        "\n",
        "```"
      ],
      "metadata": {
        "id": "EimWwyTSgVth"
      }
    },
    {
      "cell_type": "markdown",
      "source": [
        "## Implementation of weights update using gradient descent, and fit function"
      ],
      "metadata": {
        "id": "R4SPBrZi0IQk"
      }
    },
    {
      "cell_type": "markdown",
      "source": [
        "Let's code the weights updation function now\n"
      ],
      "metadata": {
        "id": "AGlqzggk8x6A"
      }
    },
    {
      "cell_type": "markdown",
      "source": [
        "<img src='https://drive.google.com/uc?id=1nvZYOc1y9lNGyfeMhUvDVpI2BxLeFUQW' width=800>"
      ],
      "metadata": {
        "id": "OY_ZRKKwYcXs"
      }
    },
    {
      "cell_type": "markdown",
      "source": [
        "#### Why are we taking transpose of X?\n",
        "- Shape of X=(m,n)\n",
        "\n",
        "- Shape of Error=(m,1)\n",
        "\n",
        "To multiply, we transpose the X data as per multiplication rules\n",
        "\n",
        "Output shape will be = (n,1)"
      ],
      "metadata": {
        "id": "fHy358PKQfRR"
      }
    },
    {
      "cell_type": "code",
      "source": [
        "def update_weights(self):\n",
        "  Y_pred = self.predict( self.X )\n",
        "  # calculate gradients\n",
        "  dW = - (2*(self.X.T ).dot(self.Y - Y_pred))/self.m\n",
        "  db = - 2*np.sum(self.Y - Y_pred)/self.m\n",
        "  # print(self.X.shape, (self.Y-Y_pred).shape, dW.shape)\n",
        "  # update weights\n",
        "  self.W = self.W - self.learning_rate * dW\n",
        "  self.b = self.b - self.learning_rate * db\n",
        "  return self\n",
        "\n",
        "LinearRegression.update_weights=update_weights"
      ],
      "metadata": {
        "id": "QqcQ0J6AEhaW"
      },
      "execution_count": null,
      "outputs": []
    },
    {
      "cell_type": "markdown",
      "source": [
        "<!-- **Note:**\n",
        "- Using 1 point of updation is called stochastic gradient descent.\n",
        "- Whereas if we update the weights after m points, it's called batch gradient descent. -->"
      ],
      "metadata": {
        "id": "J9NElsFFGutj"
      }
    },
    {
      "cell_type": "code",
      "source": [],
      "metadata": {
        "id": "mn69owRMOJm9"
      },
      "execution_count": null,
      "outputs": []
    },
    {
      "cell_type": "markdown",
      "source": [
        "<!-- **Quiz** (Check your understanding)\n",
        "```\n",
        "Which variant of Gradient Descent uses the entire dataset to compute the gradient at each iteration?\n",
        "A) Mini-batch Gradient Descent\n",
        "B) Stochastic Gradient Descent\n",
        "C) Batch Gradient Descent\n",
        "D) Regularized Gradient Descent\n",
        "\n",
        "Correct Answer: C) Batch Gradient Descent\n",
        "\n",
        "``` -->"
      ],
      "metadata": {
        "id": "CKJtWpo6hWf4"
      }
    },
    {
      "cell_type": "markdown",
      "source": [
        "Now finally, since we have all the required functions, </br>\n",
        "let's code the `fit` function now to fit our model to our data."
      ],
      "metadata": {
        "id": "OVUXgyLkxOrh"
      }
    },
    {
      "cell_type": "code",
      "source": [
        "def fit(self, X, Y):\n",
        "  # no_of_training_examples, no_of_features\n",
        "  self.m, self.d = X.shape\n",
        "  # weight initialization\n",
        "  self.W = np.zeros(self.d)\n",
        "  self.b = 0\n",
        "  self.X = X\n",
        "  self.Y = Y\n",
        "  self.error_list=[]\n",
        "  # gradient descent learning\n",
        "  for i in range(self.iterations):\n",
        "    self.update_weights()\n",
        "    Y_pred=X.dot(self.W)+self.b\n",
        "    error=np.square(np.subtract(Y,Y_pred)).mean()\n",
        "    self.error_list.append(error)\n",
        "  return self\n",
        "\n",
        "LinearRegression.fit=fit"
      ],
      "metadata": {
        "id": "aSX-Z-HUJaPb"
      },
      "execution_count": null,
      "outputs": []
    },
    {
      "cell_type": "markdown",
      "source": [
        "Let's train our model now on our data"
      ],
      "metadata": {
        "id": "fodLifRpy1SL"
      }
    },
    {
      "cell_type": "code",
      "source": [
        "import numpy as np\n",
        "import pandas as pd\n",
        "import matplotlib.pyplot as plt\n",
        "\n",
        "# !gdown 1UpLnYA48Vy_lGUMMLG-uQE1gf_Je12Lh\n",
        "\n",
        "!gdown 1Uf8npawLbGPDBu9HBfNcvzhf_PdL9RhX"
      ],
      "metadata": {
        "colab": {
          "base_uri": "https://localhost:8080/"
        },
        "id": "cWjWL56kKiyq",
        "outputId": "5dcecb25-9859-489a-8acb-f9a54a11c3cd"
      },
      "execution_count": null,
      "outputs": [
        {
          "output_type": "stream",
          "name": "stdout",
          "text": [
            "Downloading...\n",
            "From: https://drive.google.com/uc?id=1Uf8npawLbGPDBu9HBfNcvzhf_PdL9RhX\n",
            "To: /content/cars24-car-price-clean-new.csv\n",
            "100% 6.57M/6.57M [00:00<00:00, 45.1MB/s]\n"
          ]
        }
      ]
    },
    {
      "cell_type": "code",
      "source": [
        "df = pd.read_csv('cars24-car-price-clean-new.csv')\n",
        "df.head()"
      ],
      "metadata": {
        "colab": {
          "base_uri": "https://localhost:8080/",
          "height": 244
        },
        "id": "GA-MEmss3oce",
        "outputId": "5ede3680-5b90-433a-a671-69c7bcfd0dfe"
      },
      "execution_count": null,
      "outputs": [
        {
          "output_type": "execute_result",
          "data": {
            "text/plain": [
              "   selling_price  km_driven   mileage    engine  max_power       age  \\\n",
              "0      -1.111046   1.195828  0.045745 -1.310754  -1.157780  0.801317   \n",
              "1      -0.223944  -0.737872 -0.140402 -0.537456  -0.360203 -0.450030   \n",
              "2      -0.915058   0.035608 -0.582501 -0.537456  -0.404885  1.426990   \n",
              "3      -0.892365  -0.409143  0.329620 -0.921213  -0.693085  0.801317   \n",
              "4      -0.182683  -0.544502  0.760085  0.042999   0.010435 -0.137194   \n",
              "\n",
              "       make     model  Individual  Trustmark Dealer    Diesel  Electric  \\\n",
              "0 -0.433854 -1.125683    1.248892         -0.098382 -0.985275 -0.020095   \n",
              "1 -0.327501 -0.333227    1.248892         -0.098382 -0.985275 -0.020095   \n",
              "2 -0.327501 -0.789807    1.248892         -0.098382 -0.985275 -0.020095   \n",
              "3 -0.433854 -0.905265    1.248892         -0.098382 -0.985275 -0.020095   \n",
              "4 -0.246579 -0.013096   -0.800710         -0.098382  1.014945 -0.020095   \n",
              "\n",
              "        LPG    Petrol    Manual         5        >5  \n",
              "0 -0.056917  1.024622  0.495818  0.444503 -0.424728  \n",
              "1 -0.056917  1.024622  0.495818  0.444503 -0.424728  \n",
              "2 -0.056917  1.024622  0.495818  0.444503 -0.424728  \n",
              "3 -0.056917  1.024622  0.495818  0.444503 -0.424728  \n",
              "4 -0.056917 -0.975970  0.495818  0.444503 -0.424728  "
            ],
            "text/html": [
              "\n",
              "  <div id=\"df-c908e280-1436-4f58-858d-1674842ee54f\" class=\"colab-df-container\">\n",
              "    <div>\n",
              "<style scoped>\n",
              "    .dataframe tbody tr th:only-of-type {\n",
              "        vertical-align: middle;\n",
              "    }\n",
              "\n",
              "    .dataframe tbody tr th {\n",
              "        vertical-align: top;\n",
              "    }\n",
              "\n",
              "    .dataframe thead th {\n",
              "        text-align: right;\n",
              "    }\n",
              "</style>\n",
              "<table border=\"1\" class=\"dataframe\">\n",
              "  <thead>\n",
              "    <tr style=\"text-align: right;\">\n",
              "      <th></th>\n",
              "      <th>selling_price</th>\n",
              "      <th>km_driven</th>\n",
              "      <th>mileage</th>\n",
              "      <th>engine</th>\n",
              "      <th>max_power</th>\n",
              "      <th>age</th>\n",
              "      <th>make</th>\n",
              "      <th>model</th>\n",
              "      <th>Individual</th>\n",
              "      <th>Trustmark Dealer</th>\n",
              "      <th>Diesel</th>\n",
              "      <th>Electric</th>\n",
              "      <th>LPG</th>\n",
              "      <th>Petrol</th>\n",
              "      <th>Manual</th>\n",
              "      <th>5</th>\n",
              "      <th>&gt;5</th>\n",
              "    </tr>\n",
              "  </thead>\n",
              "  <tbody>\n",
              "    <tr>\n",
              "      <th>0</th>\n",
              "      <td>-1.111046</td>\n",
              "      <td>1.195828</td>\n",
              "      <td>0.045745</td>\n",
              "      <td>-1.310754</td>\n",
              "      <td>-1.157780</td>\n",
              "      <td>0.801317</td>\n",
              "      <td>-0.433854</td>\n",
              "      <td>-1.125683</td>\n",
              "      <td>1.248892</td>\n",
              "      <td>-0.098382</td>\n",
              "      <td>-0.985275</td>\n",
              "      <td>-0.020095</td>\n",
              "      <td>-0.056917</td>\n",
              "      <td>1.024622</td>\n",
              "      <td>0.495818</td>\n",
              "      <td>0.444503</td>\n",
              "      <td>-0.424728</td>\n",
              "    </tr>\n",
              "    <tr>\n",
              "      <th>1</th>\n",
              "      <td>-0.223944</td>\n",
              "      <td>-0.737872</td>\n",
              "      <td>-0.140402</td>\n",
              "      <td>-0.537456</td>\n",
              "      <td>-0.360203</td>\n",
              "      <td>-0.450030</td>\n",
              "      <td>-0.327501</td>\n",
              "      <td>-0.333227</td>\n",
              "      <td>1.248892</td>\n",
              "      <td>-0.098382</td>\n",
              "      <td>-0.985275</td>\n",
              "      <td>-0.020095</td>\n",
              "      <td>-0.056917</td>\n",
              "      <td>1.024622</td>\n",
              "      <td>0.495818</td>\n",
              "      <td>0.444503</td>\n",
              "      <td>-0.424728</td>\n",
              "    </tr>\n",
              "    <tr>\n",
              "      <th>2</th>\n",
              "      <td>-0.915058</td>\n",
              "      <td>0.035608</td>\n",
              "      <td>-0.582501</td>\n",
              "      <td>-0.537456</td>\n",
              "      <td>-0.404885</td>\n",
              "      <td>1.426990</td>\n",
              "      <td>-0.327501</td>\n",
              "      <td>-0.789807</td>\n",
              "      <td>1.248892</td>\n",
              "      <td>-0.098382</td>\n",
              "      <td>-0.985275</td>\n",
              "      <td>-0.020095</td>\n",
              "      <td>-0.056917</td>\n",
              "      <td>1.024622</td>\n",
              "      <td>0.495818</td>\n",
              "      <td>0.444503</td>\n",
              "      <td>-0.424728</td>\n",
              "    </tr>\n",
              "    <tr>\n",
              "      <th>3</th>\n",
              "      <td>-0.892365</td>\n",
              "      <td>-0.409143</td>\n",
              "      <td>0.329620</td>\n",
              "      <td>-0.921213</td>\n",
              "      <td>-0.693085</td>\n",
              "      <td>0.801317</td>\n",
              "      <td>-0.433854</td>\n",
              "      <td>-0.905265</td>\n",
              "      <td>1.248892</td>\n",
              "      <td>-0.098382</td>\n",
              "      <td>-0.985275</td>\n",
              "      <td>-0.020095</td>\n",
              "      <td>-0.056917</td>\n",
              "      <td>1.024622</td>\n",
              "      <td>0.495818</td>\n",
              "      <td>0.444503</td>\n",
              "      <td>-0.424728</td>\n",
              "    </tr>\n",
              "    <tr>\n",
              "      <th>4</th>\n",
              "      <td>-0.182683</td>\n",
              "      <td>-0.544502</td>\n",
              "      <td>0.760085</td>\n",
              "      <td>0.042999</td>\n",
              "      <td>0.010435</td>\n",
              "      <td>-0.137194</td>\n",
              "      <td>-0.246579</td>\n",
              "      <td>-0.013096</td>\n",
              "      <td>-0.800710</td>\n",
              "      <td>-0.098382</td>\n",
              "      <td>1.014945</td>\n",
              "      <td>-0.020095</td>\n",
              "      <td>-0.056917</td>\n",
              "      <td>-0.975970</td>\n",
              "      <td>0.495818</td>\n",
              "      <td>0.444503</td>\n",
              "      <td>-0.424728</td>\n",
              "    </tr>\n",
              "  </tbody>\n",
              "</table>\n",
              "</div>\n",
              "    <div class=\"colab-df-buttons\">\n",
              "\n",
              "  <div class=\"colab-df-container\">\n",
              "    <button class=\"colab-df-convert\" onclick=\"convertToInteractive('df-c908e280-1436-4f58-858d-1674842ee54f')\"\n",
              "            title=\"Convert this dataframe to an interactive table.\"\n",
              "            style=\"display:none;\">\n",
              "\n",
              "  <svg xmlns=\"http://www.w3.org/2000/svg\" height=\"24px\" viewBox=\"0 -960 960 960\">\n",
              "    <path d=\"M120-120v-720h720v720H120Zm60-500h600v-160H180v160Zm220 220h160v-160H400v160Zm0 220h160v-160H400v160ZM180-400h160v-160H180v160Zm440 0h160v-160H620v160ZM180-180h160v-160H180v160Zm440 0h160v-160H620v160Z\"/>\n",
              "  </svg>\n",
              "    </button>\n",
              "\n",
              "  <style>\n",
              "    .colab-df-container {\n",
              "      display:flex;\n",
              "      gap: 12px;\n",
              "    }\n",
              "\n",
              "    .colab-df-convert {\n",
              "      background-color: #E8F0FE;\n",
              "      border: none;\n",
              "      border-radius: 50%;\n",
              "      cursor: pointer;\n",
              "      display: none;\n",
              "      fill: #1967D2;\n",
              "      height: 32px;\n",
              "      padding: 0 0 0 0;\n",
              "      width: 32px;\n",
              "    }\n",
              "\n",
              "    .colab-df-convert:hover {\n",
              "      background-color: #E2EBFA;\n",
              "      box-shadow: 0px 1px 2px rgba(60, 64, 67, 0.3), 0px 1px 3px 1px rgba(60, 64, 67, 0.15);\n",
              "      fill: #174EA6;\n",
              "    }\n",
              "\n",
              "    .colab-df-buttons div {\n",
              "      margin-bottom: 4px;\n",
              "    }\n",
              "\n",
              "    [theme=dark] .colab-df-convert {\n",
              "      background-color: #3B4455;\n",
              "      fill: #D2E3FC;\n",
              "    }\n",
              "\n",
              "    [theme=dark] .colab-df-convert:hover {\n",
              "      background-color: #434B5C;\n",
              "      box-shadow: 0px 1px 3px 1px rgba(0, 0, 0, 0.15);\n",
              "      filter: drop-shadow(0px 1px 2px rgba(0, 0, 0, 0.3));\n",
              "      fill: #FFFFFF;\n",
              "    }\n",
              "  </style>\n",
              "\n",
              "    <script>\n",
              "      const buttonEl =\n",
              "        document.querySelector('#df-c908e280-1436-4f58-858d-1674842ee54f button.colab-df-convert');\n",
              "      buttonEl.style.display =\n",
              "        google.colab.kernel.accessAllowed ? 'block' : 'none';\n",
              "\n",
              "      async function convertToInteractive(key) {\n",
              "        const element = document.querySelector('#df-c908e280-1436-4f58-858d-1674842ee54f');\n",
              "        const dataTable =\n",
              "          await google.colab.kernel.invokeFunction('convertToInteractive',\n",
              "                                                    [key], {});\n",
              "        if (!dataTable) return;\n",
              "\n",
              "        const docLinkHtml = 'Like what you see? Visit the ' +\n",
              "          '<a target=\"_blank\" href=https://colab.research.google.com/notebooks/data_table.ipynb>data table notebook</a>'\n",
              "          + ' to learn more about interactive tables.';\n",
              "        element.innerHTML = '';\n",
              "        dataTable['output_type'] = 'display_data';\n",
              "        await google.colab.output.renderOutput(dataTable, element);\n",
              "        const docLink = document.createElement('div');\n",
              "        docLink.innerHTML = docLinkHtml;\n",
              "        element.appendChild(docLink);\n",
              "      }\n",
              "    </script>\n",
              "  </div>\n",
              "\n",
              "\n",
              "<div id=\"df-ee9fa7e4-94d1-46d0-98b9-d57d91c69b14\">\n",
              "  <button class=\"colab-df-quickchart\" onclick=\"quickchart('df-ee9fa7e4-94d1-46d0-98b9-d57d91c69b14')\"\n",
              "            title=\"Suggest charts\"\n",
              "            style=\"display:none;\">\n",
              "\n",
              "<svg xmlns=\"http://www.w3.org/2000/svg\" height=\"24px\"viewBox=\"0 0 24 24\"\n",
              "     width=\"24px\">\n",
              "    <g>\n",
              "        <path d=\"M19 3H5c-1.1 0-2 .9-2 2v14c0 1.1.9 2 2 2h14c1.1 0 2-.9 2-2V5c0-1.1-.9-2-2-2zM9 17H7v-7h2v7zm4 0h-2V7h2v10zm4 0h-2v-4h2v4z\"/>\n",
              "    </g>\n",
              "</svg>\n",
              "  </button>\n",
              "\n",
              "<style>\n",
              "  .colab-df-quickchart {\n",
              "      --bg-color: #E8F0FE;\n",
              "      --fill-color: #1967D2;\n",
              "      --hover-bg-color: #E2EBFA;\n",
              "      --hover-fill-color: #174EA6;\n",
              "      --disabled-fill-color: #AAA;\n",
              "      --disabled-bg-color: #DDD;\n",
              "  }\n",
              "\n",
              "  [theme=dark] .colab-df-quickchart {\n",
              "      --bg-color: #3B4455;\n",
              "      --fill-color: #D2E3FC;\n",
              "      --hover-bg-color: #434B5C;\n",
              "      --hover-fill-color: #FFFFFF;\n",
              "      --disabled-bg-color: #3B4455;\n",
              "      --disabled-fill-color: #666;\n",
              "  }\n",
              "\n",
              "  .colab-df-quickchart {\n",
              "    background-color: var(--bg-color);\n",
              "    border: none;\n",
              "    border-radius: 50%;\n",
              "    cursor: pointer;\n",
              "    display: none;\n",
              "    fill: var(--fill-color);\n",
              "    height: 32px;\n",
              "    padding: 0;\n",
              "    width: 32px;\n",
              "  }\n",
              "\n",
              "  .colab-df-quickchart:hover {\n",
              "    background-color: var(--hover-bg-color);\n",
              "    box-shadow: 0 1px 2px rgba(60, 64, 67, 0.3), 0 1px 3px 1px rgba(60, 64, 67, 0.15);\n",
              "    fill: var(--button-hover-fill-color);\n",
              "  }\n",
              "\n",
              "  .colab-df-quickchart-complete:disabled,\n",
              "  .colab-df-quickchart-complete:disabled:hover {\n",
              "    background-color: var(--disabled-bg-color);\n",
              "    fill: var(--disabled-fill-color);\n",
              "    box-shadow: none;\n",
              "  }\n",
              "\n",
              "  .colab-df-spinner {\n",
              "    border: 2px solid var(--fill-color);\n",
              "    border-color: transparent;\n",
              "    border-bottom-color: var(--fill-color);\n",
              "    animation:\n",
              "      spin 1s steps(1) infinite;\n",
              "  }\n",
              "\n",
              "  @keyframes spin {\n",
              "    0% {\n",
              "      border-color: transparent;\n",
              "      border-bottom-color: var(--fill-color);\n",
              "      border-left-color: var(--fill-color);\n",
              "    }\n",
              "    20% {\n",
              "      border-color: transparent;\n",
              "      border-left-color: var(--fill-color);\n",
              "      border-top-color: var(--fill-color);\n",
              "    }\n",
              "    30% {\n",
              "      border-color: transparent;\n",
              "      border-left-color: var(--fill-color);\n",
              "      border-top-color: var(--fill-color);\n",
              "      border-right-color: var(--fill-color);\n",
              "    }\n",
              "    40% {\n",
              "      border-color: transparent;\n",
              "      border-right-color: var(--fill-color);\n",
              "      border-top-color: var(--fill-color);\n",
              "    }\n",
              "    60% {\n",
              "      border-color: transparent;\n",
              "      border-right-color: var(--fill-color);\n",
              "    }\n",
              "    80% {\n",
              "      border-color: transparent;\n",
              "      border-right-color: var(--fill-color);\n",
              "      border-bottom-color: var(--fill-color);\n",
              "    }\n",
              "    90% {\n",
              "      border-color: transparent;\n",
              "      border-bottom-color: var(--fill-color);\n",
              "    }\n",
              "  }\n",
              "</style>\n",
              "\n",
              "  <script>\n",
              "    async function quickchart(key) {\n",
              "      const quickchartButtonEl =\n",
              "        document.querySelector('#' + key + ' button');\n",
              "      quickchartButtonEl.disabled = true;  // To prevent multiple clicks.\n",
              "      quickchartButtonEl.classList.add('colab-df-spinner');\n",
              "      try {\n",
              "        const charts = await google.colab.kernel.invokeFunction(\n",
              "            'suggestCharts', [key], {});\n",
              "      } catch (error) {\n",
              "        console.error('Error during call to suggestCharts:', error);\n",
              "      }\n",
              "      quickchartButtonEl.classList.remove('colab-df-spinner');\n",
              "      quickchartButtonEl.classList.add('colab-df-quickchart-complete');\n",
              "    }\n",
              "    (() => {\n",
              "      let quickchartButtonEl =\n",
              "        document.querySelector('#df-ee9fa7e4-94d1-46d0-98b9-d57d91c69b14 button');\n",
              "      quickchartButtonEl.style.display =\n",
              "        google.colab.kernel.accessAllowed ? 'block' : 'none';\n",
              "    })();\n",
              "  </script>\n",
              "</div>\n",
              "    </div>\n",
              "  </div>\n"
            ],
            "application/vnd.google.colaboratory.intrinsic+json": {
              "type": "dataframe",
              "variable_name": "df",
              "summary": "{\n  \"name\": \"df\",\n  \"rows\": 19820,\n  \"fields\": [\n    {\n      \"column\": \"selling_price\",\n      \"properties\": {\n        \"dtype\": \"number\",\n        \"std\": 1.0000252279980362,\n        \"min\": -1.2967184783736836,\n        \"max\": 2.953636494022545,\n        \"samples\": [\n          -1.0966046900846724,\n          2.9221753056575284,\n          0.6466545996494959\n        ],\n        \"num_unique_values\": 964,\n        \"semantic_type\": \"\",\n        \"description\": \"\"\n      }\n    },\n    {\n      \"column\": \"km_driven\",\n      \"properties\": {\n        \"dtype\": \"number\",\n        \"std\": 1.0000252279980362,\n        \"min\": -1.1226784261830776,\n        \"max\": 72.35599712942987,\n        \"samples\": [\n          1.518756106540607,\n          0.4068784664848833,\n          0.6109805271942427\n        ],\n        \"num_unique_values\": 4476,\n        \"semantic_type\": \"\",\n        \"description\": \"\"\n      }\n    },\n    {\n      \"column\": \"mileage\",\n      \"properties\": {\n        \"dtype\": \"number\",\n        \"std\": 1.0000252279980362,\n        \"min\": -3.6073926293699374,\n        \"max\": 23.38394396843033,\n        \"samples\": [\n          0.2342191570928419,\n          -2.4672413420490646,\n          -0.1869387674073179\n        ],\n        \"num_unique_values\": 532,\n        \"semantic_type\": \"\",\n        \"description\": \"\"\n      }\n    },\n    {\n      \"column\": \"engine\",\n      \"properties\": {\n        \"dtype\": \"number\",\n        \"std\": 1.0000252279980362,\n        \"min\": -2.845779992071435,\n        \"max\": 10.174939330091336,\n        \"samples\": [\n          -0.4506772968513284,\n          1.7033723895905872,\n          -2.812996782877601\n        ],\n        \"num_unique_values\": 167,\n        \"semantic_type\": \"\",\n        \"description\": \"\"\n      }\n    },\n    {\n      \"column\": \"max_power\",\n      \"properties\": {\n        \"dtype\": \"number\",\n        \"std\": 1.0000252279980364,\n        \"min\": -2.080466136868828,\n        \"max\": 11.79334329235809,\n        \"samples\": [\n          -0.2972012920364724,\n          10.653948315078583,\n          0.1201300447396289\n        ],\n        \"num_unique_values\": 484,\n        \"semantic_type\": \"\",\n        \"description\": \"\"\n      }\n    },\n    {\n      \"column\": \"age\",\n      \"properties\": {\n        \"dtype\": \"number\",\n        \"std\": 1.0000252279980362,\n        \"min\": -2.0142138122928377,\n        \"max\": 7.058050669336454,\n        \"samples\": [\n          0.1756431315487155,\n          -1.701377106029759,\n          1.1141532503379528\n        ],\n        \"num_unique_values\": 27,\n        \"semantic_type\": \"\",\n        \"description\": \"\"\n      }\n    },\n    {\n      \"column\": \"make\",\n      \"properties\": {\n        \"dtype\": \"number\",\n        \"std\": 1.0000252279980364,\n        \"min\": -1.2916194225397517,\n        \"max\": 3.3607734981578625,\n        \"samples\": [\n          0.7244753106436638,\n          -0.0847370249230741,\n          3.3607734981578625\n        ],\n        \"num_unique_values\": 28,\n        \"semantic_type\": \"\",\n        \"description\": \"\"\n      }\n    },\n    {\n      \"column\": \"model\",\n      \"properties\": {\n        \"dtype\": \"number\",\n        \"std\": 1.0000252279980362,\n        \"min\": -1.3093644088783905,\n        \"max\": 3.010305593731527,\n        \"samples\": [\n          0.5012128610771729,\n          -0.8233949735222015,\n          -0.8895204042510134\n        ],\n        \"num_unique_values\": 811,\n        \"semantic_type\": \"\",\n        \"description\": \"\"\n      }\n    },\n    {\n      \"column\": \"Individual\",\n      \"properties\": {\n        \"dtype\": \"number\",\n        \"std\": 1.0000252279980362,\n        \"min\": -0.800709712517256,\n        \"max\": 1.2488920570929742,\n        \"samples\": [\n          -0.800709712517256,\n          1.2488920570929742\n        ],\n        \"num_unique_values\": 2,\n        \"semantic_type\": \"\",\n        \"description\": \"\"\n      }\n    },\n    {\n      \"column\": \"Trustmark Dealer\",\n      \"properties\": {\n        \"dtype\": \"number\",\n        \"std\": 1.0000252279980357,\n        \"min\": -0.0983822273543098,\n        \"max\": 10.164437489290007,\n        \"samples\": [\n          10.164437489290007,\n          -0.0983822273543098\n        ],\n        \"num_unique_values\": 2,\n        \"semantic_type\": \"\",\n        \"description\": \"\"\n      }\n    },\n    {\n      \"column\": \"Diesel\",\n      \"properties\": {\n        \"dtype\": \"number\",\n        \"std\": 1.0000252279980366,\n        \"min\": -0.9852749008311416,\n        \"max\": 1.014945168253487,\n        \"samples\": [\n          1.014945168253487,\n          -0.9852749008311416\n        ],\n        \"num_unique_values\": 2,\n        \"semantic_type\": \"\",\n        \"description\": \"\"\n      }\n    },\n    {\n      \"column\": \"Electric\",\n      \"properties\": {\n        \"dtype\": \"number\",\n        \"std\": 1.0000252279980357,\n        \"min\": -0.0200946679342115,\n        \"max\": 49.76444513907494,\n        \"samples\": [\n          49.76444513907494,\n          -0.0200946679342115\n        ],\n        \"num_unique_values\": 2,\n        \"semantic_type\": \"\",\n        \"description\": \"\"\n      }\n    },\n    {\n      \"column\": \"LPG\",\n      \"properties\": {\n        \"dtype\": \"number\",\n        \"std\": 1.000025227998036,\n        \"min\": -0.0569168004237751,\n        \"max\": 17.569504830814097,\n        \"samples\": [\n          17.569504830814097,\n          -0.0569168004237751\n        ],\n        \"num_unique_values\": 2,\n        \"semantic_type\": \"\",\n        \"description\": \"\"\n      }\n    },\n    {\n      \"column\": \"Petrol\",\n      \"properties\": {\n        \"dtype\": \"number\",\n        \"std\": 1.000025227998036,\n        \"min\": -0.9759697707407052,\n        \"max\": 1.0246218991404383,\n        \"samples\": [\n          -0.9759697707407052,\n          1.0246218991404383\n        ],\n        \"num_unique_values\": 2,\n        \"semantic_type\": \"\",\n        \"description\": \"\"\n      }\n    },\n    {\n      \"column\": \"Manual\",\n      \"properties\": {\n        \"dtype\": \"number\",\n        \"std\": 1.000025227998036,\n        \"min\": -2.0168682670789857,\n        \"max\": 0.4958182030640464,\n        \"samples\": [\n          -2.0168682670789857,\n          0.4958182030640464\n        ],\n        \"num_unique_values\": 2,\n        \"semantic_type\": \"\",\n        \"description\": \"\"\n      }\n    },\n    {\n      \"column\": \"5\",\n      \"properties\": {\n        \"dtype\": \"number\",\n        \"std\": 1.0000252279980362,\n        \"min\": -2.249702664689426,\n        \"max\": 0.4445031851078201,\n        \"samples\": [\n          -2.249702664689426,\n          0.4445031851078201\n        ],\n        \"num_unique_values\": 2,\n        \"semantic_type\": \"\",\n        \"description\": \"\"\n      }\n    },\n    {\n      \"column\": \">5\",\n      \"properties\": {\n        \"dtype\": \"number\",\n        \"std\": 1.0000252279980366,\n        \"min\": -0.4247284530486916,\n        \"max\": 2.354445511766452,\n        \"samples\": [\n          2.354445511766452,\n          -0.4247284530486916\n        ],\n        \"num_unique_values\": 2,\n        \"semantic_type\": \"\",\n        \"description\": \"\"\n      }\n    }\n  ]\n}"
            }
          },
          "metadata": {},
          "execution_count": 15
        }
      ]
    },
    {
      "cell_type": "code",
      "source": [
        "# define X and y\n",
        "X = df.drop('selling_price', axis=1)\n",
        "y = df[\"selling_price\"]"
      ],
      "metadata": {
        "id": "w6pMF1xZ3oS1"
      },
      "execution_count": null,
      "outputs": []
    },
    {
      "cell_type": "code",
      "source": [
        "from sklearn.model_selection import train_test_split\n",
        "X_train, X_test, y_train, y_test = train_test_split(X, y, test_size=0.2, random_state=10)"
      ],
      "metadata": {
        "id": "_2zVamTby5s_"
      },
      "execution_count": null,
      "outputs": []
    },
    {
      "cell_type": "code",
      "source": [
        "lr = LinearRegression(iterations=100)\n",
        "lr.fit(X_train, y_train)"
      ],
      "metadata": {
        "colab": {
          "base_uri": "https://localhost:8080/"
        },
        "id": "_YiKi0tmKs3h",
        "outputId": "4ee3e070-fe5f-46aa-852c-2235578cf902"
      },
      "execution_count": null,
      "outputs": [
        {
          "output_type": "execute_result",
          "data": {
            "text/plain": [
              "<__main__.LinearRegression at 0x78a9602ad0c0>"
            ]
          },
          "metadata": {},
          "execution_count": 18
        }
      ]
    },
    {
      "cell_type": "code",
      "source": [
        "lr.predict(X_test)"
      ],
      "metadata": {
        "colab": {
          "base_uri": "https://localhost:8080/"
        },
        "id": "WNgU6R5yLFkW",
        "outputId": "ac334263-dd65-45c6-ab2d-d0178709818d"
      },
      "execution_count": null,
      "outputs": [
        {
          "output_type": "execute_result",
          "data": {
            "text/plain": [
              "array([-0.83294987, -0.29658151,  2.45589861, ...,  0.64007471,\n",
              "       -0.56647691,  0.08585621])"
            ]
          },
          "metadata": {},
          "execution_count": 19
        }
      ]
    },
    {
      "cell_type": "code",
      "source": [
        "lr.score(X_train, y_train)"
      ],
      "metadata": {
        "colab": {
          "base_uri": "https://localhost:8080/"
        },
        "id": "8ogBuk8vzVqU",
        "outputId": "11a09d82-3c4a-494d-bc8b-1a870ea1b7af"
      },
      "execution_count": null,
      "outputs": [
        {
          "output_type": "execute_result",
          "data": {
            "text/plain": [
              "0.912359951740886"
            ]
          },
          "metadata": {},
          "execution_count": 20
        }
      ]
    },
    {
      "cell_type": "code",
      "source": [
        "lr.score(X_test, y_test)"
      ],
      "metadata": {
        "colab": {
          "base_uri": "https://localhost:8080/"
        },
        "id": "RrdvositLJt4",
        "outputId": "644a97d4-56d6-4bea-ad01-7f83010fd381"
      },
      "execution_count": null,
      "outputs": [
        {
          "output_type": "execute_result",
          "data": {
            "text/plain": [
              "0.9069471656845405"
            ]
          },
          "metadata": {},
          "execution_count": 21
        }
      ]
    },
    {
      "cell_type": "code",
      "source": [
        "lr.W"
      ],
      "metadata": {
        "colab": {
          "base_uri": "https://localhost:8080/"
        },
        "id": "1qRLVwYELhco",
        "outputId": "4503887d-abb1-48a4-918b-e84609aef3cd"
      },
      "execution_count": null,
      "outputs": [
        {
          "output_type": "execute_result",
          "data": {
            "text/plain": [
              "km_driven          -0.063038\n",
              "mileage            -0.035287\n",
              "engine              0.089335\n",
              "max_power           0.155832\n",
              "age                -0.217855\n",
              "make                0.182077\n",
              "model               0.391643\n",
              "Individual         -0.023537\n",
              "Trustmark Dealer   -0.002862\n",
              "Diesel              0.044246\n",
              "Electric            0.014395\n",
              "LPG                 0.000596\n",
              "Petrol             -0.041739\n",
              "Manual             -0.107224\n",
              "5                  -0.006988\n",
              ">5                  0.007789\n",
              "dtype: float64"
            ]
          },
          "metadata": {},
          "execution_count": 22
        }
      ]
    },
    {
      "cell_type": "code",
      "source": [
        "lr.b"
      ],
      "metadata": {
        "colab": {
          "base_uri": "https://localhost:8080/"
        },
        "id": "SWPkPzBihOjh",
        "outputId": "9da5f40e-2e9c-4c4d-bc99-ef0539f8df2d"
      },
      "execution_count": null,
      "outputs": [
        {
          "output_type": "execute_result",
          "data": {
            "text/plain": [
              "0.0006757364496524553"
            ]
          },
          "metadata": {},
          "execution_count": 23
        }
      ]
    },
    {
      "cell_type": "code",
      "source": [
        "%matplotlib inline\n",
        "fig = plt.figure()\n",
        "plt.plot(lr.error_list)\n",
        "plt.title(\"Reduction in error over time\")\n",
        "plt.xlabel(\"iteration\")\n",
        "plt.ylabel(\"Error\")\n",
        "plt.show()"
      ],
      "metadata": {
        "colab": {
          "base_uri": "https://localhost:8080/",
          "height": 472
        },
        "id": "BovEEioYi-CV",
        "outputId": "dcedab95-bcc8-4b96-af38-92811072b5e9"
      },
      "execution_count": null,
      "outputs": [
        {
          "output_type": "display_data",
          "data": {
            "text/plain": [
              "<Figure size 640x480 with 1 Axes>"
            ],
            "image/png": "[encoded data removed]"
          },
          "metadata": {}
        }
      ]
    }
  ]
}